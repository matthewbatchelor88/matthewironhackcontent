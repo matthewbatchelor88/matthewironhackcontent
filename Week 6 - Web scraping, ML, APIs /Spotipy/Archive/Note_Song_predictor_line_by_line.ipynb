{
 "cells": [
  {
   "cell_type": "markdown",
   "metadata": {
    "id": "ZcSGgeMpeAgy"
   },
   "source": [
    "## Importing libraries"
   ]
  },
  {
   "cell_type": "code",
   "execution_count": 1,
   "metadata": {
    "executionInfo": {
     "elapsed": 1543,
     "status": "ok",
     "timestamp": 1623846916468,
     "user": {
      "displayName": "Ignacio Soteras",
      "photoUrl": "",
      "userId": "02050793736257155229"
     },
     "user_tz": -120
    },
    "id": "MVmBiWjsd2Xd"
   },
   "outputs": [],
   "source": [
    "import numpy as np\n",
    "import pandas as pd\n",
    "import pickle\n",
    "from sklearn import datasets # sklearn comes with some toy datasets to practice\n",
    "from sklearn.preprocessing import StandardScaler\n",
    "from sklearn.cluster import KMeans\n",
    "import matplotlib.pyplot as plt\n",
    "from sklearn.metrics import silhouette_score"
   ]
  },
  {
   "cell_type": "markdown",
   "metadata": {
    "id": "p-MFU-2neT38"
   },
   "source": [
    "## Loading music dataset"
   ]
  },
  {
   "cell_type": "code",
   "execution_count": 2,
   "metadata": {
    "tags": []
   },
   "outputs": [
    {
     "data": {
      "text/html": [
       "<div>\n",
       "<style scoped>\n",
       "    .dataframe tbody tr th:only-of-type {\n",
       "        vertical-align: middle;\n",
       "    }\n",
       "\n",
       "    .dataframe tbody tr th {\n",
       "        vertical-align: top;\n",
       "    }\n",
       "\n",
       "    .dataframe thead th {\n",
       "        text-align: right;\n",
       "    }\n",
       "</style>\n",
       "<table border=\"1\" class=\"dataframe\">\n",
       "  <thead>\n",
       "    <tr style=\"text-align: right;\">\n",
       "      <th></th>\n",
       "      <th>danceability</th>\n",
       "      <th>energy</th>\n",
       "      <th>key</th>\n",
       "      <th>loudness</th>\n",
       "      <th>mode</th>\n",
       "      <th>speechiness</th>\n",
       "      <th>acousticness</th>\n",
       "      <th>instrumentalness</th>\n",
       "      <th>liveness</th>\n",
       "      <th>valence</th>\n",
       "      <th>tempo</th>\n",
       "      <th>id</th>\n",
       "      <th>duration_ms</th>\n",
       "      <th>time_signature</th>\n",
       "    </tr>\n",
       "  </thead>\n",
       "  <tbody>\n",
       "    <tr>\n",
       "      <th>0</th>\n",
       "      <td>0.0623</td>\n",
       "      <td>0.0116</td>\n",
       "      <td>2</td>\n",
       "      <td>-27.893</td>\n",
       "      <td>1</td>\n",
       "      <td>0.0567</td>\n",
       "      <td>0.991</td>\n",
       "      <td>0.445000</td>\n",
       "      <td>0.0816</td>\n",
       "      <td>0.0331</td>\n",
       "      <td>65.057</td>\n",
       "      <td>0S0YKiEdR9cT9pYgEaTevF</td>\n",
       "      <td>415800</td>\n",
       "      <td>3</td>\n",
       "    </tr>\n",
       "    <tr>\n",
       "      <th>1</th>\n",
       "      <td>0.2330</td>\n",
       "      <td>0.0217</td>\n",
       "      <td>1</td>\n",
       "      <td>-29.785</td>\n",
       "      <td>1</td>\n",
       "      <td>0.0413</td>\n",
       "      <td>0.988</td>\n",
       "      <td>0.819000</td>\n",
       "      <td>0.0836</td>\n",
       "      <td>0.0710</td>\n",
       "      <td>66.349</td>\n",
       "      <td>1ZqzUiCQICQmjtpbFZYwnt</td>\n",
       "      <td>253293</td>\n",
       "      <td>3</td>\n",
       "    </tr>\n",
       "    <tr>\n",
       "      <th>2</th>\n",
       "      <td>0.1960</td>\n",
       "      <td>0.0539</td>\n",
       "      <td>5</td>\n",
       "      <td>-28.217</td>\n",
       "      <td>1</td>\n",
       "      <td>0.0438</td>\n",
       "      <td>0.993</td>\n",
       "      <td>0.031600</td>\n",
       "      <td>0.1160</td>\n",
       "      <td>0.0482</td>\n",
       "      <td>132.747</td>\n",
       "      <td>3vA1AS2PWl4RePRCiR36lb</td>\n",
       "      <td>236907</td>\n",
       "      <td>3</td>\n",
       "    </tr>\n",
       "    <tr>\n",
       "      <th>3</th>\n",
       "      <td>0.0986</td>\n",
       "      <td>0.0949</td>\n",
       "      <td>1</td>\n",
       "      <td>-21.002</td>\n",
       "      <td>1</td>\n",
       "      <td>0.0441</td>\n",
       "      <td>0.993</td>\n",
       "      <td>0.353000</td>\n",
       "      <td>0.0847</td>\n",
       "      <td>0.0363</td>\n",
       "      <td>174.628</td>\n",
       "      <td>1aJcDNDrKduMegTZzOemVd</td>\n",
       "      <td>232667</td>\n",
       "      <td>4</td>\n",
       "    </tr>\n",
       "    <tr>\n",
       "      <th>4</th>\n",
       "      <td>0.1370</td>\n",
       "      <td>0.0759</td>\n",
       "      <td>11</td>\n",
       "      <td>-25.740</td>\n",
       "      <td>0</td>\n",
       "      <td>0.0401</td>\n",
       "      <td>0.975</td>\n",
       "      <td>0.263000</td>\n",
       "      <td>0.1050</td>\n",
       "      <td>0.0363</td>\n",
       "      <td>142.767</td>\n",
       "      <td>4htAzv3rkpAzCjo2pW12id</td>\n",
       "      <td>180000</td>\n",
       "      <td>4</td>\n",
       "    </tr>\n",
       "    <tr>\n",
       "      <th>...</th>\n",
       "      <td>...</td>\n",
       "      <td>...</td>\n",
       "      <td>...</td>\n",
       "      <td>...</td>\n",
       "      <td>...</td>\n",
       "      <td>...</td>\n",
       "      <td>...</td>\n",
       "      <td>...</td>\n",
       "      <td>...</td>\n",
       "      <td>...</td>\n",
       "      <td>...</td>\n",
       "      <td>...</td>\n",
       "      <td>...</td>\n",
       "      <td>...</td>\n",
       "    </tr>\n",
       "    <tr>\n",
       "      <th>2924</th>\n",
       "      <td>0.4580</td>\n",
       "      <td>0.1550</td>\n",
       "      <td>10</td>\n",
       "      <td>-17.853</td>\n",
       "      <td>1</td>\n",
       "      <td>0.0405</td>\n",
       "      <td>0.908</td>\n",
       "      <td>0.621000</td>\n",
       "      <td>0.2990</td>\n",
       "      <td>0.2760</td>\n",
       "      <td>126.281</td>\n",
       "      <td>2bPeAxNC1S1C359ds8Tw3X</td>\n",
       "      <td>526893</td>\n",
       "      <td>4</td>\n",
       "    </tr>\n",
       "    <tr>\n",
       "      <th>2925</th>\n",
       "      <td>0.6490</td>\n",
       "      <td>0.2710</td>\n",
       "      <td>5</td>\n",
       "      <td>-15.198</td>\n",
       "      <td>0</td>\n",
       "      <td>0.0498</td>\n",
       "      <td>0.708</td>\n",
       "      <td>0.000005</td>\n",
       "      <td>0.1240</td>\n",
       "      <td>0.6260</td>\n",
       "      <td>126.026</td>\n",
       "      <td>4jCoxXaEKeTWkQ7HL1d5de</td>\n",
       "      <td>441027</td>\n",
       "      <td>4</td>\n",
       "    </tr>\n",
       "    <tr>\n",
       "      <th>2926</th>\n",
       "      <td>0.3500</td>\n",
       "      <td>0.6070</td>\n",
       "      <td>5</td>\n",
       "      <td>-11.141</td>\n",
       "      <td>0</td>\n",
       "      <td>0.0498</td>\n",
       "      <td>0.794</td>\n",
       "      <td>0.446000</td>\n",
       "      <td>0.1160</td>\n",
       "      <td>0.5970</td>\n",
       "      <td>187.101</td>\n",
       "      <td>1QlTNF43OyKK9BorIRsJ8o</td>\n",
       "      <td>422640</td>\n",
       "      <td>4</td>\n",
       "    </tr>\n",
       "    <tr>\n",
       "      <th>2927</th>\n",
       "      <td>0.3550</td>\n",
       "      <td>0.1520</td>\n",
       "      <td>5</td>\n",
       "      <td>-14.864</td>\n",
       "      <td>0</td>\n",
       "      <td>0.0401</td>\n",
       "      <td>0.924</td>\n",
       "      <td>0.077100</td>\n",
       "      <td>0.1260</td>\n",
       "      <td>0.1450</td>\n",
       "      <td>65.215</td>\n",
       "      <td>6x8XKDM8Rnid4TyOUg9kj3</td>\n",
       "      <td>320773</td>\n",
       "      <td>4</td>\n",
       "    </tr>\n",
       "    <tr>\n",
       "      <th>2928</th>\n",
       "      <td>0.4620</td>\n",
       "      <td>0.0536</td>\n",
       "      <td>8</td>\n",
       "      <td>-17.550</td>\n",
       "      <td>1</td>\n",
       "      <td>0.0321</td>\n",
       "      <td>0.960</td>\n",
       "      <td>0.000219</td>\n",
       "      <td>0.1210</td>\n",
       "      <td>0.1380</td>\n",
       "      <td>63.118</td>\n",
       "      <td>7981FAW8DbDs1ueK4Ha8R2</td>\n",
       "      <td>332120</td>\n",
       "      <td>4</td>\n",
       "    </tr>\n",
       "  </tbody>\n",
       "</table>\n",
       "<p>2929 rows × 14 columns</p>\n",
       "</div>"
      ],
      "text/plain": [
       "      danceability  energy  key  loudness  mode  speechiness  acousticness  \\\n",
       "0           0.0623  0.0116    2   -27.893     1       0.0567         0.991   \n",
       "1           0.2330  0.0217    1   -29.785     1       0.0413         0.988   \n",
       "2           0.1960  0.0539    5   -28.217     1       0.0438         0.993   \n",
       "3           0.0986  0.0949    1   -21.002     1       0.0441         0.993   \n",
       "4           0.1370  0.0759   11   -25.740     0       0.0401         0.975   \n",
       "...            ...     ...  ...       ...   ...          ...           ...   \n",
       "2924        0.4580  0.1550   10   -17.853     1       0.0405         0.908   \n",
       "2925        0.6490  0.2710    5   -15.198     0       0.0498         0.708   \n",
       "2926        0.3500  0.6070    5   -11.141     0       0.0498         0.794   \n",
       "2927        0.3550  0.1520    5   -14.864     0       0.0401         0.924   \n",
       "2928        0.4620  0.0536    8   -17.550     1       0.0321         0.960   \n",
       "\n",
       "      instrumentalness  liveness  valence    tempo                      id  \\\n",
       "0             0.445000    0.0816   0.0331   65.057  0S0YKiEdR9cT9pYgEaTevF   \n",
       "1             0.819000    0.0836   0.0710   66.349  1ZqzUiCQICQmjtpbFZYwnt   \n",
       "2             0.031600    0.1160   0.0482  132.747  3vA1AS2PWl4RePRCiR36lb   \n",
       "3             0.353000    0.0847   0.0363  174.628  1aJcDNDrKduMegTZzOemVd   \n",
       "4             0.263000    0.1050   0.0363  142.767  4htAzv3rkpAzCjo2pW12id   \n",
       "...                ...       ...      ...      ...                     ...   \n",
       "2924          0.621000    0.2990   0.2760  126.281  2bPeAxNC1S1C359ds8Tw3X   \n",
       "2925          0.000005    0.1240   0.6260  126.026  4jCoxXaEKeTWkQ7HL1d5de   \n",
       "2926          0.446000    0.1160   0.5970  187.101  1QlTNF43OyKK9BorIRsJ8o   \n",
       "2927          0.077100    0.1260   0.1450   65.215  6x8XKDM8Rnid4TyOUg9kj3   \n",
       "2928          0.000219    0.1210   0.1380   63.118  7981FAW8DbDs1ueK4Ha8R2   \n",
       "\n",
       "      duration_ms  time_signature  \n",
       "0          415800               3  \n",
       "1          253293               3  \n",
       "2          236907               3  \n",
       "3          232667               4  \n",
       "4          180000               4  \n",
       "...           ...             ...  \n",
       "2924       526893               4  \n",
       "2925       441027               4  \n",
       "2926       422640               4  \n",
       "2927       320773               4  \n",
       "2928       332120               4  \n",
       "\n",
       "[2929 rows x 14 columns]"
      ]
     },
     "execution_count": 2,
     "metadata": {},
     "output_type": "execute_result"
    }
   ],
   "source": [
    "df = pd.read_csv('my_music.csv') # Task: load the dataset \n",
    "df"
   ]
  },
  {
   "cell_type": "markdown",
   "metadata": {
    "tags": []
   },
   "source": [
    "## Remove strings "
   ]
  },
  {
   "cell_type": "code",
   "execution_count": 3,
   "metadata": {
    "tags": []
   },
   "outputs": [
    {
     "data": {
      "text/html": [
       "<div>\n",
       "<style scoped>\n",
       "    .dataframe tbody tr th:only-of-type {\n",
       "        vertical-align: middle;\n",
       "    }\n",
       "\n",
       "    .dataframe tbody tr th {\n",
       "        vertical-align: top;\n",
       "    }\n",
       "\n",
       "    .dataframe thead th {\n",
       "        text-align: right;\n",
       "    }\n",
       "</style>\n",
       "<table border=\"1\" class=\"dataframe\">\n",
       "  <thead>\n",
       "    <tr style=\"text-align: right;\">\n",
       "      <th></th>\n",
       "      <th>danceability</th>\n",
       "      <th>energy</th>\n",
       "      <th>key</th>\n",
       "      <th>loudness</th>\n",
       "      <th>mode</th>\n",
       "      <th>speechiness</th>\n",
       "      <th>acousticness</th>\n",
       "      <th>instrumentalness</th>\n",
       "      <th>liveness</th>\n",
       "      <th>valence</th>\n",
       "      <th>tempo</th>\n",
       "      <th>duration_ms</th>\n",
       "      <th>time_signature</th>\n",
       "    </tr>\n",
       "  </thead>\n",
       "  <tbody>\n",
       "    <tr>\n",
       "      <th>0</th>\n",
       "      <td>0.0623</td>\n",
       "      <td>0.0116</td>\n",
       "      <td>2</td>\n",
       "      <td>-27.893</td>\n",
       "      <td>1</td>\n",
       "      <td>0.0567</td>\n",
       "      <td>0.991</td>\n",
       "      <td>0.445000</td>\n",
       "      <td>0.0816</td>\n",
       "      <td>0.0331</td>\n",
       "      <td>65.057</td>\n",
       "      <td>415800</td>\n",
       "      <td>3</td>\n",
       "    </tr>\n",
       "    <tr>\n",
       "      <th>1</th>\n",
       "      <td>0.2330</td>\n",
       "      <td>0.0217</td>\n",
       "      <td>1</td>\n",
       "      <td>-29.785</td>\n",
       "      <td>1</td>\n",
       "      <td>0.0413</td>\n",
       "      <td>0.988</td>\n",
       "      <td>0.819000</td>\n",
       "      <td>0.0836</td>\n",
       "      <td>0.0710</td>\n",
       "      <td>66.349</td>\n",
       "      <td>253293</td>\n",
       "      <td>3</td>\n",
       "    </tr>\n",
       "    <tr>\n",
       "      <th>2</th>\n",
       "      <td>0.1960</td>\n",
       "      <td>0.0539</td>\n",
       "      <td>5</td>\n",
       "      <td>-28.217</td>\n",
       "      <td>1</td>\n",
       "      <td>0.0438</td>\n",
       "      <td>0.993</td>\n",
       "      <td>0.031600</td>\n",
       "      <td>0.1160</td>\n",
       "      <td>0.0482</td>\n",
       "      <td>132.747</td>\n",
       "      <td>236907</td>\n",
       "      <td>3</td>\n",
       "    </tr>\n",
       "    <tr>\n",
       "      <th>3</th>\n",
       "      <td>0.0986</td>\n",
       "      <td>0.0949</td>\n",
       "      <td>1</td>\n",
       "      <td>-21.002</td>\n",
       "      <td>1</td>\n",
       "      <td>0.0441</td>\n",
       "      <td>0.993</td>\n",
       "      <td>0.353000</td>\n",
       "      <td>0.0847</td>\n",
       "      <td>0.0363</td>\n",
       "      <td>174.628</td>\n",
       "      <td>232667</td>\n",
       "      <td>4</td>\n",
       "    </tr>\n",
       "    <tr>\n",
       "      <th>4</th>\n",
       "      <td>0.1370</td>\n",
       "      <td>0.0759</td>\n",
       "      <td>11</td>\n",
       "      <td>-25.740</td>\n",
       "      <td>0</td>\n",
       "      <td>0.0401</td>\n",
       "      <td>0.975</td>\n",
       "      <td>0.263000</td>\n",
       "      <td>0.1050</td>\n",
       "      <td>0.0363</td>\n",
       "      <td>142.767</td>\n",
       "      <td>180000</td>\n",
       "      <td>4</td>\n",
       "    </tr>\n",
       "    <tr>\n",
       "      <th>...</th>\n",
       "      <td>...</td>\n",
       "      <td>...</td>\n",
       "      <td>...</td>\n",
       "      <td>...</td>\n",
       "      <td>...</td>\n",
       "      <td>...</td>\n",
       "      <td>...</td>\n",
       "      <td>...</td>\n",
       "      <td>...</td>\n",
       "      <td>...</td>\n",
       "      <td>...</td>\n",
       "      <td>...</td>\n",
       "      <td>...</td>\n",
       "    </tr>\n",
       "    <tr>\n",
       "      <th>2924</th>\n",
       "      <td>0.4580</td>\n",
       "      <td>0.1550</td>\n",
       "      <td>10</td>\n",
       "      <td>-17.853</td>\n",
       "      <td>1</td>\n",
       "      <td>0.0405</td>\n",
       "      <td>0.908</td>\n",
       "      <td>0.621000</td>\n",
       "      <td>0.2990</td>\n",
       "      <td>0.2760</td>\n",
       "      <td>126.281</td>\n",
       "      <td>526893</td>\n",
       "      <td>4</td>\n",
       "    </tr>\n",
       "    <tr>\n",
       "      <th>2925</th>\n",
       "      <td>0.6490</td>\n",
       "      <td>0.2710</td>\n",
       "      <td>5</td>\n",
       "      <td>-15.198</td>\n",
       "      <td>0</td>\n",
       "      <td>0.0498</td>\n",
       "      <td>0.708</td>\n",
       "      <td>0.000005</td>\n",
       "      <td>0.1240</td>\n",
       "      <td>0.6260</td>\n",
       "      <td>126.026</td>\n",
       "      <td>441027</td>\n",
       "      <td>4</td>\n",
       "    </tr>\n",
       "    <tr>\n",
       "      <th>2926</th>\n",
       "      <td>0.3500</td>\n",
       "      <td>0.6070</td>\n",
       "      <td>5</td>\n",
       "      <td>-11.141</td>\n",
       "      <td>0</td>\n",
       "      <td>0.0498</td>\n",
       "      <td>0.794</td>\n",
       "      <td>0.446000</td>\n",
       "      <td>0.1160</td>\n",
       "      <td>0.5970</td>\n",
       "      <td>187.101</td>\n",
       "      <td>422640</td>\n",
       "      <td>4</td>\n",
       "    </tr>\n",
       "    <tr>\n",
       "      <th>2927</th>\n",
       "      <td>0.3550</td>\n",
       "      <td>0.1520</td>\n",
       "      <td>5</td>\n",
       "      <td>-14.864</td>\n",
       "      <td>0</td>\n",
       "      <td>0.0401</td>\n",
       "      <td>0.924</td>\n",
       "      <td>0.077100</td>\n",
       "      <td>0.1260</td>\n",
       "      <td>0.1450</td>\n",
       "      <td>65.215</td>\n",
       "      <td>320773</td>\n",
       "      <td>4</td>\n",
       "    </tr>\n",
       "    <tr>\n",
       "      <th>2928</th>\n",
       "      <td>0.4620</td>\n",
       "      <td>0.0536</td>\n",
       "      <td>8</td>\n",
       "      <td>-17.550</td>\n",
       "      <td>1</td>\n",
       "      <td>0.0321</td>\n",
       "      <td>0.960</td>\n",
       "      <td>0.000219</td>\n",
       "      <td>0.1210</td>\n",
       "      <td>0.1380</td>\n",
       "      <td>63.118</td>\n",
       "      <td>332120</td>\n",
       "      <td>4</td>\n",
       "    </tr>\n",
       "  </tbody>\n",
       "</table>\n",
       "<p>2929 rows × 13 columns</p>\n",
       "</div>"
      ],
      "text/plain": [
       "      danceability  energy  key  loudness  mode  speechiness  acousticness  \\\n",
       "0           0.0623  0.0116    2   -27.893     1       0.0567         0.991   \n",
       "1           0.2330  0.0217    1   -29.785     1       0.0413         0.988   \n",
       "2           0.1960  0.0539    5   -28.217     1       0.0438         0.993   \n",
       "3           0.0986  0.0949    1   -21.002     1       0.0441         0.993   \n",
       "4           0.1370  0.0759   11   -25.740     0       0.0401         0.975   \n",
       "...            ...     ...  ...       ...   ...          ...           ...   \n",
       "2924        0.4580  0.1550   10   -17.853     1       0.0405         0.908   \n",
       "2925        0.6490  0.2710    5   -15.198     0       0.0498         0.708   \n",
       "2926        0.3500  0.6070    5   -11.141     0       0.0498         0.794   \n",
       "2927        0.3550  0.1520    5   -14.864     0       0.0401         0.924   \n",
       "2928        0.4620  0.0536    8   -17.550     1       0.0321         0.960   \n",
       "\n",
       "      instrumentalness  liveness  valence    tempo  duration_ms  \\\n",
       "0             0.445000    0.0816   0.0331   65.057       415800   \n",
       "1             0.819000    0.0836   0.0710   66.349       253293   \n",
       "2             0.031600    0.1160   0.0482  132.747       236907   \n",
       "3             0.353000    0.0847   0.0363  174.628       232667   \n",
       "4             0.263000    0.1050   0.0363  142.767       180000   \n",
       "...                ...       ...      ...      ...          ...   \n",
       "2924          0.621000    0.2990   0.2760  126.281       526893   \n",
       "2925          0.000005    0.1240   0.6260  126.026       441027   \n",
       "2926          0.446000    0.1160   0.5970  187.101       422640   \n",
       "2927          0.077100    0.1260   0.1450   65.215       320773   \n",
       "2928          0.000219    0.1210   0.1380   63.118       332120   \n",
       "\n",
       "      time_signature  \n",
       "0                  3  \n",
       "1                  3  \n",
       "2                  3  \n",
       "3                  4  \n",
       "4                  4  \n",
       "...              ...  \n",
       "2924               4  \n",
       "2925               4  \n",
       "2926               4  \n",
       "2927               4  \n",
       "2928               4  \n",
       "\n",
       "[2929 rows x 13 columns]"
      ]
     },
     "execution_count": 3,
     "metadata": {},
     "output_type": "execute_result"
    }
   ],
   "source": [
    "# We are removing ID as we want to train our model exclusively on numerical variables\n",
    "\n",
    "df_noid = df.drop(\"id\", axis=1)\n",
    "df_noid"
   ]
  },
  {
   "cell_type": "markdown",
   "metadata": {
    "id": "jKnoCN1MgG6B"
   },
   "source": [
    "## Scaling features"
   ]
  },
  {
   "cell_type": "code",
   "execution_count": 4,
   "metadata": {
    "tags": []
   },
   "outputs": [
    {
     "data": {
      "text/html": [
       "<div>\n",
       "<style scoped>\n",
       "    .dataframe tbody tr th:only-of-type {\n",
       "        vertical-align: middle;\n",
       "    }\n",
       "\n",
       "    .dataframe tbody tr th {\n",
       "        vertical-align: top;\n",
       "    }\n",
       "\n",
       "    .dataframe thead th {\n",
       "        text-align: right;\n",
       "    }\n",
       "</style>\n",
       "<table border=\"1\" class=\"dataframe\">\n",
       "  <thead>\n",
       "    <tr style=\"text-align: right;\">\n",
       "      <th></th>\n",
       "      <th>danceability</th>\n",
       "      <th>energy</th>\n",
       "      <th>key</th>\n",
       "      <th>loudness</th>\n",
       "      <th>mode</th>\n",
       "      <th>speechiness</th>\n",
       "      <th>acousticness</th>\n",
       "      <th>instrumentalness</th>\n",
       "      <th>liveness</th>\n",
       "      <th>valence</th>\n",
       "      <th>tempo</th>\n",
       "      <th>duration_ms</th>\n",
       "      <th>time_signature</th>\n",
       "    </tr>\n",
       "  </thead>\n",
       "  <tbody>\n",
       "    <tr>\n",
       "      <th>count</th>\n",
       "      <td>2929.000000</td>\n",
       "      <td>2929.000000</td>\n",
       "      <td>2929.000000</td>\n",
       "      <td>2929.000000</td>\n",
       "      <td>2929.000000</td>\n",
       "      <td>2929.000000</td>\n",
       "      <td>2929.000000</td>\n",
       "      <td>2929.000000</td>\n",
       "      <td>2929.000000</td>\n",
       "      <td>2929.000000</td>\n",
       "      <td>2929.000000</td>\n",
       "      <td>2.929000e+03</td>\n",
       "      <td>2929.000000</td>\n",
       "    </tr>\n",
       "    <tr>\n",
       "      <th>mean</th>\n",
       "      <td>0.599718</td>\n",
       "      <td>0.573785</td>\n",
       "      <td>5.272107</td>\n",
       "      <td>-9.649917</td>\n",
       "      <td>0.611813</td>\n",
       "      <td>0.083079</td>\n",
       "      <td>0.332865</td>\n",
       "      <td>0.122449</td>\n",
       "      <td>0.182386</td>\n",
       "      <td>0.529679</td>\n",
       "      <td>120.328404</td>\n",
       "      <td>2.392848e+05</td>\n",
       "      <td>3.914305</td>\n",
       "    </tr>\n",
       "    <tr>\n",
       "      <th>std</th>\n",
       "      <td>0.194524</td>\n",
       "      <td>0.271887</td>\n",
       "      <td>3.579223</td>\n",
       "      <td>6.160127</td>\n",
       "      <td>0.487421</td>\n",
       "      <td>0.084021</td>\n",
       "      <td>0.352801</td>\n",
       "      <td>0.276649</td>\n",
       "      <td>0.153516</td>\n",
       "      <td>0.269609</td>\n",
       "      <td>27.618544</td>\n",
       "      <td>9.167702e+04</td>\n",
       "      <td>0.405516</td>\n",
       "    </tr>\n",
       "    <tr>\n",
       "      <th>min</th>\n",
       "      <td>0.000000</td>\n",
       "      <td>0.003410</td>\n",
       "      <td>0.000000</td>\n",
       "      <td>-43.951000</td>\n",
       "      <td>0.000000</td>\n",
       "      <td>0.000000</td>\n",
       "      <td>0.000005</td>\n",
       "      <td>0.000000</td>\n",
       "      <td>0.017300</td>\n",
       "      <td>0.000000</td>\n",
       "      <td>0.000000</td>\n",
       "      <td>9.625000e+03</td>\n",
       "      <td>0.000000</td>\n",
       "    </tr>\n",
       "    <tr>\n",
       "      <th>25%</th>\n",
       "      <td>0.490000</td>\n",
       "      <td>0.379000</td>\n",
       "      <td>2.000000</td>\n",
       "      <td>-12.202000</td>\n",
       "      <td>0.000000</td>\n",
       "      <td>0.037500</td>\n",
       "      <td>0.030800</td>\n",
       "      <td>0.000000</td>\n",
       "      <td>0.090400</td>\n",
       "      <td>0.324000</td>\n",
       "      <td>100.499000</td>\n",
       "      <td>1.873870e+05</td>\n",
       "      <td>4.000000</td>\n",
       "    </tr>\n",
       "    <tr>\n",
       "      <th>50%</th>\n",
       "      <td>0.626000</td>\n",
       "      <td>0.625000</td>\n",
       "      <td>5.000000</td>\n",
       "      <td>-7.910000</td>\n",
       "      <td>1.000000</td>\n",
       "      <td>0.048800</td>\n",
       "      <td>0.159000</td>\n",
       "      <td>0.000041</td>\n",
       "      <td>0.122000</td>\n",
       "      <td>0.549000</td>\n",
       "      <td>122.668000</td>\n",
       "      <td>2.215650e+05</td>\n",
       "      <td>4.000000</td>\n",
       "    </tr>\n",
       "    <tr>\n",
       "      <th>75%</th>\n",
       "      <td>0.743000</td>\n",
       "      <td>0.795000</td>\n",
       "      <td>8.000000</td>\n",
       "      <td>-5.373000</td>\n",
       "      <td>1.000000</td>\n",
       "      <td>0.084600</td>\n",
       "      <td>0.661000</td>\n",
       "      <td>0.017300</td>\n",
       "      <td>0.224000</td>\n",
       "      <td>0.756000</td>\n",
       "      <td>135.027000</td>\n",
       "      <td>2.696400e+05</td>\n",
       "      <td>4.000000</td>\n",
       "    </tr>\n",
       "    <tr>\n",
       "      <th>max</th>\n",
       "      <td>0.974000</td>\n",
       "      <td>1.000000</td>\n",
       "      <td>11.000000</td>\n",
       "      <td>-0.040000</td>\n",
       "      <td>1.000000</td>\n",
       "      <td>0.592000</td>\n",
       "      <td>0.996000</td>\n",
       "      <td>0.987000</td>\n",
       "      <td>0.984000</td>\n",
       "      <td>0.984000</td>\n",
       "      <td>221.716000</td>\n",
       "      <td>1.563466e+06</td>\n",
       "      <td>5.000000</td>\n",
       "    </tr>\n",
       "  </tbody>\n",
       "</table>\n",
       "</div>"
      ],
      "text/plain": [
       "       danceability       energy          key     loudness         mode  \\\n",
       "count   2929.000000  2929.000000  2929.000000  2929.000000  2929.000000   \n",
       "mean       0.599718     0.573785     5.272107    -9.649917     0.611813   \n",
       "std        0.194524     0.271887     3.579223     6.160127     0.487421   \n",
       "min        0.000000     0.003410     0.000000   -43.951000     0.000000   \n",
       "25%        0.490000     0.379000     2.000000   -12.202000     0.000000   \n",
       "50%        0.626000     0.625000     5.000000    -7.910000     1.000000   \n",
       "75%        0.743000     0.795000     8.000000    -5.373000     1.000000   \n",
       "max        0.974000     1.000000    11.000000    -0.040000     1.000000   \n",
       "\n",
       "       speechiness  acousticness  instrumentalness     liveness      valence  \\\n",
       "count  2929.000000   2929.000000       2929.000000  2929.000000  2929.000000   \n",
       "mean      0.083079      0.332865          0.122449     0.182386     0.529679   \n",
       "std       0.084021      0.352801          0.276649     0.153516     0.269609   \n",
       "min       0.000000      0.000005          0.000000     0.017300     0.000000   \n",
       "25%       0.037500      0.030800          0.000000     0.090400     0.324000   \n",
       "50%       0.048800      0.159000          0.000041     0.122000     0.549000   \n",
       "75%       0.084600      0.661000          0.017300     0.224000     0.756000   \n",
       "max       0.592000      0.996000          0.987000     0.984000     0.984000   \n",
       "\n",
       "             tempo   duration_ms  time_signature  \n",
       "count  2929.000000  2.929000e+03     2929.000000  \n",
       "mean    120.328404  2.392848e+05        3.914305  \n",
       "std      27.618544  9.167702e+04        0.405516  \n",
       "min       0.000000  9.625000e+03        0.000000  \n",
       "25%     100.499000  1.873870e+05        4.000000  \n",
       "50%     122.668000  2.215650e+05        4.000000  \n",
       "75%     135.027000  2.696400e+05        4.000000  \n",
       "max     221.716000  1.563466e+06        5.000000  "
      ]
     },
     "execution_count": 4,
     "metadata": {},
     "output_type": "execute_result"
    }
   ],
   "source": [
    "df_noid.describe()"
   ]
  },
  {
   "cell_type": "code",
   "execution_count": 5,
   "metadata": {},
   "outputs": [],
   "source": [
    "# Variables on different scales. K-Means is a distance based algorithm: we need to scale / normalize"
   ]
  },
  {
   "cell_type": "code",
   "execution_count": 6,
   "metadata": {
    "colab": {
     "base_uri": "https://localhost:8080/",
     "height": 431
    },
    "executionInfo": {
     "elapsed": 206,
     "status": "ok",
     "timestamp": 1623847766918,
     "user": {
      "displayName": "Ignacio Soteras",
      "photoUrl": "",
      "userId": "02050793736257155229"
     },
     "user_tz": -120
    },
    "id": "8V86cFdpgJrd",
    "outputId": "b3a8d5a2-a380-4545-a06e-a6487daf3601"
   },
   "outputs": [
    {
     "name": "stdout",
     "output_type": "stream",
     "text": [
      "\n"
     ]
    },
    {
     "data": {
      "text/html": [
       "<div>\n",
       "<style scoped>\n",
       "    .dataframe tbody tr th:only-of-type {\n",
       "        vertical-align: middle;\n",
       "    }\n",
       "\n",
       "    .dataframe tbody tr th {\n",
       "        vertical-align: top;\n",
       "    }\n",
       "\n",
       "    .dataframe thead th {\n",
       "        text-align: right;\n",
       "    }\n",
       "</style>\n",
       "<table border=\"1\" class=\"dataframe\">\n",
       "  <thead>\n",
       "    <tr style=\"text-align: right;\">\n",
       "      <th></th>\n",
       "      <th>danceability</th>\n",
       "      <th>energy</th>\n",
       "      <th>key</th>\n",
       "      <th>loudness</th>\n",
       "      <th>mode</th>\n",
       "      <th>speechiness</th>\n",
       "      <th>acousticness</th>\n",
       "      <th>instrumentalness</th>\n",
       "      <th>liveness</th>\n",
       "      <th>valence</th>\n",
       "      <th>tempo</th>\n",
       "      <th>duration_ms</th>\n",
       "      <th>time_signature</th>\n",
       "    </tr>\n",
       "  </thead>\n",
       "  <tbody>\n",
       "    <tr>\n",
       "      <th>0</th>\n",
       "      <td>-2.763203</td>\n",
       "      <td>-2.068067</td>\n",
       "      <td>-0.914351</td>\n",
       "      <td>-2.961984</td>\n",
       "      <td>0.796547</td>\n",
       "      <td>-0.314007</td>\n",
       "      <td>1.865775</td>\n",
       "      <td>1.166120</td>\n",
       "      <td>-0.656632</td>\n",
       "      <td>-1.842168</td>\n",
       "      <td>-2.001584</td>\n",
       "      <td>1.925732</td>\n",
       "      <td>-2.255054</td>\n",
       "    </tr>\n",
       "    <tr>\n",
       "      <th>1</th>\n",
       "      <td>-1.885526</td>\n",
       "      <td>-2.030913</td>\n",
       "      <td>-1.193789</td>\n",
       "      <td>-3.269173</td>\n",
       "      <td>0.796547</td>\n",
       "      <td>-0.497326</td>\n",
       "      <td>1.857271</td>\n",
       "      <td>2.518244</td>\n",
       "      <td>-0.643602</td>\n",
       "      <td>-1.701570</td>\n",
       "      <td>-1.954796</td>\n",
       "      <td>0.152826</td>\n",
       "      <td>-2.255054</td>\n",
       "    </tr>\n",
       "    <tr>\n",
       "      <th>2</th>\n",
       "      <td>-2.075767</td>\n",
       "      <td>-1.912461</td>\n",
       "      <td>-0.076037</td>\n",
       "      <td>-3.014590</td>\n",
       "      <td>0.796547</td>\n",
       "      <td>-0.467566</td>\n",
       "      <td>1.871445</td>\n",
       "      <td>-0.328446</td>\n",
       "      <td>-0.432513</td>\n",
       "      <td>-1.786151</td>\n",
       "      <td>0.449724</td>\n",
       "      <td>-0.025941</td>\n",
       "      <td>-2.255054</td>\n",
       "    </tr>\n",
       "    <tr>\n",
       "      <th>3</th>\n",
       "      <td>-2.576561</td>\n",
       "      <td>-1.761637</td>\n",
       "      <td>-1.193789</td>\n",
       "      <td>-1.843147</td>\n",
       "      <td>0.796547</td>\n",
       "      <td>-0.463995</td>\n",
       "      <td>1.871445</td>\n",
       "      <td>0.833513</td>\n",
       "      <td>-0.636435</td>\n",
       "      <td>-1.830297</td>\n",
       "      <td>1.966391</td>\n",
       "      <td>-0.072198</td>\n",
       "      <td>0.211359</td>\n",
       "    </tr>\n",
       "    <tr>\n",
       "      <th>4</th>\n",
       "      <td>-2.379123</td>\n",
       "      <td>-1.831531</td>\n",
       "      <td>1.600591</td>\n",
       "      <td>-2.612419</td>\n",
       "      <td>-1.255419</td>\n",
       "      <td>-0.511611</td>\n",
       "      <td>1.820416</td>\n",
       "      <td>0.508135</td>\n",
       "      <td>-0.504179</td>\n",
       "      <td>-1.830297</td>\n",
       "      <td>0.812585</td>\n",
       "      <td>-0.646780</td>\n",
       "      <td>0.211359</td>\n",
       "    </tr>\n",
       "  </tbody>\n",
       "</table>\n",
       "</div>"
      ],
      "text/plain": [
       "   danceability    energy       key  loudness      mode  speechiness  \\\n",
       "0     -2.763203 -2.068067 -0.914351 -2.961984  0.796547    -0.314007   \n",
       "1     -1.885526 -2.030913 -1.193789 -3.269173  0.796547    -0.497326   \n",
       "2     -2.075767 -1.912461 -0.076037 -3.014590  0.796547    -0.467566   \n",
       "3     -2.576561 -1.761637 -1.193789 -1.843147  0.796547    -0.463995   \n",
       "4     -2.379123 -1.831531  1.600591 -2.612419 -1.255419    -0.511611   \n",
       "\n",
       "   acousticness  instrumentalness  liveness   valence     tempo  duration_ms  \\\n",
       "0      1.865775          1.166120 -0.656632 -1.842168 -2.001584     1.925732   \n",
       "1      1.857271          2.518244 -0.643602 -1.701570 -1.954796     0.152826   \n",
       "2      1.871445         -0.328446 -0.432513 -1.786151  0.449724    -0.025941   \n",
       "3      1.871445          0.833513 -0.636435 -1.830297  1.966391    -0.072198   \n",
       "4      1.820416          0.508135 -0.504179 -1.830297  0.812585    -0.646780   \n",
       "\n",
       "   time_signature  \n",
       "0       -2.255054  \n",
       "1       -2.255054  \n",
       "2       -2.255054  \n",
       "3        0.211359  \n",
       "4        0.211359  "
      ]
     },
     "metadata": {},
     "output_type": "display_data"
    }
   ],
   "source": [
    "scaler = StandardScaler()\n",
    "scaler.fit(df_noid)\n",
    "df_noid_scaled = scaler.transform(df_noid)\n",
    "X_scaled_df = pd.DataFrame(df_noid_scaled, columns = df_noid.columns)\n",
    "#display new df head\n",
    "print()\n",
    "display(X_scaled_df.head())"
   ]
  },
  {
   "cell_type": "code",
   "execution_count": 7,
   "metadata": {
    "colab": {
     "base_uri": "https://localhost:8080/",
     "height": 319
    },
    "executionInfo": {
     "elapsed": 221,
     "status": "ok",
     "timestamp": 1623847821073,
     "user": {
      "displayName": "Ignacio Soteras",
      "photoUrl": "",
      "userId": "02050793736257155229"
     },
     "user_tz": -120
    },
    "id": "INQdugXS3zPO",
    "outputId": "cc49e206-ecd0-4804-c96f-86f159b6b9cf"
   },
   "outputs": [
    {
     "data": {
      "text/html": [
       "<div>\n",
       "<style scoped>\n",
       "    .dataframe tbody tr th:only-of-type {\n",
       "        vertical-align: middle;\n",
       "    }\n",
       "\n",
       "    .dataframe tbody tr th {\n",
       "        vertical-align: top;\n",
       "    }\n",
       "\n",
       "    .dataframe thead th {\n",
       "        text-align: right;\n",
       "    }\n",
       "</style>\n",
       "<table border=\"1\" class=\"dataframe\">\n",
       "  <thead>\n",
       "    <tr style=\"text-align: right;\">\n",
       "      <th></th>\n",
       "      <th>danceability</th>\n",
       "      <th>energy</th>\n",
       "      <th>key</th>\n",
       "      <th>loudness</th>\n",
       "      <th>mode</th>\n",
       "      <th>speechiness</th>\n",
       "      <th>acousticness</th>\n",
       "      <th>instrumentalness</th>\n",
       "      <th>liveness</th>\n",
       "      <th>valence</th>\n",
       "      <th>tempo</th>\n",
       "      <th>duration_ms</th>\n",
       "      <th>time_signature</th>\n",
       "    </tr>\n",
       "  </thead>\n",
       "  <tbody>\n",
       "    <tr>\n",
       "      <th>count</th>\n",
       "      <td>2.929000e+03</td>\n",
       "      <td>2.929000e+03</td>\n",
       "      <td>2.929000e+03</td>\n",
       "      <td>2.929000e+03</td>\n",
       "      <td>2.929000e+03</td>\n",
       "      <td>2.929000e+03</td>\n",
       "      <td>2.929000e+03</td>\n",
       "      <td>2.929000e+03</td>\n",
       "      <td>2.929000e+03</td>\n",
       "      <td>2.929000e+03</td>\n",
       "      <td>2.929000e+03</td>\n",
       "      <td>2.929000e+03</td>\n",
       "      <td>2.929000e+03</td>\n",
       "    </tr>\n",
       "    <tr>\n",
       "      <th>mean</th>\n",
       "      <td>8.733199e-17</td>\n",
       "      <td>9.703554e-17</td>\n",
       "      <td>-2.668477e-17</td>\n",
       "      <td>2.037746e-16</td>\n",
       "      <td>-3.881422e-17</td>\n",
       "      <td>-3.881422e-17</td>\n",
       "      <td>1.940711e-17</td>\n",
       "      <td>-3.881422e-17</td>\n",
       "      <td>-7.762843e-17</td>\n",
       "      <td>-2.522924e-16</td>\n",
       "      <td>6.598417e-16</td>\n",
       "      <td>-9.703554e-18</td>\n",
       "      <td>-1.455533e-16</td>\n",
       "    </tr>\n",
       "    <tr>\n",
       "      <th>std</th>\n",
       "      <td>1.000171e+00</td>\n",
       "      <td>1.000171e+00</td>\n",
       "      <td>1.000171e+00</td>\n",
       "      <td>1.000171e+00</td>\n",
       "      <td>1.000171e+00</td>\n",
       "      <td>1.000171e+00</td>\n",
       "      <td>1.000171e+00</td>\n",
       "      <td>1.000171e+00</td>\n",
       "      <td>1.000171e+00</td>\n",
       "      <td>1.000171e+00</td>\n",
       "      <td>1.000171e+00</td>\n",
       "      <td>1.000171e+00</td>\n",
       "      <td>1.000171e+00</td>\n",
       "    </tr>\n",
       "    <tr>\n",
       "      <th>min</th>\n",
       "      <td>-3.083526e+00</td>\n",
       "      <td>-2.098195e+00</td>\n",
       "      <td>-1.473227e+00</td>\n",
       "      <td>-5.569194e+00</td>\n",
       "      <td>-1.255419e+00</td>\n",
       "      <td>-9.889555e-01</td>\n",
       "      <td>-9.436412e-01</td>\n",
       "      <td>-4.426894e-01</td>\n",
       "      <td>-1.075552e+00</td>\n",
       "      <td>-1.964959e+00</td>\n",
       "      <td>-4.357541e+00</td>\n",
       "      <td>-2.505524e+00</td>\n",
       "      <td>-9.654293e+00</td>\n",
       "    </tr>\n",
       "    <tr>\n",
       "      <th>25%</th>\n",
       "      <td>-5.641274e-01</td>\n",
       "      <td>-7.165400e-01</td>\n",
       "      <td>-9.143508e-01</td>\n",
       "      <td>-4.143614e-01</td>\n",
       "      <td>-1.255419e+00</td>\n",
       "      <td>-5.425608e-01</td>\n",
       "      <td>-8.563384e-01</td>\n",
       "      <td>-4.426894e-01</td>\n",
       "      <td>-5.992994e-01</td>\n",
       "      <td>-7.630118e-01</td>\n",
       "      <td>-7.180969e-01</td>\n",
       "      <td>-5.661900e-01</td>\n",
       "      <td>2.113587e-01</td>\n",
       "    </tr>\n",
       "    <tr>\n",
       "      <th>50%</th>\n",
       "      <td>1.351343e-01</td>\n",
       "      <td>1.884017e-01</td>\n",
       "      <td>-7.603689e-02</td>\n",
       "      <td>2.824965e-01</td>\n",
       "      <td>7.965467e-01</td>\n",
       "      <td>-4.080472e-01</td>\n",
       "      <td>-4.928985e-01</td>\n",
       "      <td>-4.425423e-01</td>\n",
       "      <td>-3.934227e-01</td>\n",
       "      <td>7.167413e-02</td>\n",
       "      <td>8.472551e-02</td>\n",
       "      <td>-1.933175e-01</td>\n",
       "      <td>2.113587e-01</td>\n",
       "    </tr>\n",
       "    <tr>\n",
       "      <th>75%</th>\n",
       "      <td>7.367050e-01</td>\n",
       "      <td>8.137679e-01</td>\n",
       "      <td>7.622770e-01</td>\n",
       "      <td>6.944090e-01</td>\n",
       "      <td>7.965467e-01</td>\n",
       "      <td>1.811102e-02</td>\n",
       "      <td>9.302436e-01</td>\n",
       "      <td>-3.801447e-01</td>\n",
       "      <td>2.711158e-01</td>\n",
       "      <td>8.395851e-01</td>\n",
       "      <td>5.322911e-01</td>\n",
       "      <td>3.311673e-01</td>\n",
       "      <td>2.113587e-01</td>\n",
       "    </tr>\n",
       "    <tr>\n",
       "      <th>max</th>\n",
       "      <td>1.924422e+00</td>\n",
       "      <td>1.567886e+00</td>\n",
       "      <td>1.600591e+00</td>\n",
       "      <td>1.560286e+00</td>\n",
       "      <td>7.965467e-01</td>\n",
       "      <td>6.058129e+00</td>\n",
       "      <td>1.879950e+00</td>\n",
       "      <td>3.125615e+00</td>\n",
       "      <td>5.222579e+00</td>\n",
       "      <td>1.685400e+00</td>\n",
       "      <td>3.671624e+00</td>\n",
       "      <td>1.444645e+01</td>\n",
       "      <td>2.677772e+00</td>\n",
       "    </tr>\n",
       "  </tbody>\n",
       "</table>\n",
       "</div>"
      ],
      "text/plain": [
       "       danceability        energy           key      loudness          mode  \\\n",
       "count  2.929000e+03  2.929000e+03  2.929000e+03  2.929000e+03  2.929000e+03   \n",
       "mean   8.733199e-17  9.703554e-17 -2.668477e-17  2.037746e-16 -3.881422e-17   \n",
       "std    1.000171e+00  1.000171e+00  1.000171e+00  1.000171e+00  1.000171e+00   \n",
       "min   -3.083526e+00 -2.098195e+00 -1.473227e+00 -5.569194e+00 -1.255419e+00   \n",
       "25%   -5.641274e-01 -7.165400e-01 -9.143508e-01 -4.143614e-01 -1.255419e+00   \n",
       "50%    1.351343e-01  1.884017e-01 -7.603689e-02  2.824965e-01  7.965467e-01   \n",
       "75%    7.367050e-01  8.137679e-01  7.622770e-01  6.944090e-01  7.965467e-01   \n",
       "max    1.924422e+00  1.567886e+00  1.600591e+00  1.560286e+00  7.965467e-01   \n",
       "\n",
       "        speechiness  acousticness  instrumentalness      liveness  \\\n",
       "count  2.929000e+03  2.929000e+03      2.929000e+03  2.929000e+03   \n",
       "mean  -3.881422e-17  1.940711e-17     -3.881422e-17 -7.762843e-17   \n",
       "std    1.000171e+00  1.000171e+00      1.000171e+00  1.000171e+00   \n",
       "min   -9.889555e-01 -9.436412e-01     -4.426894e-01 -1.075552e+00   \n",
       "25%   -5.425608e-01 -8.563384e-01     -4.426894e-01 -5.992994e-01   \n",
       "50%   -4.080472e-01 -4.928985e-01     -4.425423e-01 -3.934227e-01   \n",
       "75%    1.811102e-02  9.302436e-01     -3.801447e-01  2.711158e-01   \n",
       "max    6.058129e+00  1.879950e+00      3.125615e+00  5.222579e+00   \n",
       "\n",
       "            valence         tempo   duration_ms  time_signature  \n",
       "count  2.929000e+03  2.929000e+03  2.929000e+03    2.929000e+03  \n",
       "mean  -2.522924e-16  6.598417e-16 -9.703554e-18   -1.455533e-16  \n",
       "std    1.000171e+00  1.000171e+00  1.000171e+00    1.000171e+00  \n",
       "min   -1.964959e+00 -4.357541e+00 -2.505524e+00   -9.654293e+00  \n",
       "25%   -7.630118e-01 -7.180969e-01 -5.661900e-01    2.113587e-01  \n",
       "50%    7.167413e-02  8.472551e-02 -1.933175e-01    2.113587e-01  \n",
       "75%    8.395851e-01  5.322911e-01  3.311673e-01    2.113587e-01  \n",
       "max    1.685400e+00  3.671624e+00  1.444645e+01    2.677772e+00  "
      ]
     },
     "execution_count": 7,
     "metadata": {},
     "output_type": "execute_result"
    }
   ],
   "source": [
    "X_scaled_df.describe()"
   ]
  },
  {
   "cell_type": "markdown",
   "metadata": {
    "id": "1XaQQHyJghB8"
   },
   "source": [
    "Now, all features will have the same weight."
   ]
  },
  {
   "cell_type": "markdown",
   "metadata": {
    "tags": []
   },
   "source": [
    "## Plot feature correlation heatmap"
   ]
  },
  {
   "cell_type": "code",
   "execution_count": 8,
   "metadata": {
    "tags": []
   },
   "outputs": [
    {
     "data": {
      "image/png": "[encoded data removed]",
      "text/plain": [
       "<Figure size 1000x800 with 2 Axes>"
      ]
     },
     "metadata": {},
     "output_type": "display_data"
    }
   ],
   "source": [
    "import seaborn as sns\n",
    "\n",
    "# Calculate the correlation matrix\n",
    "corr_matrix = X_scaled_df.corr()\n",
    "\n",
    "# Plot the heatmap\n",
    "plt.figure(figsize=(10, 8))\n",
    "sns.heatmap(corr_matrix, annot=True, cmap='coolwarm', fmt=\".2f\")\n",
    "plt.title('Correlation Heatmap of Variables')\n",
    "plt.show()"
   ]
  },
  {
   "cell_type": "markdown",
   "metadata": {
    "id": "W8zgKxQKhBUr"
   },
   "source": [
    "## Clustering the wines with K-Means"
   ]
  },
  {
   "cell_type": "markdown",
   "metadata": {
    "id": "onOxY0YJhSOv"
   },
   "source": [
    "We will pick manually the number of clusters we want - let's set it to 17. Later we will discuss how many clusters we should have. I've set to 17 as default as this was the number of genre-orientated playlists compiled to build our dataframe. \n",
    "\n",
    "When randomness is involved (remember, **K-means picks the initial centroid randomly**), we better use a random seed so that we can reproduce our results. We can set this directly with **random_state**."
   ]
  },
  {
   "cell_type": "code",
   "execution_count": 9,
   "metadata": {
    "colab": {
     "base_uri": "https://localhost:8080/"
    },
    "executionInfo": {
     "elapsed": 208,
     "status": "ok",
     "timestamp": 1623848315608,
     "user": {
      "displayName": "Ignacio Soteras",
      "photoUrl": "",
      "userId": "02050793736257155229"
     },
     "user_tz": -120
    },
    "id": "qS4o_tT1hGAG",
    "outputId": "eecc7527-b3df-4576-f931-881e198c2166"
   },
   "outputs": [
    {
     "name": "stderr",
     "output_type": "stream",
     "text": [
      "/Users/matthewbatchelor/anaconda3/lib/python3.11/site-packages/sklearn/cluster/_kmeans.py:1412: FutureWarning: The default value of `n_init` will change from 10 to 'auto' in 1.4. Set the value of `n_init` explicitly to suppress the warning\n",
      "  super()._check_params_vs_input(X, default_n_init=10)\n"
     ]
    },
    {
     "data": {
      "text/html": [
       "<style>#sk-container-id-1 {color: black;}#sk-container-id-1 pre{padding: 0;}#sk-container-id-1 div.sk-toggleable {background-color: white;}#sk-container-id-1 label.sk-toggleable__label {cursor: pointer;display: block;width: 100%;margin-bottom: 0;padding: 0.3em;box-sizing: border-box;text-align: center;}#sk-container-id-1 label.sk-toggleable__label-arrow:before {content: \"▸\";float: left;margin-right: 0.25em;color: #696969;}#sk-container-id-1 label.sk-toggleable__label-arrow:hover:before {color: black;}#sk-container-id-1 div.sk-estimator:hover label.sk-toggleable__label-arrow:before {color: black;}#sk-container-id-1 div.sk-toggleable__content {max-height: 0;max-width: 0;overflow: hidden;text-align: left;background-color: #f0f8ff;}#sk-container-id-1 div.sk-toggleable__content pre {margin: 0.2em;color: black;border-radius: 0.25em;background-color: #f0f8ff;}#sk-container-id-1 input.sk-toggleable__control:checked~div.sk-toggleable__content {max-height: 200px;max-width: 100%;overflow: auto;}#sk-container-id-1 input.sk-toggleable__control:checked~label.sk-toggleable__label-arrow:before {content: \"▾\";}#sk-container-id-1 div.sk-estimator input.sk-toggleable__control:checked~label.sk-toggleable__label {background-color: #d4ebff;}#sk-container-id-1 div.sk-label input.sk-toggleable__control:checked~label.sk-toggleable__label {background-color: #d4ebff;}#sk-container-id-1 input.sk-hidden--visually {border: 0;clip: rect(1px 1px 1px 1px);clip: rect(1px, 1px, 1px, 1px);height: 1px;margin: -1px;overflow: hidden;padding: 0;position: absolute;width: 1px;}#sk-container-id-1 div.sk-estimator {font-family: monospace;background-color: #f0f8ff;border: 1px dotted black;border-radius: 0.25em;box-sizing: border-box;margin-bottom: 0.5em;}#sk-container-id-1 div.sk-estimator:hover {background-color: #d4ebff;}#sk-container-id-1 div.sk-parallel-item::after {content: \"\";width: 100%;border-bottom: 1px solid gray;flex-grow: 1;}#sk-container-id-1 div.sk-label:hover label.sk-toggleable__label {background-color: #d4ebff;}#sk-container-id-1 div.sk-serial::before {content: \"\";position: absolute;border-left: 1px solid gray;box-sizing: border-box;top: 0;bottom: 0;left: 50%;z-index: 0;}#sk-container-id-1 div.sk-serial {display: flex;flex-direction: column;align-items: center;background-color: white;padding-right: 0.2em;padding-left: 0.2em;position: relative;}#sk-container-id-1 div.sk-item {position: relative;z-index: 1;}#sk-container-id-1 div.sk-parallel {display: flex;align-items: stretch;justify-content: center;background-color: white;position: relative;}#sk-container-id-1 div.sk-item::before, #sk-container-id-1 div.sk-parallel-item::before {content: \"\";position: absolute;border-left: 1px solid gray;box-sizing: border-box;top: 0;bottom: 0;left: 50%;z-index: -1;}#sk-container-id-1 div.sk-parallel-item {display: flex;flex-direction: column;z-index: 1;position: relative;background-color: white;}#sk-container-id-1 div.sk-parallel-item:first-child::after {align-self: flex-end;width: 50%;}#sk-container-id-1 div.sk-parallel-item:last-child::after {align-self: flex-start;width: 50%;}#sk-container-id-1 div.sk-parallel-item:only-child::after {width: 0;}#sk-container-id-1 div.sk-dashed-wrapped {border: 1px dashed gray;margin: 0 0.4em 0.5em 0.4em;box-sizing: border-box;padding-bottom: 0.4em;background-color: white;}#sk-container-id-1 div.sk-label label {font-family: monospace;font-weight: bold;display: inline-block;line-height: 1.2em;}#sk-container-id-1 div.sk-label-container {text-align: center;}#sk-container-id-1 div.sk-container {/* jupyter's `normalize.less` sets `[hidden] { display: none; }` but bootstrap.min.css set `[hidden] { display: none !important; }` so we also need the `!important` here to be able to override the default hidden behavior on the sphinx rendered scikit-learn.org. See: https://github.com/scikit-learn/scikit-learn/issues/21755 */display: inline-block !important;position: relative;}#sk-container-id-1 div.sk-text-repr-fallback {display: none;}</style><div id=\"sk-container-id-1\" class=\"sk-top-container\"><div class=\"sk-text-repr-fallback\"><pre>KMeans(n_clusters=17, random_state=1234)</pre><b>In a Jupyter environment, please rerun this cell to show the HTML representation or trust the notebook. <br />On GitHub, the HTML representation is unable to render, please try loading this page with nbviewer.org.</b></div><div class=\"sk-container\" hidden><div class=\"sk-item\"><div class=\"sk-estimator sk-toggleable\"><input class=\"sk-toggleable__control sk-hidden--visually\" id=\"sk-estimator-id-1\" type=\"checkbox\" checked><label for=\"sk-estimator-id-1\" class=\"sk-toggleable__label sk-toggleable__label-arrow\">KMeans</label><div class=\"sk-toggleable__content\"><pre>KMeans(n_clusters=17, random_state=1234)</pre></div></div></div></div></div>"
      ],
      "text/plain": [
       "KMeans(n_clusters=17, random_state=1234)"
      ]
     },
     "execution_count": 9,
     "metadata": {},
     "output_type": "execute_result"
    }
   ],
   "source": [
    "kmeans = KMeans(n_clusters=17, random_state=1234)\n",
    "kmeans.fit(X_scaled_df)"
   ]
  },
  {
   "cell_type": "code",
   "execution_count": 10,
   "metadata": {},
   "outputs": [
    {
     "data": {
      "text/plain": [
       "array([14, 14, 14, ..., 11,  7,  4], dtype=int32)"
      ]
     },
     "execution_count": 10,
     "metadata": {},
     "output_type": "execute_result"
    }
   ],
   "source": [
    "labels = kmeans.labels_\n",
    "labels"
   ]
  },
  {
   "cell_type": "code",
   "execution_count": 11,
   "metadata": {},
   "outputs": [
    {
     "data": {
      "text/plain": [
       "array([ 0,  1,  2,  3,  4,  5,  6,  7,  8,  9, 10, 11, 12, 13, 14, 15, 16],\n",
       "      dtype=int32)"
      ]
     },
     "execution_count": 11,
     "metadata": {},
     "output_type": "execute_result"
    }
   ],
   "source": [
    "np.unique(labels)"
   ]
  },
  {
   "cell_type": "markdown",
   "metadata": {
    "id": "27Ab6CkAhoOT"
   },
   "source": [
    "Now that we have our model, let's get the clusters and see how many observations each cluster has."
   ]
  },
  {
   "cell_type": "code",
   "execution_count": 12,
   "metadata": {
    "colab": {
     "base_uri": "https://localhost:8080/"
    },
    "executionInfo": {
     "elapsed": 280,
     "status": "ok",
     "timestamp": 1623848518689,
     "user": {
      "displayName": "Ignacio Soteras",
      "photoUrl": "",
      "userId": "02050793736257155229"
     },
     "user_tz": -120
    },
    "id": "jHfWQSmth9yR",
    "outputId": "d952adf3-9ced-4a61-dc93-14ed804a4fe1"
   },
   "outputs": [
    {
     "data": {
      "text/plain": [
       "0      75\n",
       "1     221\n",
       "2     242\n",
       "3     111\n",
       "4     253\n",
       "5     146\n",
       "6     157\n",
       "7     124\n",
       "8     236\n",
       "9     119\n",
       "10     29\n",
       "11    125\n",
       "12    386\n",
       "13    302\n",
       "14    105\n",
       "15    191\n",
       "16    107\n",
       "Name: count, dtype: int64"
      ]
     },
     "execution_count": 12,
     "metadata": {},
     "output_type": "execute_result"
    }
   ],
   "source": [
    "clusters = kmeans.predict(X_scaled_df)\n",
    "#clusters\n",
    "pd.Series(clusters).value_counts().sort_index()"
   ]
  },
  {
   "cell_type": "code",
   "execution_count": 13,
   "metadata": {},
   "outputs": [
    {
     "data": {
      "text/plain": [
       "array([14, 14, 14, ..., 11,  7,  4], dtype=int32)"
      ]
     },
     "execution_count": 13,
     "metadata": {},
     "output_type": "execute_result"
    }
   ],
   "source": [
    "clusters"
   ]
  },
  {
   "cell_type": "code",
   "execution_count": 29,
   "metadata": {
    "colab": {
     "base_uri": "https://localhost:8080/",
     "height": 225
    },
    "executionInfo": {
     "elapsed": 234,
     "status": "ok",
     "timestamp": 1623848601645,
     "user": {
      "displayName": "Ignacio Soteras",
      "photoUrl": "",
      "userId": "02050793736257155229"
     },
     "user_tz": -120
    },
    "id": "RmWPL4DjiyIP",
    "outputId": "b1a15218-8112-4e6f-c87a-f6e4a972080d"
   },
   "outputs": [
    {
     "data": {
      "text/html": [
       "<div>\n",
       "<style scoped>\n",
       "    .dataframe tbody tr th:only-of-type {\n",
       "        vertical-align: middle;\n",
       "    }\n",
       "\n",
       "    .dataframe tbody tr th {\n",
       "        vertical-align: top;\n",
       "    }\n",
       "\n",
       "    .dataframe thead th {\n",
       "        text-align: right;\n",
       "    }\n",
       "</style>\n",
       "<table border=\"1\" class=\"dataframe\">\n",
       "  <thead>\n",
       "    <tr style=\"text-align: right;\">\n",
       "      <th></th>\n",
       "      <th>danceability</th>\n",
       "      <th>energy</th>\n",
       "      <th>key</th>\n",
       "      <th>loudness</th>\n",
       "      <th>mode</th>\n",
       "      <th>speechiness</th>\n",
       "      <th>acousticness</th>\n",
       "      <th>instrumentalness</th>\n",
       "      <th>liveness</th>\n",
       "      <th>valence</th>\n",
       "      <th>tempo</th>\n",
       "      <th>id</th>\n",
       "      <th>duration_ms</th>\n",
       "      <th>time_signature</th>\n",
       "      <th>cluster</th>\n",
       "    </tr>\n",
       "  </thead>\n",
       "  <tbody>\n",
       "    <tr>\n",
       "      <th>0</th>\n",
       "      <td>0.0623</td>\n",
       "      <td>0.0116</td>\n",
       "      <td>2</td>\n",
       "      <td>-27.893</td>\n",
       "      <td>1</td>\n",
       "      <td>0.0567</td>\n",
       "      <td>0.991</td>\n",
       "      <td>0.445000</td>\n",
       "      <td>0.0816</td>\n",
       "      <td>0.0331</td>\n",
       "      <td>65.057</td>\n",
       "      <td>0S0YKiEdR9cT9pYgEaTevF</td>\n",
       "      <td>415800</td>\n",
       "      <td>3</td>\n",
       "      <td>14</td>\n",
       "    </tr>\n",
       "    <tr>\n",
       "      <th>1</th>\n",
       "      <td>0.2330</td>\n",
       "      <td>0.0217</td>\n",
       "      <td>1</td>\n",
       "      <td>-29.785</td>\n",
       "      <td>1</td>\n",
       "      <td>0.0413</td>\n",
       "      <td>0.988</td>\n",
       "      <td>0.819000</td>\n",
       "      <td>0.0836</td>\n",
       "      <td>0.0710</td>\n",
       "      <td>66.349</td>\n",
       "      <td>1ZqzUiCQICQmjtpbFZYwnt</td>\n",
       "      <td>253293</td>\n",
       "      <td>3</td>\n",
       "      <td>14</td>\n",
       "    </tr>\n",
       "    <tr>\n",
       "      <th>2</th>\n",
       "      <td>0.1960</td>\n",
       "      <td>0.0539</td>\n",
       "      <td>5</td>\n",
       "      <td>-28.217</td>\n",
       "      <td>1</td>\n",
       "      <td>0.0438</td>\n",
       "      <td>0.993</td>\n",
       "      <td>0.031600</td>\n",
       "      <td>0.1160</td>\n",
       "      <td>0.0482</td>\n",
       "      <td>132.747</td>\n",
       "      <td>3vA1AS2PWl4RePRCiR36lb</td>\n",
       "      <td>236907</td>\n",
       "      <td>3</td>\n",
       "      <td>14</td>\n",
       "    </tr>\n",
       "    <tr>\n",
       "      <th>3</th>\n",
       "      <td>0.0986</td>\n",
       "      <td>0.0949</td>\n",
       "      <td>1</td>\n",
       "      <td>-21.002</td>\n",
       "      <td>1</td>\n",
       "      <td>0.0441</td>\n",
       "      <td>0.993</td>\n",
       "      <td>0.353000</td>\n",
       "      <td>0.0847</td>\n",
       "      <td>0.0363</td>\n",
       "      <td>174.628</td>\n",
       "      <td>1aJcDNDrKduMegTZzOemVd</td>\n",
       "      <td>232667</td>\n",
       "      <td>4</td>\n",
       "      <td>3</td>\n",
       "    </tr>\n",
       "    <tr>\n",
       "      <th>4</th>\n",
       "      <td>0.1370</td>\n",
       "      <td>0.0759</td>\n",
       "      <td>11</td>\n",
       "      <td>-25.740</td>\n",
       "      <td>0</td>\n",
       "      <td>0.0401</td>\n",
       "      <td>0.975</td>\n",
       "      <td>0.263000</td>\n",
       "      <td>0.1050</td>\n",
       "      <td>0.0363</td>\n",
       "      <td>142.767</td>\n",
       "      <td>4htAzv3rkpAzCjo2pW12id</td>\n",
       "      <td>180000</td>\n",
       "      <td>4</td>\n",
       "      <td>3</td>\n",
       "    </tr>\n",
       "    <tr>\n",
       "      <th>...</th>\n",
       "      <td>...</td>\n",
       "      <td>...</td>\n",
       "      <td>...</td>\n",
       "      <td>...</td>\n",
       "      <td>...</td>\n",
       "      <td>...</td>\n",
       "      <td>...</td>\n",
       "      <td>...</td>\n",
       "      <td>...</td>\n",
       "      <td>...</td>\n",
       "      <td>...</td>\n",
       "      <td>...</td>\n",
       "      <td>...</td>\n",
       "      <td>...</td>\n",
       "      <td>...</td>\n",
       "    </tr>\n",
       "    <tr>\n",
       "      <th>2924</th>\n",
       "      <td>0.4580</td>\n",
       "      <td>0.1550</td>\n",
       "      <td>10</td>\n",
       "      <td>-17.853</td>\n",
       "      <td>1</td>\n",
       "      <td>0.0405</td>\n",
       "      <td>0.908</td>\n",
       "      <td>0.621000</td>\n",
       "      <td>0.2990</td>\n",
       "      <td>0.2760</td>\n",
       "      <td>126.281</td>\n",
       "      <td>2bPeAxNC1S1C359ds8Tw3X</td>\n",
       "      <td>526893</td>\n",
       "      <td>4</td>\n",
       "      <td>0</td>\n",
       "    </tr>\n",
       "    <tr>\n",
       "      <th>2925</th>\n",
       "      <td>0.6490</td>\n",
       "      <td>0.2710</td>\n",
       "      <td>5</td>\n",
       "      <td>-15.198</td>\n",
       "      <td>0</td>\n",
       "      <td>0.0498</td>\n",
       "      <td>0.708</td>\n",
       "      <td>0.000005</td>\n",
       "      <td>0.1240</td>\n",
       "      <td>0.6260</td>\n",
       "      <td>126.026</td>\n",
       "      <td>4jCoxXaEKeTWkQ7HL1d5de</td>\n",
       "      <td>441027</td>\n",
       "      <td>4</td>\n",
       "      <td>0</td>\n",
       "    </tr>\n",
       "    <tr>\n",
       "      <th>2926</th>\n",
       "      <td>0.3500</td>\n",
       "      <td>0.6070</td>\n",
       "      <td>5</td>\n",
       "      <td>-11.141</td>\n",
       "      <td>0</td>\n",
       "      <td>0.0498</td>\n",
       "      <td>0.794</td>\n",
       "      <td>0.446000</td>\n",
       "      <td>0.1160</td>\n",
       "      <td>0.5970</td>\n",
       "      <td>187.101</td>\n",
       "      <td>1QlTNF43OyKK9BorIRsJ8o</td>\n",
       "      <td>422640</td>\n",
       "      <td>4</td>\n",
       "      <td>11</td>\n",
       "    </tr>\n",
       "    <tr>\n",
       "      <th>2927</th>\n",
       "      <td>0.3550</td>\n",
       "      <td>0.1520</td>\n",
       "      <td>5</td>\n",
       "      <td>-14.864</td>\n",
       "      <td>0</td>\n",
       "      <td>0.0401</td>\n",
       "      <td>0.924</td>\n",
       "      <td>0.077100</td>\n",
       "      <td>0.1260</td>\n",
       "      <td>0.1450</td>\n",
       "      <td>65.215</td>\n",
       "      <td>6x8XKDM8Rnid4TyOUg9kj3</td>\n",
       "      <td>320773</td>\n",
       "      <td>4</td>\n",
       "      <td>7</td>\n",
       "    </tr>\n",
       "    <tr>\n",
       "      <th>2928</th>\n",
       "      <td>0.4620</td>\n",
       "      <td>0.0536</td>\n",
       "      <td>8</td>\n",
       "      <td>-17.550</td>\n",
       "      <td>1</td>\n",
       "      <td>0.0321</td>\n",
       "      <td>0.960</td>\n",
       "      <td>0.000219</td>\n",
       "      <td>0.1210</td>\n",
       "      <td>0.1380</td>\n",
       "      <td>63.118</td>\n",
       "      <td>7981FAW8DbDs1ueK4Ha8R2</td>\n",
       "      <td>332120</td>\n",
       "      <td>4</td>\n",
       "      <td>4</td>\n",
       "    </tr>\n",
       "  </tbody>\n",
       "</table>\n",
       "<p>2929 rows × 15 columns</p>\n",
       "</div>"
      ],
      "text/plain": [
       "      danceability  energy  key  loudness  mode  speechiness  acousticness  \\\n",
       "0           0.0623  0.0116    2   -27.893     1       0.0567         0.991   \n",
       "1           0.2330  0.0217    1   -29.785     1       0.0413         0.988   \n",
       "2           0.1960  0.0539    5   -28.217     1       0.0438         0.993   \n",
       "3           0.0986  0.0949    1   -21.002     1       0.0441         0.993   \n",
       "4           0.1370  0.0759   11   -25.740     0       0.0401         0.975   \n",
       "...            ...     ...  ...       ...   ...          ...           ...   \n",
       "2924        0.4580  0.1550   10   -17.853     1       0.0405         0.908   \n",
       "2925        0.6490  0.2710    5   -15.198     0       0.0498         0.708   \n",
       "2926        0.3500  0.6070    5   -11.141     0       0.0498         0.794   \n",
       "2927        0.3550  0.1520    5   -14.864     0       0.0401         0.924   \n",
       "2928        0.4620  0.0536    8   -17.550     1       0.0321         0.960   \n",
       "\n",
       "      instrumentalness  liveness  valence    tempo                      id  \\\n",
       "0             0.445000    0.0816   0.0331   65.057  0S0YKiEdR9cT9pYgEaTevF   \n",
       "1             0.819000    0.0836   0.0710   66.349  1ZqzUiCQICQmjtpbFZYwnt   \n",
       "2             0.031600    0.1160   0.0482  132.747  3vA1AS2PWl4RePRCiR36lb   \n",
       "3             0.353000    0.0847   0.0363  174.628  1aJcDNDrKduMegTZzOemVd   \n",
       "4             0.263000    0.1050   0.0363  142.767  4htAzv3rkpAzCjo2pW12id   \n",
       "...                ...       ...      ...      ...                     ...   \n",
       "2924          0.621000    0.2990   0.2760  126.281  2bPeAxNC1S1C359ds8Tw3X   \n",
       "2925          0.000005    0.1240   0.6260  126.026  4jCoxXaEKeTWkQ7HL1d5de   \n",
       "2926          0.446000    0.1160   0.5970  187.101  1QlTNF43OyKK9BorIRsJ8o   \n",
       "2927          0.077100    0.1260   0.1450   65.215  6x8XKDM8Rnid4TyOUg9kj3   \n",
       "2928          0.000219    0.1210   0.1380   63.118  7981FAW8DbDs1ueK4Ha8R2   \n",
       "\n",
       "      duration_ms  time_signature  cluster  \n",
       "0          415800               3       14  \n",
       "1          253293               3       14  \n",
       "2          236907               3       14  \n",
       "3          232667               4        3  \n",
       "4          180000               4        3  \n",
       "...           ...             ...      ...  \n",
       "2924       526893               4        0  \n",
       "2925       441027               4        0  \n",
       "2926       422640               4       11  \n",
       "2927       320773               4        7  \n",
       "2928       332120               4        4  \n",
       "\n",
       "[2929 rows x 15 columns]"
      ]
     },
     "execution_count": 29,
     "metadata": {},
     "output_type": "execute_result"
    }
   ],
   "source": [
    "# Add cluster to df\n",
    "df[\"cluster\"] = clusters\n",
    "df"
   ]
  },
  {
   "cell_type": "code",
   "execution_count": 74,
   "metadata": {
    "tags": []
   },
   "outputs": [
    {
     "name": "stdout",
     "output_type": "stream",
     "text": [
      "DataFrame exported to CSV successfully.\n"
     ]
    }
   ],
   "source": [
    "df.to_csv('my_music_training_data.csv', index=False)\n",
    "\n",
    "print(\"DataFrame exported to CSV successfully.\")"
   ]
  },
  {
   "cell_type": "markdown",
   "metadata": {
    "tags": []
   },
   "source": [
    "## Asking a user to input a song"
   ]
  },
  {
   "cell_type": "code",
   "execution_count": 76,
   "metadata": {
    "tags": []
   },
   "outputs": [
    {
     "name": "stdin",
     "output_type": "stream",
     "text": [
      "Please enter the name of a song. Tip: include the artist name for optimal results:  blue one love\n"
     ]
    },
    {
     "name": "stdout",
     "output_type": "stream",
     "text": [
      "You entered the search: blue one love\n"
     ]
    }
   ],
   "source": [
    "# Ask the user to input a song\n",
    "song = input(\"Please enter the name of a song. Tip: include the artist name for optimal results: \")\n",
    "\n",
    "# Print the song name entered by the user\n",
    "print(\"You entered the search:\", song)"
   ]
  },
  {
   "cell_type": "markdown",
   "metadata": {},
   "source": [
    "## Search song that user has input and retrieve track_id "
   ]
  },
  {
   "cell_type": "code",
   "execution_count": 77,
   "metadata": {
    "tags": []
   },
   "outputs": [
    {
     "data": {
      "text/plain": [
       "'2W5acFzXf5FrktecuD30Or'"
      ]
     },
     "execution_count": 77,
     "metadata": {},
     "output_type": "execute_result"
    }
   ],
   "source": [
    "# Searching user input on Spotify \n",
    "\n",
    "import config\n",
    "import spotipy\n",
    "from spotipy.oauth2 import SpotifyClientCredentials\n",
    "\n",
    "#Initialize SpotiPy with user credentials\n",
    "sp = spotipy.Spotify(auth_manager=SpotifyClientCredentials(client_id= config.client_id,\n",
    "                                                           client_secret= config.client_secret))\n",
    "\n",
    "song_result = sp.search(q=song,limit = 1, type = \"track\")\n",
    "track_id=song_result[\"tracks\"][\"items\"][0][\"id\"]\n",
    "track_id\n"
   ]
  },
  {
   "cell_type": "code",
   "execution_count": 78,
   "metadata": {
    "tags": []
   },
   "outputs": [
    {
     "data": {
      "text/html": [
       "\n",
       "        <iframe\n",
       "            width=\"320\"\n",
       "            height=\"80\"\n",
       "            src=\"https://open.spotify.com/embed/track/2W5acFzXf5FrktecuD30Or?frameborder=0&allowtransparency=true&allow=encrypted-media\"\n",
       "            frameborder=\"0\"\n",
       "            allowfullscreen\n",
       "            \n",
       "        ></iframe>\n",
       "        "
      ],
      "text/plain": [
       "<IPython.lib.display.IFrame at 0x13b853cd0>"
      ]
     },
     "execution_count": 78,
     "metadata": {},
     "output_type": "execute_result"
    }
   ],
   "source": [
    "from IPython.display import IFrame\n",
    "\n",
    "IFrame(src=\"https://open.spotify.com/embed/track/\"+track_id,\n",
    "       width=\"320\",\n",
    "       height=\"80\",\n",
    "       frameborder=\"0\",\n",
    "       allowtransparency=\"true\",\n",
    "       allow=\"encrypted-media\",\n",
    "      )"
   ]
  },
  {
   "cell_type": "markdown",
   "metadata": {},
   "source": [
    "## Retrieve audio features from track_id"
   ]
  },
  {
   "cell_type": "code",
   "execution_count": 79,
   "metadata": {
    "tags": []
   },
   "outputs": [
    {
     "data": {
      "text/plain": [
       "[{'danceability': 0.683,\n",
       "  'energy': 0.722,\n",
       "  'key': 8,\n",
       "  'loudness': -4.039,\n",
       "  'mode': 0,\n",
       "  'speechiness': 0.0358,\n",
       "  'acousticness': 0.0243,\n",
       "  'instrumentalness': 4.2e-05,\n",
       "  'liveness': 0.35,\n",
       "  'valence': 0.854,\n",
       "  'tempo': 95.012,\n",
       "  'type': 'audio_features',\n",
       "  'id': '2W5acFzXf5FrktecuD30Or',\n",
       "  'uri': 'spotify:track:2W5acFzXf5FrktecuD30Or',\n",
       "  'track_href': 'https://api.spotify.com/v1/tracks/2W5acFzXf5FrktecuD30Or',\n",
       "  'analysis_url': 'https://api.spotify.com/v1/audio-analysis/2W5acFzXf5FrktecuD30Or',\n",
       "  'duration_ms': 207187,\n",
       "  'time_signature': 4}]"
      ]
     },
     "execution_count": 79,
     "metadata": {},
     "output_type": "execute_result"
    }
   ],
   "source": [
    "sp.audio_features(track_id)"
   ]
  },
  {
   "cell_type": "markdown",
   "metadata": {
    "tags": []
   },
   "source": [
    "## Create scaled array of sample "
   ]
  },
  {
   "cell_type": "code",
   "execution_count": 80,
   "metadata": {
    "tags": []
   },
   "outputs": [
    {
     "data": {
      "text/plain": [
       "array([[ 0.4282072 ,  0.54522832,  0.76227698,  0.91099995, -1.25541921,\n",
       "        -0.56279734, -0.87476558, -0.44253756,  1.09201628,  1.2031372 ,\n",
       "        -0.91680166, -0.35017752,  0.2113587 ]])"
      ]
     },
     "execution_count": 80,
     "metadata": {},
     "output_type": "execute_result"
    }
   ],
   "source": [
    "# Create DataFrame from dictionary\n",
    "sample_df = pd.DataFrame(sp.audio_features(track_id)).drop(columns = [\"id\",\"type\",\"uri\",\"track_href\",\"analysis_url\"]) # Remove non-numerical columns and ID\n",
    "sample_array_scaled = scaler.transform(sample_df)\n",
    "sample_array_scaled"
   ]
  },
  {
   "cell_type": "markdown",
   "metadata": {
    "tags": []
   },
   "source": [
    "## Predict cluster of given sample "
   ]
  },
  {
   "cell_type": "code",
   "execution_count": 81,
   "metadata": {
    "tags": []
   },
   "outputs": [
    {
     "name": "stderr",
     "output_type": "stream",
     "text": [
      "/Users/matthewbatchelor/anaconda3/lib/python3.11/site-packages/sklearn/base.py:464: UserWarning: X does not have valid feature names, but KMeans was fitted with feature names\n",
      "  warnings.warn(\n"
     ]
    },
    {
     "data": {
      "text/plain": [
       "2"
      ]
     },
     "execution_count": 81,
     "metadata": {},
     "output_type": "execute_result"
    }
   ],
   "source": [
    "from sklearn.cluster import KMeans\n",
    "\n",
    "sample_pred = kmeans.predict(sample_array_scaled)\n",
    "sample_cluster = sample_pred[0]\n",
    "sample_cluster"
   ]
  },
  {
   "cell_type": "markdown",
   "metadata": {
    "tags": []
   },
   "source": [
    "## Retrieving a sample from a given cluster "
   ]
  },
  {
   "cell_type": "code",
   "execution_count": 82,
   "metadata": {
    "tags": []
   },
   "outputs": [
    {
     "data": {
      "text/html": [
       "<div>\n",
       "<style scoped>\n",
       "    .dataframe tbody tr th:only-of-type {\n",
       "        vertical-align: middle;\n",
       "    }\n",
       "\n",
       "    .dataframe tbody tr th {\n",
       "        vertical-align: top;\n",
       "    }\n",
       "\n",
       "    .dataframe thead th {\n",
       "        text-align: right;\n",
       "    }\n",
       "</style>\n",
       "<table border=\"1\" class=\"dataframe\">\n",
       "  <thead>\n",
       "    <tr style=\"text-align: right;\">\n",
       "      <th></th>\n",
       "      <th>danceability</th>\n",
       "      <th>energy</th>\n",
       "      <th>key</th>\n",
       "      <th>loudness</th>\n",
       "      <th>mode</th>\n",
       "      <th>speechiness</th>\n",
       "      <th>acousticness</th>\n",
       "      <th>instrumentalness</th>\n",
       "      <th>liveness</th>\n",
       "      <th>valence</th>\n",
       "      <th>tempo</th>\n",
       "      <th>id</th>\n",
       "      <th>duration_ms</th>\n",
       "      <th>time_signature</th>\n",
       "      <th>cluster</th>\n",
       "    </tr>\n",
       "  </thead>\n",
       "  <tbody>\n",
       "    <tr>\n",
       "      <th>425</th>\n",
       "      <td>0.847</td>\n",
       "      <td>0.389</td>\n",
       "      <td>9</td>\n",
       "      <td>-15.362</td>\n",
       "      <td>0</td>\n",
       "      <td>0.0569</td>\n",
       "      <td>0.0753</td>\n",
       "      <td>0.000012</td>\n",
       "      <td>0.0471</td>\n",
       "      <td>0.968</td>\n",
       "      <td>111.52</td>\n",
       "      <td>4Cv6ongCvJy9JfSkWVnb5D</td>\n",
       "      <td>293667</td>\n",
       "      <td>4</td>\n",
       "      <td>2</td>\n",
       "    </tr>\n",
       "  </tbody>\n",
       "</table>\n",
       "</div>"
      ],
      "text/plain": [
       "     danceability  energy  key  loudness  mode  speechiness  acousticness  \\\n",
       "425         0.847   0.389    9   -15.362     0       0.0569        0.0753   \n",
       "\n",
       "     instrumentalness  liveness  valence   tempo                      id  \\\n",
       "425          0.000012    0.0471    0.968  111.52  4Cv6ongCvJy9JfSkWVnb5D   \n",
       "\n",
       "     duration_ms  time_signature  cluster  \n",
       "425       293667               4        2  "
      ]
     },
     "execution_count": 82,
     "metadata": {},
     "output_type": "execute_result"
    }
   ],
   "source": [
    "recommendation = df[df['cluster'] == sample_cluster].sample()\n",
    "recommendation"
   ]
  },
  {
   "cell_type": "markdown",
   "metadata": {
    "tags": []
   },
   "source": [
    "## Playing retrieved sample from given cluster"
   ]
  },
  {
   "cell_type": "code",
   "execution_count": 83,
   "metadata": {
    "tags": []
   },
   "outputs": [
    {
     "name": "stdout",
     "output_type": "stream",
     "text": [
      "Isolated recommendation id: 4Cv6ongCvJy9JfSkWVnb5D\n"
     ]
    }
   ],
   "source": [
    "import numpy as np\n",
    "\n",
    "# Assuming recommendation.id is a NumPy array\n",
    "recommendation_id = np.array(recommendation.id)\n",
    "\n",
    "# Convert the NumPy array to a string\n",
    "id_string = str(recommendation_id)\n",
    "\n",
    "# Split the string by single quotes and take the second element (index 1)\n",
    "recommendation_id_isolated = id_string.split(\"'\")[1]\n",
    "\n",
    "# Print the extracted value\n",
    "print(\"Isolated recommendation id:\", recommendation_id_isolated)"
   ]
  },
  {
   "cell_type": "code",
   "execution_count": 85,
   "metadata": {
    "tags": []
   },
   "outputs": [
    {
     "data": {
      "text/html": [
       "\n",
       "        <iframe\n",
       "            width=\"320\"\n",
       "            height=\"80\"\n",
       "            src=\"https://open.spotify.com/embed/track/4Cv6ongCvJy9JfSkWVnb5D?frameborder=0&allowtransparency=true&allow=encrypted-media\"\n",
       "            frameborder=\"0\"\n",
       "            allowfullscreen\n",
       "            \n",
       "        ></iframe>\n",
       "        "
      ],
      "text/plain": [
       "<IPython.lib.display.IFrame at 0x137018ed0>"
      ]
     },
     "execution_count": 85,
     "metadata": {},
     "output_type": "execute_result"
    }
   ],
   "source": [
    "IFrame(src=\"https://open.spotify.com/embed/track/\"+recommendation_id_isolated,\n",
    "       width=\"320\",\n",
    "       height=\"80\",\n",
    "       frameborder=\"0\",\n",
    "       allowtransparency=\"true\",\n",
    "       allow=\"encrypted-media\",\n",
    "      )"
   ]
  },
  {
   "cell_type": "markdown",
   "metadata": {
    "id": "3NkfqPiJjb76"
   },
   "source": [
    "## Playing with the parameters"
   ]
  },
  {
   "cell_type": "markdown",
   "metadata": {
    "id": "O2KwLLpijvAw"
   },
   "source": [
    "**init**: those are the different initialization strategies. By default, sklearn is already using a 'smart' method, not the totally random one we saw.\n",
    "\n",
    "**n_init**: By default, Scikit-Learn has tried 10 different random initializations and kept the best model.\n",
    "\n",
    "[Scikitlearn Documentation](https://scikit-learn.org/stable/modules/generated/sklearn.cluster.KMeans.html)\n",
    "\n",
    "How does Scikit-Learn know which model is the best? It uses a performance metric called **inertia**. **It is the mean squared distance between each instance and its closest centroid**. It's stored in the inertia_ attribute of the model."
   ]
  },
  {
   "cell_type": "code",
   "execution_count": 15,
   "metadata": {
    "colab": {
     "base_uri": "https://localhost:8080/"
    },
    "executionInfo": {
     "elapsed": 228,
     "status": "ok",
     "timestamp": 1623848859464,
     "user": {
      "displayName": "Ignacio Soteras",
      "photoUrl": "",
      "userId": "02050793736257155229"
     },
     "user_tz": -120
    },
    "id": "IfB_M6fgkYrO",
    "outputId": "f7437ec0-2b22-4f65-ee9d-6e1efec6eda0"
   },
   "outputs": [
    {
     "data": {
      "text/plain": [
       "1277.9284888446423"
      ]
     },
     "execution_count": 15,
     "metadata": {},
     "output_type": "execute_result"
    }
   ],
   "source": [
    "kmeans.inertia_"
   ]
  },
  {
   "cell_type": "markdown",
   "metadata": {
    "id": "FC1zC3e7kg-3"
   },
   "source": [
    "**max_iter**: It iterates up to 300 times by default (those are the re-computing centroids iterations we saw earlier)\n",
    "\n",
    "**tol**: This is a way to determine when to stop iterating (if the clusters have changed only veeeery slightly, we assume we have achieved 'convergence')\n",
    "\n",
    "**algorithm**: There are variations in the implementation of most algorithms and K-Means is no exception. By default, we're using a 'smart' implementation called elkan.\n",
    "\n",
    "For learning purposes, we will tweak the parameters to replicate the good ol' K-Means - a bit dumber than the Scikit-Learn, yes, but also the original."
   ]
  },
  {
   "cell_type": "code",
   "execution_count": 16,
   "metadata": {
    "colab": {
     "base_uri": "https://localhost:8080/"
    },
    "executionInfo": {
     "elapsed": 228,
     "status": "ok",
     "timestamp": 1623848956571,
     "user": {
      "displayName": "Ignacio Soteras",
      "photoUrl": "",
      "userId": "02050793736257155229"
     },
     "user_tz": -120
    },
    "id": "mTUnGONElwzm",
    "outputId": "e2be9ff2-7612-4b3e-d091-203cae32721c"
   },
   "outputs": [
    {
     "name": "stdout",
     "output_type": "stream",
     "text": [
      "1277.9284888446423\n"
     ]
    }
   ],
   "source": [
    "kmeans2 = KMeans(n_clusters=3,\n",
    "                init=\"k-means++\",\n",
    "                n_init=10,  # try with 1, 4, 8, 20, 30, 100...\n",
    "                max_iter=5,\n",
    "                algorithm=\"elkan\",\n",
    "                random_state=1234)\n",
    "kmeans2.fit(X_scaled_df)\n",
    "print(kmeans2.inertia_)"
   ]
  },
  {
   "cell_type": "markdown",
   "metadata": {
    "id": "77b-H29dnlLP"
   },
   "source": [
    "## Choosing K"
   ]
  },
  {
   "cell_type": "markdown",
   "metadata": {
    "id": "L8_TbXg4no6m"
   },
   "source": [
    "We have used K=8 by default for now - but we know that 8 might not be the optimal number of clusters for our dataset. Having a metric like inertia, we can compute it for several K values and then use the \"elbow method\" to choose the best K.\n",
    "\n",
    "We will now leave all other parameters with their default value, since it seems to work pretty well."
   ]
  },
  {
   "cell_type": "code",
   "execution_count": 17,
   "metadata": {
    "colab": {
     "base_uri": "https://localhost:8080/",
     "height": 1000
    },
    "executionInfo": {
     "elapsed": 2117,
     "status": "ok",
     "timestamp": 1623849240010,
     "user": {
      "displayName": "Ignacio Soteras",
      "photoUrl": "",
      "userId": "02050793736257155229"
     },
     "user_tz": -120
    },
    "id": "g69gpyLSnqVS",
    "outputId": "5eff7e09-1033-499e-ca86-a5b49f356400"
   },
   "outputs": [
    {
     "name": "stdout",
     "output_type": "stream",
     "text": [
      "Training a K-Means model with 2 clusters! \n",
      "\n"
     ]
    },
    {
     "name": "stderr",
     "output_type": "stream",
     "text": [
      "/Users/matthewbatchelor/anaconda3/lib/python3.11/site-packages/sklearn/cluster/_kmeans.py:1412: FutureWarning: The default value of `n_init` will change from 10 to 'auto' in 1.4. Set the value of `n_init` explicitly to suppress the warning\n",
      "  super()._check_params_vs_input(X, default_n_init=10)\n"
     ]
    },
    {
     "name": "stdout",
     "output_type": "stream",
     "text": [
      "Training a K-Means model with 3 clusters! \n",
      "\n",
      "Training a K-Means model with 4 clusters! \n",
      "\n",
      "Training a K-Means model with 5 clusters! \n",
      "\n",
      "Training a K-Means model with 6 clusters! \n",
      "\n",
      "Training a K-Means model with 7 clusters! \n",
      "\n"
     ]
    },
    {
     "name": "stderr",
     "output_type": "stream",
     "text": [
      "/Users/matthewbatchelor/anaconda3/lib/python3.11/site-packages/sklearn/cluster/_kmeans.py:1412: FutureWarning: The default value of `n_init` will change from 10 to 'auto' in 1.4. Set the value of `n_init` explicitly to suppress the warning\n",
      "  super()._check_params_vs_input(X, default_n_init=10)\n",
      "/Users/matthewbatchelor/anaconda3/lib/python3.11/site-packages/sklearn/cluster/_kmeans.py:1412: FutureWarning: The default value of `n_init` will change from 10 to 'auto' in 1.4. Set the value of `n_init` explicitly to suppress the warning\n",
      "  super()._check_params_vs_input(X, default_n_init=10)\n",
      "/Users/matthewbatchelor/anaconda3/lib/python3.11/site-packages/sklearn/cluster/_kmeans.py:1412: FutureWarning: The default value of `n_init` will change from 10 to 'auto' in 1.4. Set the value of `n_init` explicitly to suppress the warning\n",
      "  super()._check_params_vs_input(X, default_n_init=10)\n",
      "/Users/matthewbatchelor/anaconda3/lib/python3.11/site-packages/sklearn/cluster/_kmeans.py:1412: FutureWarning: The default value of `n_init` will change from 10 to 'auto' in 1.4. Set the value of `n_init` explicitly to suppress the warning\n",
      "  super()._check_params_vs_input(X, default_n_init=10)\n",
      "/Users/matthewbatchelor/anaconda3/lib/python3.11/site-packages/sklearn/cluster/_kmeans.py:1412: FutureWarning: The default value of `n_init` will change from 10 to 'auto' in 1.4. Set the value of `n_init` explicitly to suppress the warning\n",
      "  super()._check_params_vs_input(X, default_n_init=10)\n"
     ]
    },
    {
     "name": "stdout",
     "output_type": "stream",
     "text": [
      "Training a K-Means model with 8 clusters! \n",
      "\n",
      "Training a K-Means model with 9 clusters! \n",
      "\n",
      "Training a K-Means model with 10 clusters! \n",
      "\n",
      "Training a K-Means model with 11 clusters! \n",
      "\n"
     ]
    },
    {
     "name": "stderr",
     "output_type": "stream",
     "text": [
      "/Users/matthewbatchelor/anaconda3/lib/python3.11/site-packages/sklearn/cluster/_kmeans.py:1412: FutureWarning: The default value of `n_init` will change from 10 to 'auto' in 1.4. Set the value of `n_init` explicitly to suppress the warning\n",
      "  super()._check_params_vs_input(X, default_n_init=10)\n",
      "/Users/matthewbatchelor/anaconda3/lib/python3.11/site-packages/sklearn/cluster/_kmeans.py:1412: FutureWarning: The default value of `n_init` will change from 10 to 'auto' in 1.4. Set the value of `n_init` explicitly to suppress the warning\n",
      "  super()._check_params_vs_input(X, default_n_init=10)\n",
      "/Users/matthewbatchelor/anaconda3/lib/python3.11/site-packages/sklearn/cluster/_kmeans.py:1412: FutureWarning: The default value of `n_init` will change from 10 to 'auto' in 1.4. Set the value of `n_init` explicitly to suppress the warning\n",
      "  super()._check_params_vs_input(X, default_n_init=10)\n",
      "/Users/matthewbatchelor/anaconda3/lib/python3.11/site-packages/sklearn/cluster/_kmeans.py:1412: FutureWarning: The default value of `n_init` will change from 10 to 'auto' in 1.4. Set the value of `n_init` explicitly to suppress the warning\n",
      "  super()._check_params_vs_input(X, default_n_init=10)\n"
     ]
    },
    {
     "name": "stdout",
     "output_type": "stream",
     "text": [
      "Training a K-Means model with 12 clusters! \n",
      "\n",
      "Training a K-Means model with 13 clusters! \n",
      "\n",
      "Training a K-Means model with 14 clusters! \n",
      "\n",
      "Training a K-Means model with 15 clusters! \n",
      "\n"
     ]
    },
    {
     "name": "stderr",
     "output_type": "stream",
     "text": [
      "/Users/matthewbatchelor/anaconda3/lib/python3.11/site-packages/sklearn/cluster/_kmeans.py:1412: FutureWarning: The default value of `n_init` will change from 10 to 'auto' in 1.4. Set the value of `n_init` explicitly to suppress the warning\n",
      "  super()._check_params_vs_input(X, default_n_init=10)\n",
      "/Users/matthewbatchelor/anaconda3/lib/python3.11/site-packages/sklearn/cluster/_kmeans.py:1412: FutureWarning: The default value of `n_init` will change from 10 to 'auto' in 1.4. Set the value of `n_init` explicitly to suppress the warning\n",
      "  super()._check_params_vs_input(X, default_n_init=10)\n",
      "/Users/matthewbatchelor/anaconda3/lib/python3.11/site-packages/sklearn/cluster/_kmeans.py:1412: FutureWarning: The default value of `n_init` will change from 10 to 'auto' in 1.4. Set the value of `n_init` explicitly to suppress the warning\n",
      "  super()._check_params_vs_input(X, default_n_init=10)\n",
      "/Users/matthewbatchelor/anaconda3/lib/python3.11/site-packages/sklearn/cluster/_kmeans.py:1412: FutureWarning: The default value of `n_init` will change from 10 to 'auto' in 1.4. Set the value of `n_init` explicitly to suppress the warning\n",
      "  super()._check_params_vs_input(X, default_n_init=10)\n"
     ]
    },
    {
     "name": "stdout",
     "output_type": "stream",
     "text": [
      "Training a K-Means model with 16 clusters! \n",
      "\n",
      "Training a K-Means model with 17 clusters! \n",
      "\n",
      "Training a K-Means model with 18 clusters! \n",
      "\n"
     ]
    },
    {
     "name": "stderr",
     "output_type": "stream",
     "text": [
      "/Users/matthewbatchelor/anaconda3/lib/python3.11/site-packages/sklearn/cluster/_kmeans.py:1412: FutureWarning: The default value of `n_init` will change from 10 to 'auto' in 1.4. Set the value of `n_init` explicitly to suppress the warning\n",
      "  super()._check_params_vs_input(X, default_n_init=10)\n",
      "/Users/matthewbatchelor/anaconda3/lib/python3.11/site-packages/sklearn/cluster/_kmeans.py:1412: FutureWarning: The default value of `n_init` will change from 10 to 'auto' in 1.4. Set the value of `n_init` explicitly to suppress the warning\n",
      "  super()._check_params_vs_input(X, default_n_init=10)\n",
      "/Users/matthewbatchelor/anaconda3/lib/python3.11/site-packages/sklearn/cluster/_kmeans.py:1412: FutureWarning: The default value of `n_init` will change from 10 to 'auto' in 1.4. Set the value of `n_init` explicitly to suppress the warning\n",
      "  super()._check_params_vs_input(X, default_n_init=10)\n"
     ]
    },
    {
     "name": "stdout",
     "output_type": "stream",
     "text": [
      "Training a K-Means model with 19 clusters! \n",
      "\n",
      "Training a K-Means model with 20 clusters! \n",
      "\n"
     ]
    },
    {
     "name": "stderr",
     "output_type": "stream",
     "text": [
      "/Users/matthewbatchelor/anaconda3/lib/python3.11/site-packages/sklearn/cluster/_kmeans.py:1412: FutureWarning: The default value of `n_init` will change from 10 to 'auto' in 1.4. Set the value of `n_init` explicitly to suppress the warning\n",
      "  super()._check_params_vs_input(X, default_n_init=10)\n",
      "/Users/matthewbatchelor/anaconda3/lib/python3.11/site-packages/sklearn/cluster/_kmeans.py:1412: FutureWarning: The default value of `n_init` will change from 10 to 'auto' in 1.4. Set the value of `n_init` explicitly to suppress the warning\n",
      "  super()._check_params_vs_input(X, default_n_init=10)\n"
     ]
    },
    {
     "data": {
      "text/plain": [
       "Text(0.5, 1.0, 'Elbow Method showing the optimal k')"
      ]
     },
     "execution_count": 17,
     "metadata": {},
     "output_type": "execute_result"
    },
    {
     "data": {
      "image/png": "[encoded data removed]",
      "text/plain": [
       "<Figure size 1600x800 with 1 Axes>"
      ]
     },
     "metadata": {},
     "output_type": "display_data"
    }
   ],
   "source": [
    "K = range(2, 21)\n",
    "inertia = []\n",
    "\n",
    "for k in K:\n",
    "    print(\"Training a K-Means model with {} clusters! \".format(k))\n",
    "    print()\n",
    "    kmeans = KMeans(n_clusters=k,\n",
    "                    random_state=1234)\n",
    "    kmeans.fit(X_scaled_df)\n",
    "    inertia.append(kmeans.inertia_)\n",
    "\n",
    "import numpy as np\n",
    "import matplotlib.pyplot as plt\n",
    "%matplotlib inline\n",
    "\n",
    "plt.figure(figsize=(16,8))\n",
    "plt.plot(K, inertia, 'bx-')\n",
    "plt.xlabel('k')\n",
    "plt.ylabel('inertia')\n",
    "plt.xticks(np.arange(min(K), max(K)+1, 1.0))\n",
    "plt.title('Elbow Method showing the optimal k')"
   ]
  },
  {
   "cell_type": "markdown",
   "metadata": {
    "id": "nSnuBHPro2xZ"
   },
   "source": [
    "There seems to be an elbow at **k=3**, and then a very slight one at k=10, but other than that the plot is quite smooth. What if our business needs involve having a k between 5 and 8?\n",
    "\n",
    "There is another metric that will help us decide."
   ]
  },
  {
   "cell_type": "markdown",
   "metadata": {
    "id": "shXQmFxLpVU8"
   },
   "source": [
    "## Silhouette"
   ]
  },
  {
   "cell_type": "markdown",
   "metadata": {
    "id": "7t-Ydk-5pYbf"
   },
   "source": [
    "There's a metric called **Silhouette Score** that also measures how similar is an observation is to its own cluster compared to other clusters. For the ith observation, the **Silhouette Score** is:\n",
    "\n",
    "$$s_{K,L} = (b - a) / max(a,b) $$\n",
    "\n",
    "Where:\n",
    "\n",
    "a = mean intra-cluster distance (the average distance between i and every other observation in the cluster where i belongs)\n",
    "\n",
    "$$ a = \\frac{1}{n_{K}}\\sum_{i,j\\neq{i}}^{n_{K}}d(i,j)$$\n",
    "\n",
    "b = mean **nearest-cluster** distance (the average distance between i and the observations of the nearest cluster that i is not part of it)\n",
    "\n",
    "$$ b = \\frac{1}{(n_{K}*n_{L})}\\sum_{i}^{n_{K}}\\sum_{j}^{n_{L}}d(i,j)$$\n",
    "\n",
    "The silhouette score for the whole model is the **average of all the silhouette scores** of each instance.\n",
    "\n",
    "$$ S = \\frac{2}{N(N-1)}\\sum_{c}s_{K,L}$$\n",
    "\n",
    "Because we divide the substraction of (b-a) by the max of the two distances (which will always be b unless the observation has been wrongly assigned to a cluster it should not belong), we obtain a \"normalized score\", that ranges from -1 to 1, and that makes it easier to interpret."
   ]
  },
  {
   "cell_type": "code",
   "execution_count": 18,
   "metadata": {
    "colab": {
     "base_uri": "https://localhost:8080/",
     "height": 530
    },
    "executionInfo": {
     "elapsed": 2352,
     "status": "ok",
     "timestamp": 1623849582213,
     "user": {
      "displayName": "Ignacio Soteras",
      "photoUrl": "",
      "userId": "02050793736257155229"
     },
     "user_tz": -120
    },
    "id": "c4qvvkaOvqjr",
    "outputId": "96b4dea1-2977-4916-c92c-d9090a6886aa"
   },
   "outputs": [
    {
     "data": {
      "text/plain": [
       "Text(0.5, 1.0, 'Silhouette Method showing the optimal k')"
      ]
     },
     "execution_count": 18,
     "metadata": {},
     "output_type": "execute_result"
    },
    {
     "data": {
      "image/png": "[encoded data removed]",
      "text/plain": [
       "<Figure size 1600x800 with 1 Axes>"
      ]
     },
     "metadata": {},
     "output_type": "display_data"
    }
   ],
   "source": [
    "K = range(2, 20)\n",
    "silhouette = []\n",
    "\n",
    "for k in K:\n",
    "    kmeans = KMeans(n_clusters=k,\n",
    "                    random_state=1234, n_init='auto')\n",
    "    kmeans.fit(X_scaled_df)\n",
    "    \n",
    "    filename = \"kmeans_\" + str(k) + \".pickle\"\n",
    "    with open(filename, \"wb\") as f:\n",
    "        pickle.dump(kmeans,f)\n",
    "    \n",
    "    silhouette.append(silhouette_score(X_scaled_df, kmeans.predict(X_scaled_df)))\n",
    "\n",
    "\n",
    "plt.figure(figsize=(16,8))\n",
    "plt.plot(K, silhouette, 'bx-')\n",
    "plt.xlabel('k')\n",
    "plt.ylabel('silhouette score')\n",
    "plt.xticks(np.arange(min(K), max(K)+1, 1.0))\n",
    "plt.title('Silhouette Method showing the optimal k')"
   ]
  },
  {
   "cell_type": "markdown",
   "metadata": {
    "id": "TmE9ES1EwPhL"
   },
   "source": [
    "The greater the Silhouette, the greater the separation between the clusters. In other words, the clusters will be more defined."
   ]
  },
  {
   "cell_type": "markdown",
   "metadata": {},
   "source": [
    "<b> advanced (optional)"
   ]
  },
  {
   "cell_type": "code",
   "execution_count": 19,
   "metadata": {},
   "outputs": [
    {
     "name": "stdout",
     "output_type": "stream",
     "text": [
      "Retrieving notices: ...working... done\n",
      "Collecting package metadata (current_repodata.json): done\n",
      "Solving environment: done\n",
      "\n",
      "\n",
      "==> WARNING: A newer version of conda exists. <==\n",
      "  current version: 23.7.4\n",
      "  latest version: 24.1.1\n",
      "\n",
      "Please update conda by running\n",
      "\n",
      "    $ conda update -n base -c defaults conda\n",
      "\n",
      "Or to minimize the number of packages updated during conda update use\n",
      "\n",
      "     conda install conda=24.1.1\n",
      "\n",
      "\n",
      "\n",
      "## Package Plan ##\n",
      "\n",
      "  environment location: /Users/matthewbatchelor/anaconda3\n",
      "\n",
      "  added / updated specs:\n",
      "    - yellowbrick\n",
      "\n",
      "\n",
      "The following packages will be downloaded:\n",
      "\n",
      "    package                    |            build\n",
      "    ---------------------------|-----------------\n",
      "    certifi-2024.2.2           |  py311hecd8cb5_0         161 KB\n",
      "    yellowbrick-1.5            |  py311hecd8cb5_0         350 KB\n",
      "    ------------------------------------------------------------\n",
      "                                           Total:         511 KB\n",
      "\n",
      "The following NEW packages will be INSTALLED:\n",
      "\n",
      "  yellowbrick        pkgs/main/osx-64::yellowbrick-1.5-py311hecd8cb5_0 \n",
      "\n",
      "The following packages will be SUPERSEDED by a higher-priority channel:\n",
      "\n",
      "  certifi            conda-forge/noarch::certifi-2024.2.2-~ --> pkgs/main/osx-64::certifi-2024.2.2-py311hecd8cb5_0 \n",
      "\n",
      "\n",
      "\n",
      "Downloading and Extracting Packages\n",
      "yellowbrick-1.5      | 350 KB    |                                       |   0% \n",
      "certifi-2024.2.2     | 161 KB    |                                       |   0% \u001b[A\n",
      "yellowbrick-1.5      | 350 KB    | #6                                    |   5% \u001b[A\n",
      "                                                                                \u001b[A\n",
      "                                                                                \u001b[A\n",
      "Preparing transaction: done\n",
      "Verifying transaction: done\n",
      "Executing transaction: done\n",
      "\n",
      "Note: you may need to restart the kernel to use updated packages.\n"
     ]
    }
   ],
   "source": [
    "conda install -c districtdatalabs yellowbrick"
   ]
  },
  {
   "cell_type": "code",
   "execution_count": 20,
   "metadata": {
    "scrolled": true
   },
   "outputs": [
    {
     "name": "stderr",
     "output_type": "stream",
     "text": [
      "/Users/matthewbatchelor/anaconda3/lib/python3.11/site-packages/sklearn/cluster/_kmeans.py:1412: FutureWarning: The default value of `n_init` will change from 10 to 'auto' in 1.4. Set the value of `n_init` explicitly to suppress the warning\n",
      "  super()._check_params_vs_input(X, default_n_init=10)\n"
     ]
    },
    {
     "data": {
      "image/png": "[encoded data removed]",
      "text/plain": [
       "<Figure size 800x550 with 1 Axes>"
      ]
     },
     "metadata": {},
     "output_type": "display_data"
    },
    {
     "data": {
      "text/plain": [
       "<Axes: title={'center': 'Silhouette Plot of KMeans Clustering for 178 Samples in 6 Centers'}, xlabel='silhouette coefficient values', ylabel='cluster label'>"
      ]
     },
     "execution_count": 20,
     "metadata": {},
     "output_type": "execute_result"
    }
   ],
   "source": [
    "from yellowbrick.cluster import SilhouetteVisualizer\n",
    "model = KMeans(6, random_state=42)\n",
    "visualizer = SilhouetteVisualizer(model, colors='yellowbrick')\n",
    "visualizer.fit(X_scaled_df)        # Fit the data to the visualizer\n",
    "visualizer.show()        # Finalize and render the figure"
   ]
  },
  {
   "cell_type": "markdown",
   "metadata": {
    "id": "rQ7S4T2TtKz1"
   },
   "source": [
    "# Saving with pickle"
   ]
  },
  {
   "cell_type": "code",
   "execution_count": null,
   "metadata": {
    "executionInfo": {
     "elapsed": 432,
     "status": "ok",
     "timestamp": 1623850976766,
     "user": {
      "displayName": "Ignacio Soteras",
      "photoUrl": "",
      "userId": "02050793736257155229"
     },
     "user_tz": -120
    },
    "id": "w0DBvROTtNRZ"
   },
   "outputs": [],
   "source": [
    "import pickle\n",
    "\n",
    "#scaler = StandardScaler()\n",
    "#model = KMeans()\n",
    "\n",
    "with open(\"Model/scaler.pickle\", \"wb\") as f:\n",
    "    pickle.dump(scaler,f)\n",
    "\n",
    "with open(\"Model/kmeans_4.pickle\", \"wb\") as f:\n",
    "    pickle.dump(kmeans,f)"
   ]
  },
  {
   "cell_type": "code",
   "execution_count": null,
   "metadata": {
    "executionInfo": {
     "elapsed": 202,
     "status": "ok",
     "timestamp": 1623850160602,
     "user": {
      "displayName": "Ignacio Soteras",
      "photoUrl": "",
      "userId": "02050793736257155229"
     },
     "user_tz": -120
    },
    "id": "PLfjcUzbu1FF"
   },
   "outputs": [],
   "source": [
    "def load(filename = \"filename.pickle\"): \n",
    "    try: \n",
    "        with open(filename, \"rb\") as f: \n",
    "            return pickle.load(f) \n",
    "        \n",
    "    except FileNotFoundError: \n",
    "        print(\"File not found!\") \n"
   ]
  },
  {
   "cell_type": "code",
   "execution_count": null,
   "metadata": {},
   "outputs": [],
   "source": [
    "def load(filename = \"filename.pickle\"): \n",
    "    try: \n",
    "        with open(filename, \"rb\") as f: \n",
    "            return pickle.load(f) \n",
    "        \n",
    "    except FileNotFoundError: \n",
    "        print(\"File not found!\")"
   ]
  },
  {
   "cell_type": "code",
   "execution_count": null,
   "metadata": {},
   "outputs": [],
   "source": [
    "scaler= load(filename=\"Model/scaler.pickle\")"
   ]
  },
  {
   "cell_type": "code",
   "execution_count": null,
   "metadata": {},
   "outputs": [],
   "source": [
    "kmeans_model = load(filename=\"Model/kmeans_4.pickle\")"
   ]
  },
  {
   "cell_type": "code",
   "execution_count": null,
   "metadata": {},
   "outputs": [],
   "source": [
    "kmeans_model"
   ]
  },
  {
   "cell_type": "code",
   "execution_count": null,
   "metadata": {
    "colab": {
     "base_uri": "https://localhost:8080/"
    },
    "executionInfo": {
     "elapsed": 200,
     "status": "ok",
     "timestamp": 1623850190360,
     "user": {
      "displayName": "Ignacio Soteras",
      "photoUrl": "",
      "userId": "02050793736257155229"
     },
     "user_tz": -120
    },
    "id": "VqDGBIPVvBXG",
    "outputId": "cc0b5b59-d4f9-40ee-8c0b-d733de6570f0"
   },
   "outputs": [],
   "source": [
    "scaler2 = load(\"Model/scaler.pickle\")"
   ]
  },
  {
   "cell_type": "markdown",
   "metadata": {
    "id": "O1PJsX3yxY6r"
   },
   "source": [
    "# Time to work!"
   ]
  },
  {
   "cell_type": "markdown",
   "metadata": {
    "id": "ieomYz1Bxa0n"
   },
   "source": [
    "Time to clusterize the songs in your database and see what they look like. "
   ]
  }
 ],
 "metadata": {
  "colab": {
   "name": "code_along_KMeans_structure.ipynb",
   "provenance": []
  },
  "kernelspec": {
   "display_name": "Python 3 (ipykernel)",
   "language": "python",
   "name": "python3"
  },
  "language_info": {
   "codemirror_mode": {
    "name": "ipython",
    "version": 3
   },
   "file_extension": ".py",
   "mimetype": "text/x-python",
   "name": "python",
   "nbconvert_exporter": "python",
   "pygments_lexer": "ipython3",
   "version": "3.11.5"
  },
  "toc": {
   "base_numbering": 1,
   "nav_menu": {},
   "number_sections": true,
   "sideBar": true,
   "skip_h1_title": false,
   "title_cell": "Table of Contents",
   "title_sidebar": "Contents",
   "toc_cell": false,
   "toc_position": {},
   "toc_section_display": true,
   "toc_window_display": false
  }
 },
 "nbformat": 4,
 "nbformat_minor": 4
}
