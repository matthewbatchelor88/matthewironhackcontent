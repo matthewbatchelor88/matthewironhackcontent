{
 "cells": [
  {
   "cell_type": "code",
   "execution_count": 20,
   "id": "46a4a33b-bc21-4425-b5e0-09e296597888",
   "metadata": {
    "tags": []
   },
   "outputs": [
    {
     "name": "stdin",
     "output_type": "stream",
     "text": [
      "\u001b[1m\u001b[94m🎵 Please enter the name of a song. Tip: include the artist name for better results: \u001b[0m craig david let's dance\n"
     ]
    },
    {
     "name": "stdout",
     "output_type": "stream",
     "text": [
      "\u001b[1m\u001b[92m👍 You've entered: craig david let's dance\n",
      "\u001b[1m\u001b[94m🎧 Your initial selection will be displayed below.\n"
     ]
    },
    {
     "data": {
      "text/html": [
       "\n",
       "        <iframe\n",
       "            width=\"320\"\n",
       "            height=\"80\"\n",
       "            src=\"https://open.spotify.com/embed/track/1xHQVFM5gwg2bZJq9txEzH?frameborder=0&allowtransparency=true&allow=encrypted-media\"\n",
       "            frameborder=\"0\"\n",
       "            allowfullscreen\n",
       "            \n",
       "        ></iframe>\n",
       "        "
      ],
      "text/plain": [
       "<IPython.lib.display.IFrame at 0x123f11150>"
      ]
     },
     "metadata": {},
     "output_type": "display_data"
    },
    {
     "name": "stdout",
     "output_type": "stream",
     "text": [
      "\u001b[1m\u001b[94m🎉 Here's your recommendation:\n"
     ]
    },
    {
     "data": {
      "text/html": [
       "\n",
       "        <iframe\n",
       "            width=\"320\"\n",
       "            height=\"80\"\n",
       "            src=\"https://open.spotify.com/embed/track/0IQtVnNYbcTKQYjC6WG4HT?frameborder=0&allowtransparency=true&allow=encrypted-media\"\n",
       "            frameborder=\"0\"\n",
       "            allowfullscreen\n",
       "            \n",
       "        ></iframe>\n",
       "        "
      ],
      "text/plain": [
       "<IPython.lib.display.IFrame at 0x128c7a250>"
      ]
     },
     "metadata": {},
     "output_type": "display_data"
    },
    {
     "name": "stdin",
     "output_type": "stream",
     "text": [
      "\u001b[1m\u001b[93m❓ Would you like to get another recommendation? (yes/no):  yes\n",
      "\u001b[1m\u001b[94m🎵 Please enter the name of a song. Tip: include the artist name for better results: \u001b[0m david bowie heroes\n"
     ]
    },
    {
     "name": "stdout",
     "output_type": "stream",
     "text": [
      "\u001b[1m\u001b[92m👍 You've entered: david bowie heroes\n",
      "\u001b[1m\u001b[94m🎧 Your initial selection will be displayed below.\n"
     ]
    },
    {
     "data": {
      "text/html": [
       "\n",
       "        <iframe\n",
       "            width=\"320\"\n",
       "            height=\"80\"\n",
       "            src=\"https://open.spotify.com/embed/track/7Jh1bpe76CNTCgdgAdBw4Z?frameborder=0&allowtransparency=true&allow=encrypted-media\"\n",
       "            frameborder=\"0\"\n",
       "            allowfullscreen\n",
       "            \n",
       "        ></iframe>\n",
       "        "
      ],
      "text/plain": [
       "<IPython.lib.display.IFrame at 0x12a46e650>"
      ]
     },
     "metadata": {},
     "output_type": "display_data"
    },
    {
     "name": "stdout",
     "output_type": "stream",
     "text": [
      "\u001b[1m\u001b[94m🎉 Here's your recommendation:\n"
     ]
    },
    {
     "data": {
      "text/html": [
       "\n",
       "        <iframe\n",
       "            width=\"320\"\n",
       "            height=\"80\"\n",
       "            src=\"https://open.spotify.com/embed/track/4aThNuFztJ15YremppiZUJ?frameborder=0&allowtransparency=true&allow=encrypted-media\"\n",
       "            frameborder=\"0\"\n",
       "            allowfullscreen\n",
       "            \n",
       "        ></iframe>\n",
       "        "
      ],
      "text/plain": [
       "<IPython.lib.display.IFrame at 0x12a464550>"
      ]
     },
     "metadata": {},
     "output_type": "display_data"
    },
    {
     "name": "stdin",
     "output_type": "stream",
     "text": [
      "\u001b[1m\u001b[93m❓ Would you like to get another recommendation? (yes/no):  no\n"
     ]
    },
    {
     "name": "stdout",
     "output_type": "stream",
     "text": [
      "\u001b[1m\u001b[91m🎵 Thank you for using our recommendation system!\n"
     ]
    }
   ],
   "source": [
    "import pandas as pd\n",
    "import numpy as np\n",
    "import config\n",
    "import spotipy\n",
    "from spotipy.oauth2 import SpotifyClientCredentials\n",
    "from sklearn.cluster import KMeans\n",
    "from sklearn.preprocessing import StandardScaler\n",
    "from IPython.display import IFrame\n",
    "\n",
    "# Initialize StandardScaler\n",
    "scaler = StandardScaler()\n",
    "\n",
    "# Import training data as csv\n",
    "df = pd.read_csv('my_music_training_data.csv')\n",
    "\n",
    "while True:\n",
    "    # Ask the user to input a song\n",
    "    song = input(\"\\033[1m\\033[94m🎵 Please enter the name of a song. Tip: include the artist name for better results: \\033[0m\") # This code includes some nice formatting\n",
    "\n",
    "    # Print the song name entered by the user\n",
    "    print(\"\\033[1m\\033[92m👍 You've entered:\", song) # This code includes some nice formatting\n",
    "\n",
    "    # Initialize SpotiPy with user credentials\n",
    "    sp = spotipy.Spotify(auth_manager=SpotifyClientCredentials(client_id=config.client_id,\n",
    "                                                               client_secret=config.client_secret))\n",
    "\n",
    "    # Query Spotify for user input and retrieve track id\n",
    "    song_result = sp.search(q=song, limit=1, type=\"track\")\n",
    "    track_id = song_result[\"tracks\"][\"items\"][0][\"id\"]\n",
    "\n",
    "    print(\"\\033[1m\\033[94m🎧 Your initial selection will be displayed below.\") # This code includes some nice formatting\n",
    "\n",
    "    # Embed input track \n",
    "    input_track_iframe = IFrame(src=\"https://open.spotify.com/embed/track/\" + track_id,\n",
    "                               width=\"320\",\n",
    "                               height=\"80\",\n",
    "                               frameborder=\"0\",\n",
    "                               allowtransparency=\"true\",\n",
    "                               allow=\"encrypted-media\")\n",
    "\n",
    "    # Display the input track\n",
    "    display(input_track_iframe)\n",
    "\n",
    "    # Retrieve audio features of input track \n",
    "    sp.audio_features(track_id)\n",
    "\n",
    "    # Create DataFrame from dictionary\n",
    "    sample_df = pd.DataFrame(sp.audio_features(track_id)).drop(columns=[\"id\", \"type\", \"uri\", \"track_href\", \"analysis_url\"])  # Remove non-numerical columns and ID\n",
    "\n",
    "    # Fit the scaler to the training data\n",
    "    scaler.fit(df.drop(columns=[\"id\", \"cluster\"]))\n",
    "\n",
    "    # Transform the sample data using the fitted scaler\n",
    "    sample_df_scaled = scaler.transform(sample_df)\n",
    "\n",
    "    # Define the Kmeans \n",
    "    kmeans = KMeans(n_clusters=1, n_init=10, random_state=1234)\n",
    "    kmeans.fit(sample_df_scaled)\n",
    "\n",
    "    # Get a recommendation\n",
    "    recommendation = df.sample()\n",
    "\n",
    "    print(\"\\033[1m\\033[94m🎉 Here's your recommendation:\") # This code includes some nice formatting\n",
    "\n",
    "    # Assuming recommendation.id is a NumPy array\n",
    "    recommendation_id = np.array(recommendation.id)\n",
    "\n",
    "    # Convert the NumPy array to a string\n",
    "    id_string = str(recommendation_id)\n",
    "\n",
    "    # Split the string by single quotes and take the second element (index 1)\n",
    "    recommendation_id_isolated = id_string.split(\"'\")[1]\n",
    "\n",
    "    # Display the recommendation\n",
    "    recommendation_iframe = IFrame(src=\"https://open.spotify.com/embed/track/\" + recommendation_id_isolated,\n",
    "                                   width=\"320\",\n",
    "                                   height=\"80\",\n",
    "                                   frameborder=\"0\",\n",
    "                                   allowtransparency=\"true\",\n",
    "                                   allow=\"encrypted-media\")\n",
    "    display(recommendation_iframe)\n",
    "\n",
    "    # Ask the user whether they'd like to get another recommendation or end the program\n",
    "    choice = input(\"\\033[1m\\033[93m❓ Would you like to get another recommendation? (yes/no): \") # This code includes some nice formatting\n",
    "    if choice.lower() != 'yes':\n",
    "        print(\"\\033[1m\\033[91m🎵 Thank you for using our recommendation system!\") # This code includes some nice formatting\n",
    "        break"
   ]
  },
  {
   "cell_type": "code",
   "execution_count": 23,
   "id": "de5a3949-a77c-4d72-be1b-c3e6453ad22c",
   "metadata": {
    "tags": []
   },
   "outputs": [],
   "source": [
    "import pandas as pd\n",
    "import numpy as np\n",
    "import config\n",
    "import spotipy\n",
    "from spotipy.oauth2 import SpotifyClientCredentials\n",
    "from sklearn.cluster import KMeans\n",
    "from sklearn.preprocessing import StandardScaler\n",
    "from IPython.display import IFrame\n",
    "\n",
    "def get_a_recommendation():\n",
    "    # Initialize StandardScaler\n",
    "    scaler = StandardScaler()\n",
    "\n",
    "    # Import training data as csv\n",
    "    df = pd.read_csv('my_music_training_data.csv')\n",
    "\n",
    "    while True:\n",
    "        # Ask the user to input a song\n",
    "        song = input(\"\\033[94m🎵 Please enter the name of a song. Tip: include the artist name for better results: \\033[0m\").strip()\n",
    "\n",
    "        # Print the song name entered by the user\n",
    "        print(\"\\033[1m\\033[92m👍 You've entered:\", song)\n",
    "\n",
    "        # Initialize SpotiPy with user credentials\n",
    "        sp = spotipy.Spotify(auth_manager=SpotifyClientCredentials(client_id=config.client_id,\n",
    "                                                                   client_secret=config.client_secret))\n",
    "\n",
    "        # Query Spotify for user input and retrieve track id\n",
    "        song_result = sp.search(q=song, limit=1, type=\"track\")\n",
    "        track_id = song_result[\"tracks\"][\"items\"][0][\"id\"]\n",
    "\n",
    "        print(\"\\033[1m\\033[94m🎧 Your initial selection will be displayed below.\")\n",
    "\n",
    "        # Embed input track \n",
    "        input_track_iframe = IFrame(src=\"https://open.spotify.com/embed/track/\" + track_id,\n",
    "                                   width=\"320\",\n",
    "                                   height=\"80\",\n",
    "                                   frameborder=\"0\",\n",
    "                                   allowtransparency=\"true\",\n",
    "                                   allow=\"encrypted-media\")\n",
    "\n",
    "        # Display the input track\n",
    "        display(input_track_iframe)\n",
    "\n",
    "        # Retrieve audio features of input track \n",
    "        sp.audio_features(track_id)\n",
    "\n",
    "        # Create DataFrame from dictionary\n",
    "        sample_df = pd.DataFrame(sp.audio_features(track_id)).drop(columns=[\"id\", \"type\", \"uri\", \"track_href\", \"analysis_url\"])  # Remove non-numerical columns and ID\n",
    "\n",
    "        # Fit the scaler to the training data\n",
    "        scaler.fit(df.drop(columns=[\"id\", \"cluster\"]))\n",
    "\n",
    "        # Transform the sample data using the fitted scaler\n",
    "        sample_df_scaled = scaler.transform(sample_df)\n",
    "\n",
    "        # Define the Kmeans \n",
    "        kmeans = KMeans(n_clusters=1, n_init=10, random_state=1234)\n",
    "        kmeans.fit(sample_df_scaled)\n",
    "\n",
    "        # Get a recommendation\n",
    "        recommendation = df.sample()\n",
    "\n",
    "        print(\"\\033[1m\\033[94m🎉 Here's your recommendation:\")\n",
    "\n",
    "        # Assuming recommendation.id is a NumPy array\n",
    "        recommendation_id = np.array(recommendation.id)\n",
    "\n",
    "        # Convert the NumPy array to a string\n",
    "        id_string = str(recommendation_id)\n",
    "\n",
    "        # Split the string by single quotes and take the second element (index 1)\n",
    "        recommendation_id_isolated = id_string.split(\"'\")[1]\n",
    "\n",
    "        # Display the recommendation\n",
    "        recommendation_iframe = IFrame(src=\"https://open.spotify.com/embed/track/\" + recommendation_id_isolated,\n",
    "                                       width=\"320\",\n",
    "                                       height=\"80\",\n",
    "                                       frameborder=\"0\",\n",
    "                                       allowtransparency=\"true\",\n",
    "                                       allow=\"encrypted-media\")\n",
    "        display(recommendation_iframe)\n",
    "\n",
    "        # Ask the user whether they'd like to get another recommendation or end the program\n",
    "        choice = input(\"\\033[1m\\033[93m❓ Would you like to get another recommendation? (yes/no): \")\n",
    "        if choice.lower() != 'yes':\n",
    "            print(\"\\033[1m\\033[91m🎵 Thank you for using our recommendation system!\")\n",
    "            break\n"
   ]
  },
  {
   "cell_type": "code",
   "execution_count": null,
   "id": "c8db91ee-6145-4197-95d9-9f56718144e3",
   "metadata": {},
   "outputs": [],
   "source": [
    "# The issue is that my model is predicting that every track will be in cluster 0 "
   ]
  }
 ],
 "metadata": {
  "kernelspec": {
   "display_name": "Python 3 (ipykernel)",
   "language": "python",
   "name": "python3"
  },
  "language_info": {
   "codemirror_mode": {
    "name": "ipython",
    "version": 3
   },
   "file_extension": ".py",
   "mimetype": "text/x-python",
   "name": "python",
   "nbconvert_exporter": "python",
   "pygments_lexer": "ipython3",
   "version": "3.11.5"
  }
 },
 "nbformat": 4,
 "nbformat_minor": 5
}
