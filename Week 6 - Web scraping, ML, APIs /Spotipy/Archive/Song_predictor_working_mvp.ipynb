{
 "cells": [
  {
   "cell_type": "code",
   "execution_count": 204,
   "id": "6af7c48b-015a-4122-b6de-679517d85664",
   "metadata": {
    "tags": []
   },
   "outputs": [],
   "source": [
    "import pandas as pd\n",
    "import numpy as np\n",
    "import config\n",
    "import functions\n",
    "import spotipy\n",
    "import random \n",
    "from fuzzywuzzy import fuzz #  fuzzy string matching techniques to identify similar strings in the DataFrame\n",
    "from spotipy.oauth2 import SpotifyClientCredentials\n",
    "from sklearn.cluster import KMeans\n",
    "from sklearn.preprocessing import StandardScaler\n",
    "from IPython.display import IFrame\n",
    "\n",
    "# Initialize scaler \n",
    "\n",
    "scaler = StandardScaler()\n",
    "\n",
    "df_billboard = pd.read_csv('billboard_hot_100_df.csv')\n",
    "\n",
    "df_my_music_training_data = pd.read_csv('my_music_training_data.csv')\n",
    "df = df_my_music_training_data"
   ]
  },
  {
   "cell_type": "code",
   "execution_count": 205,
   "id": "64afcbf9-78d6-48a1-84e3-e6825a131854",
   "metadata": {
    "tags": []
   },
   "outputs": [
    {
     "name": "stdin",
     "output_type": "stream",
     "text": [
      "Please enter the name of a song. Tip: include the artist name for better results:  not nineteen forever\n"
     ]
    },
    {
     "name": "stdout",
     "output_type": "stream",
     "text": [
      "The Spotify ID of this track is 1bSkRvS1uWHI1QL0aJbvyC\n",
      "You can listen to your selected track below\n"
     ]
    },
    {
     "data": {
      "text/html": [
       "\n",
       "        <iframe\n",
       "            width=\"320\"\n",
       "            height=\"80\"\n",
       "            src=\"https://open.spotify.com/embed/track/1bSkRvS1uWHI1QL0aJbvyC?frameborder=0&allowtransparency=true&allow=encrypted-media\"\n",
       "            frameborder=\"0\"\n",
       "            allowfullscreen\n",
       "            \n",
       "        ></iframe>\n",
       "        "
      ],
      "text/plain": [
       "<IPython.lib.display.IFrame at 0x137c65ad0>"
      ]
     },
     "metadata": {},
     "output_type": "display_data"
    },
    {
     "name": "stdout",
     "output_type": "stream",
     "text": [
      "\u001b[1m\u001b[91m😔 Your song doesn't seem to be hot.\n"
     ]
    },
    {
     "ename": "NotFittedError",
     "evalue": "This StandardScaler instance is not fitted yet. Call 'fit' with appropriate arguments before using this estimator.",
     "output_type": "error",
     "traceback": [
      "\u001b[0;31m---------------------------------------------------------------------------\u001b[0m",
      "\u001b[0;31mNotFittedError\u001b[0m                            Traceback (most recent call last)",
      "Cell \u001b[0;32mIn[205], line 59\u001b[0m\n\u001b[1;32m     56\u001b[0m sample_df \u001b[38;5;241m=\u001b[39m pd\u001b[38;5;241m.\u001b[39mDataFrame(audio_features, index\u001b[38;5;241m=\u001b[39m[\u001b[38;5;241m0\u001b[39m])\u001b[38;5;241m.\u001b[39mdrop(columns\u001b[38;5;241m=\u001b[39m[\u001b[38;5;124m\"\u001b[39m\u001b[38;5;124mid\u001b[39m\u001b[38;5;124m\"\u001b[39m, \u001b[38;5;124m\"\u001b[39m\u001b[38;5;124mtype\u001b[39m\u001b[38;5;124m\"\u001b[39m, \u001b[38;5;124m\"\u001b[39m\u001b[38;5;124muri\u001b[39m\u001b[38;5;124m\"\u001b[39m, \u001b[38;5;124m\"\u001b[39m\u001b[38;5;124mtrack_href\u001b[39m\u001b[38;5;124m\"\u001b[39m, \u001b[38;5;124m\"\u001b[39m\u001b[38;5;124manalysis_url\u001b[39m\u001b[38;5;124m\"\u001b[39m])\n\u001b[1;32m     58\u001b[0m \u001b[38;5;66;03m# Transform the sample data using the fitted scaler\u001b[39;00m\n\u001b[0;32m---> 59\u001b[0m sample_array_scaled \u001b[38;5;241m=\u001b[39m scaler\u001b[38;5;241m.\u001b[39mtransform(sample_df)\n\u001b[1;32m     61\u001b[0m \u001b[38;5;28;01mfrom\u001b[39;00m \u001b[38;5;21;01msklearn\u001b[39;00m\u001b[38;5;21;01m.\u001b[39;00m\u001b[38;5;21;01mcluster\u001b[39;00m \u001b[38;5;28;01mimport\u001b[39;00m KMeans\n\u001b[1;32m     63\u001b[0m \u001b[38;5;66;03m# Define the Kmeans \u001b[39;00m\n",
      "File \u001b[0;32m~/anaconda3/lib/python3.11/site-packages/sklearn/utils/_set_output.py:140\u001b[0m, in \u001b[0;36m_wrap_method_output.<locals>.wrapped\u001b[0;34m(self, X, *args, **kwargs)\u001b[0m\n\u001b[1;32m    138\u001b[0m \u001b[38;5;129m@wraps\u001b[39m(f)\n\u001b[1;32m    139\u001b[0m \u001b[38;5;28;01mdef\u001b[39;00m \u001b[38;5;21mwrapped\u001b[39m(\u001b[38;5;28mself\u001b[39m, X, \u001b[38;5;241m*\u001b[39margs, \u001b[38;5;241m*\u001b[39m\u001b[38;5;241m*\u001b[39mkwargs):\n\u001b[0;32m--> 140\u001b[0m     data_to_wrap \u001b[38;5;241m=\u001b[39m f(\u001b[38;5;28mself\u001b[39m, X, \u001b[38;5;241m*\u001b[39margs, \u001b[38;5;241m*\u001b[39m\u001b[38;5;241m*\u001b[39mkwargs)\n\u001b[1;32m    141\u001b[0m     \u001b[38;5;28;01mif\u001b[39;00m \u001b[38;5;28misinstance\u001b[39m(data_to_wrap, \u001b[38;5;28mtuple\u001b[39m):\n\u001b[1;32m    142\u001b[0m         \u001b[38;5;66;03m# only wrap the first output for cross decomposition\u001b[39;00m\n\u001b[1;32m    143\u001b[0m         return_tuple \u001b[38;5;241m=\u001b[39m (\n\u001b[1;32m    144\u001b[0m             _wrap_data_with_container(method, data_to_wrap[\u001b[38;5;241m0\u001b[39m], X, \u001b[38;5;28mself\u001b[39m),\n\u001b[1;32m    145\u001b[0m             \u001b[38;5;241m*\u001b[39mdata_to_wrap[\u001b[38;5;241m1\u001b[39m:],\n\u001b[1;32m    146\u001b[0m         )\n",
      "File \u001b[0;32m~/anaconda3/lib/python3.11/site-packages/sklearn/preprocessing/_data.py:1001\u001b[0m, in \u001b[0;36mStandardScaler.transform\u001b[0;34m(self, X, copy)\u001b[0m\n\u001b[1;32m    986\u001b[0m \u001b[38;5;28;01mdef\u001b[39;00m \u001b[38;5;21mtransform\u001b[39m(\u001b[38;5;28mself\u001b[39m, X, copy\u001b[38;5;241m=\u001b[39m\u001b[38;5;28;01mNone\u001b[39;00m):\n\u001b[1;32m    987\u001b[0m \u001b[38;5;250m    \u001b[39m\u001b[38;5;124;03m\"\"\"Perform standardization by centering and scaling.\u001b[39;00m\n\u001b[1;32m    988\u001b[0m \n\u001b[1;32m    989\u001b[0m \u001b[38;5;124;03m    Parameters\u001b[39;00m\n\u001b[0;32m   (...)\u001b[0m\n\u001b[1;32m    999\u001b[0m \u001b[38;5;124;03m        Transformed array.\u001b[39;00m\n\u001b[1;32m   1000\u001b[0m \u001b[38;5;124;03m    \"\"\"\u001b[39;00m\n\u001b[0;32m-> 1001\u001b[0m     check_is_fitted(\u001b[38;5;28mself\u001b[39m)\n\u001b[1;32m   1003\u001b[0m     copy \u001b[38;5;241m=\u001b[39m copy \u001b[38;5;28;01mif\u001b[39;00m copy \u001b[38;5;129;01mis\u001b[39;00m \u001b[38;5;129;01mnot\u001b[39;00m \u001b[38;5;28;01mNone\u001b[39;00m \u001b[38;5;28;01melse\u001b[39;00m \u001b[38;5;28mself\u001b[39m\u001b[38;5;241m.\u001b[39mcopy\n\u001b[1;32m   1004\u001b[0m     X \u001b[38;5;241m=\u001b[39m \u001b[38;5;28mself\u001b[39m\u001b[38;5;241m.\u001b[39m_validate_data(\n\u001b[1;32m   1005\u001b[0m         X,\n\u001b[1;32m   1006\u001b[0m         reset\u001b[38;5;241m=\u001b[39m\u001b[38;5;28;01mFalse\u001b[39;00m,\n\u001b[0;32m   (...)\u001b[0m\n\u001b[1;32m   1010\u001b[0m         force_all_finite\u001b[38;5;241m=\u001b[39m\u001b[38;5;124m\"\u001b[39m\u001b[38;5;124mallow-nan\u001b[39m\u001b[38;5;124m\"\u001b[39m,\n\u001b[1;32m   1011\u001b[0m     )\n",
      "File \u001b[0;32m~/anaconda3/lib/python3.11/site-packages/sklearn/utils/validation.py:1462\u001b[0m, in \u001b[0;36mcheck_is_fitted\u001b[0;34m(estimator, attributes, msg, all_or_any)\u001b[0m\n\u001b[1;32m   1459\u001b[0m     \u001b[38;5;28;01mraise\u001b[39;00m \u001b[38;5;167;01mTypeError\u001b[39;00m(\u001b[38;5;124m\"\u001b[39m\u001b[38;5;132;01m%s\u001b[39;00m\u001b[38;5;124m is not an estimator instance.\u001b[39m\u001b[38;5;124m\"\u001b[39m \u001b[38;5;241m%\u001b[39m (estimator))\n\u001b[1;32m   1461\u001b[0m \u001b[38;5;28;01mif\u001b[39;00m \u001b[38;5;129;01mnot\u001b[39;00m _is_fitted(estimator, attributes, all_or_any):\n\u001b[0;32m-> 1462\u001b[0m     \u001b[38;5;28;01mraise\u001b[39;00m NotFittedError(msg \u001b[38;5;241m%\u001b[39m {\u001b[38;5;124m\"\u001b[39m\u001b[38;5;124mname\u001b[39m\u001b[38;5;124m\"\u001b[39m: \u001b[38;5;28mtype\u001b[39m(estimator)\u001b[38;5;241m.\u001b[39m\u001b[38;5;18m__name__\u001b[39m})\n",
      "\u001b[0;31mNotFittedError\u001b[0m: This StandardScaler instance is not fitted yet. Call 'fit' with appropriate arguments before using this estimator."
     ]
    }
   ],
   "source": [
    "# Initiate model \n",
    "# Input not sensitive to case \n",
    "song = input(\"Please enter the name of a song. Tip: include the artist name for better results: \").lower()\n",
    "\n",
    "# Search for the song on Spotify\n",
    "\n",
    "# Initialize SpotiPy with user credentials\n",
    "sp = spotipy.Spotify(auth_manager=SpotifyClientCredentials(client_id=config.client_id,\n",
    "                                                           client_secret=config.client_secret))\n",
    "song_result = sp.search(q=song, limit=1, type=\"track\")\n",
    "matching_track_id = song_result[\"tracks\"][\"items\"][0][\"id\"]\n",
    "print(\"The Spotify ID of this track is\", matching_track_id)\n",
    "\n",
    "# Embed the input track \n",
    "print(\"You can listen to your selected track below\")\n",
    "input_track_iframe = IFrame(src=\"https://open.spotify.com/embed/track/\"+matching_track_id,\n",
    "                           width=\"320\",\n",
    "                           height=\"80\",\n",
    "                           frameborder=\"0\",\n",
    "                           allowtransparency=\"true\",\n",
    "                           allow=\"encrypted-media\")\n",
    "display(input_track_iframe)\n",
    "\n",
    "# Check if the user input is similar to any value in the DataFrame\n",
    "matching_songs = df_billboard[df_billboard['songs'].apply(lambda x: fuzz.partial_ratio(song.lower(), x.lower())) > threshold]\n",
    "\n",
    "if not matching_songs.empty:\n",
    "    print(\"\\033[91m🔥 Your song is hot! 🔥\\033[0m\")\n",
    "    \n",
    "    # Retrieve a random song from the Billboard Hot 100 as a recommendation\n",
    "    if not similar_songs.empty:\n",
    "        recommendation = df_billboard.sample()\n",
    "        print(\"\\033[1m👇 Here's another hot song from the Billboard Hot 100 as a recommendation:\\033[0m\")\n",
    "        print(recommendation)\n",
    "        \n",
    "        recommendation_song_name = recommendation.iloc[0]['songs']  # Assuming 'songs' is the column containing the song names\n",
    "        song_result = sp.search(q=recommendation_song_name, limit=1, type=\"track\")\n",
    "        matching_track_id = song_result[\"tracks\"][\"items\"][0][\"id\"]\n",
    "        print(\"The Spotify ID of this track is\", matching_track_id)\n",
    "\n",
    "        # Embed the input track \n",
    "        print(\"You can listen to the recommended track below\")\n",
    "        input_track_iframe = IFrame(src=\"https://open.spotify.com/embed/track/\"+matching_track_id,\n",
    "                           width=\"320\",\n",
    "                           height=\"80\",\n",
    "                           frameborder=\"0\",\n",
    "                           allowtransparency=\"true\",\n",
    "                           allow=\"encrypted-media\")\n",
    "        display(input_track_iframe)\n",
    "    \n",
    "else:\n",
    "    print(\"\\033[1m\\033[91m😔 Your song doesn't seem to be hot.\")\n",
    "    audio_features = sp.audio_features(matching_track_id)[0]\n",
    "    \n",
    "    # Create DataFrame from dictionary\n",
    "    sample_df = pd.DataFrame(audio_features, index=[0]).drop(columns=[\"id\", \"type\", \"uri\", \"track_href\", \"analysis_url\"])\n",
    "\n",
    "    # Transform the sample data using the fitted scaler\n",
    "    sample_array_scaled = scaler.transform(sample_df)\n",
    "    \n",
    "    from sklearn.cluster import KMeans\n",
    "    \n",
    "    # Define the Kmeans \n",
    "    kmeans.fit(sample_array_scaled)\n",
    "\n",
    "    # Predict the cluster of the track \n",
    "    \n",
    "    sample_pred = kmeans.predict(sample_array_scaled)\n",
    "    sample_cluster = sample_pred[0]\n",
    "    sample_cluster\n",
    "    \n",
    "    print(\"We predict that your chosen song falls into cluster: \", sample_cluster)\n",
    "    \n",
    "    # Retrieve a random song from the same cluster in the DataFrame as a recommendation\n",
    "    recommendation = df[df['cluster'] == sample_cluster].sample()\n",
    "    \n",
    "    # Assuming recommendation.id is a NumPy array\n",
    "    recommendation_id = np.array(recommendation.id)[0]\n",
    "\n",
    "    # Embed the recommended song\n",
    "    recommendation_iframe = IFrame(src=\"https://open.spotify.com/embed/track/\" + recommendation_id,\n",
    "                                   width=\"320\",\n",
    "                                   height=\"80\",\n",
    "                                   frameborder=\"0\",\n",
    "                                   allowtransparency=\"true\",\n",
    "                                   allow=\"encrypted-media\")\n",
    "    \n",
    "    # Print a message about the recommendation\n",
    "    print(\"\\033[1m\\033[94m🎉 Fear not! Here's a recommendation for you:\")\n",
    "    display(recommendation_iframe)"
   ]
  },
  {
   "cell_type": "code",
   "execution_count": null,
   "id": "2f954f76-fd6f-4f65-afa7-35784e877db6",
   "metadata": {},
   "outputs": [],
   "source": [
    "# Can't seem to predict cluster "
   ]
  }
 ],
 "metadata": {
  "kernelspec": {
   "display_name": "Python 3 (ipykernel)",
   "language": "python",
   "name": "python3"
  },
  "language_info": {
   "codemirror_mode": {
    "name": "ipython",
    "version": 3
   },
   "file_extension": ".py",
   "mimetype": "text/x-python",
   "name": "python",
   "nbconvert_exporter": "python",
   "pygments_lexer": "ipython3",
   "version": "3.11.5"
  }
 },
 "nbformat": 4,
 "nbformat_minor": 5
}
