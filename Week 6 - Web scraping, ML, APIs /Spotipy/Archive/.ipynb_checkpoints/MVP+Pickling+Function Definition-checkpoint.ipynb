{
 "cells": [
  {
   "cell_type": "code",
   "execution_count": 40,
   "id": "41f89ac1-1034-4e5c-adc3-379615ec5896",
   "metadata": {
    "tags": []
   },
   "outputs": [
    {
     "name": "stdin",
     "output_type": "stream",
     "text": [
      "Please enter the name of a song. Tip: include the artist name for optimal results:  billie eilish ocean eyes\n"
     ]
    },
    {
     "name": "stdout",
     "output_type": "stream",
     "text": [
      "You entered the search: billie eilish ocean eyes\n",
      "\u001b[1m\u001b[91m😔 Your song doesn't seem to be hot. Fear not! We're cooking something up for you.\n",
      "Your input track is: \n",
      "Cluster check:  1\n"
     ]
    },
    {
     "data": {
      "text/html": [
       "\n",
       "        <iframe\n",
       "            width=\"320\"\n",
       "            height=\"80\"\n",
       "            src=\"https://open.spotify.com/embed/track/7hDVYcQq6MxkdJGweuCtl9?frameborder=0&allowtransparency=true&allow=encrypted-media\"\n",
       "            frameborder=\"0\"\n",
       "            allowfullscreen\n",
       "            \n",
       "        ></iframe>\n",
       "        "
      ],
      "text/plain": [
       "<IPython.lib.display.IFrame at 0x1334a91d0>"
      ]
     },
     "metadata": {},
     "output_type": "display_data"
    },
    {
     "name": "stdout",
     "output_type": "stream",
     "text": [
      "🔥 Our recommendation is: 🔥\n"
     ]
    },
    {
     "data": {
      "text/html": [
       "\n",
       "        <iframe\n",
       "            width=\"320\"\n",
       "            height=\"80\"\n",
       "            src=\"https://open.spotify.com/embed/track/2D26wSZKpvRa4InxXW8lNu?frameborder=0&allowtransparency=true&allow=encrypted-media\"\n",
       "            frameborder=\"0\"\n",
       "            allowfullscreen\n",
       "            \n",
       "        ></iframe>\n",
       "        "
      ],
      "text/plain": [
       "<IPython.lib.display.IFrame at 0x1321281d0>"
      ]
     },
     "metadata": {},
     "output_type": "display_data"
    }
   ],
   "source": [
    "import numpy as np\n",
    "import pandas as pd\n",
    "import pickle\n",
    "from sklearn import datasets # sklearn comes with some toy datasets to practice\n",
    "from sklearn.preprocessing import StandardScaler\n",
    "from sklearn.cluster import KMeans\n",
    "import matplotlib.pyplot as plt\n",
    "from sklearn.metrics import silhouette_score\n",
    "import config\n",
    "import spotipy\n",
    "from spotipy.oauth2 import SpotifyClientCredentials\n",
    "from fuzzywuzzy import fuzz #  fuzzy string matching techniques to identify similar strings in the DataFrame\n",
    "\n",
    "import warnings\n",
    "\n",
    "# Suppress the warning\n",
    "warnings.filterwarnings(\"ignore\", message=\"X does not have valid feature names\")\n",
    "\n",
    "df = pd.read_csv('my_music.csv') # Task: load the dataset \n",
    "\n",
    "# We are removing ID as we want to train our model exclusively on numerical variables\n",
    "\n",
    "df_noid = df.drop(\"id\", axis=1)\n",
    "\n",
    "scaler = StandardScaler()\n",
    "scaler.fit(df_noid)\n",
    "df_noid_scaled = scaler.transform(df_noid)\n",
    "X_scaled_df = pd.DataFrame(df_noid_scaled, columns = df_noid.columns)\n",
    "\n",
    "kmeans = KMeans(n_clusters=17, n_init = 5, random_state=1234)\n",
    "kmeans.fit(X_scaled_df)\n",
    "\n",
    "labels = kmeans.labels_\n",
    "\n",
    "clusters = kmeans.predict(X_scaled_df)\n",
    "#clusters\n",
    "pd.Series(clusters).value_counts().sort_index()\n",
    "\n",
    "df[\"cluster\"] = clusters\n",
    "\n",
    "# Ask the user to input a song\n",
    "song = input(\"Please enter the name of a song. Tip: include the artist name for optimal results: \")\n",
    "\n",
    "# Print the song name entered by the user\n",
    "print(\"You entered the search:\", song)\n",
    "\n",
    "#Initialize SpotiPy with user credentials\n",
    "sp = spotipy.Spotify(auth_manager=SpotifyClientCredentials(client_id= config.client_id,\n",
    "                                                           client_secret= config.client_secret))\n",
    "\n",
    "song_result = sp.search(q=song,limit = 1, type = \"track\")\n",
    "track_id=song_result[\"tracks\"][\"items\"][0][\"id\"]\n",
    "\n",
    "sp.audio_features(track_id)\n",
    "\n",
    "df_billboard = pd.read_csv('billboard_hot_100_df.csv')\n",
    "\n",
    "# Check if the user input is similar to any value in the DataFrame\n",
    "matching_songs = df_billboard[df_billboard['songs'].apply(lambda x: fuzz.partial_ratio(song.lower(), x.lower())) > 80]\n",
    "\n",
    "if not matching_songs.empty:\n",
    "    print(\"\\033[91m🔥 Your song is hot! 🔥\\033[0m\")\n",
    "    \n",
    "    # Retrieve a random song from the Billboard Hot 100 as a recommendation\n",
    "    if not matching_songs.empty:\n",
    "        recommendation = df_billboard.sample()\n",
    "        print(\"\\033[1m👇 Here's another hot song from the Billboard Hot 100 as a recommendation:\\033[0m\")\n",
    "        print(recommendation)\n",
    "        \n",
    "        recommendation_song_name = recommendation.iloc[0]['songs']  # Assuming 'songs' is the column containing the song names\n",
    "        song_result = sp.search(q=recommendation_song_name, limit=1, type=\"track\")\n",
    "        matching_track_id = song_result[\"tracks\"][\"items\"][0][\"id\"]\n",
    "        print(\"The Spotify ID of this track is\", matching_track_id)\n",
    "\n",
    "        # Embed the input track \n",
    "        print(\"You can listen to the recommended track below\")\n",
    "        input_track_iframe = IFrame(src=\"https://open.spotify.com/embed/track/\"+matching_track_id,\n",
    "                           width=\"320\",\n",
    "                           height=\"80\",\n",
    "                           frameborder=\"0\",\n",
    "                           allowtransparency=\"true\",\n",
    "                           allow=\"encrypted-media\")\n",
    "        display(input_track_iframe)\n",
    "    \n",
    "else:\n",
    "\n",
    "        print(\"\\033[1m\\033[91m😔 Your song doesn't seem to be hot. Fear not! We're cooking something up for you.\")\n",
    "        sample_df = pd.DataFrame(sp.audio_features(track_id)).drop(columns = [\"id\",\"type\",\"uri\",\"track_href\",\"analysis_url\"]) # Remove non-numerical columns and ID\n",
    "        sample_array_scaled = scaler.transform(sample_df)\n",
    "\n",
    "        from sklearn.cluster import KMeans\n",
    "\n",
    "        sample_pred = kmeans.predict(sample_array_scaled)\n",
    "        sample_cluster = sample_pred[0]\n",
    "\n",
    "        recommendation = df[df['cluster'] == sample_cluster].sample()\n",
    "\n",
    "        import numpy as np\n",
    "\n",
    "        # Assuming recommendation.id is a NumPy array\n",
    "        recommendation_id = np.array(recommendation.id)\n",
    "\n",
    "        # Convert the NumPy array to a string\n",
    "        id_string = str(recommendation_id)\n",
    "\n",
    "        # Split the string by single quotes and take the second element (index 1)\n",
    "        recommendation_id_isolated = id_string.split(\"'\")[1]\n",
    "\n",
    "        from IPython.display import IFrame, display\n",
    "\n",
    "        # Embed the input track\n",
    "        input_track_iframe = IFrame(src=\"https://open.spotify.com/embed/track/\"+track_id,\n",
    "                            width=\"320\",\n",
    "                            height=\"80\",\n",
    "                            frameborder=\"0\",\n",
    "                            allowtransparency=\"true\",\n",
    "                            allow=\"encrypted-media\")\n",
    "\n",
    "        # Embed the recommended track\n",
    "        recommendation_iframe = IFrame(src=\"https://open.spotify.com/embed/track/\"+recommendation_id_isolated,\n",
    "                               width=\"320\",\n",
    "                               height=\"80\",\n",
    "                               frameborder=\"0\",\n",
    "                               allowtransparency=\"true\",\n",
    "                               allow=\"encrypted-media\")\n",
    "\n",
    "        # Display both input and recommended tracks\n",
    "        print(\"Your input track is: \")\n",
    "        print(\"Cluster check: \", sample_cluster)\n",
    "        display(input_track_iframe)\n",
    "        print(\"\\U0001F525 Our recommendation is: \\U0001F525\")\n",
    "        display(recommendation_iframe) "
   ]
  },
  {
   "cell_type": "code",
   "execution_count": null,
   "id": "6b7e098f-06c1-4c36-8d61-3be6dd38662b",
   "metadata": {},
   "outputs": [],
   "source": []
  }
 ],
 "metadata": {
  "kernelspec": {
   "display_name": "Python 3 (ipykernel)",
   "language": "python",
   "name": "python3"
  },
  "language_info": {
   "codemirror_mode": {
    "name": "ipython",
    "version": 3
   },
   "file_extension": ".py",
   "mimetype": "text/x-python",
   "name": "python",
   "nbconvert_exporter": "python",
   "pygments_lexer": "ipython3",
   "version": "3.11.5"
  }
 },
 "nbformat": 4,
 "nbformat_minor": 5
}
