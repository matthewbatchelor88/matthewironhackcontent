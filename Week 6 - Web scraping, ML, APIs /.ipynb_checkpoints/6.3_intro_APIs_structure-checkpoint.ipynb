{
 "cells": [
  {
   "cell_type": "markdown",
   "metadata": {
    "id": "zh-PYxfcgrhV"
   },
   "source": [
    "# Sending requests"
   ]
  },
  {
   "cell_type": "code",
   "execution_count": null,
   "metadata": {
    "ExecuteTime": {
     "end_time": "2022-11-23T08:49:13.031294Z",
     "start_time": "2022-11-23T08:49:11.191194Z"
    },
    "colab": {
     "base_uri": "https://localhost:8080/"
    },
    "executionInfo": {
     "elapsed": 1463,
     "status": "ok",
     "timestamp": 1623744614582,
     "user": {
      "displayName": "Ignacio Soteras",
      "photoUrl": "",
      "userId": "02050793736257155229"
     },
     "user_tz": -120
    },
    "id": "j1WyMhv-grha",
    "outputId": "b40c8d1a-9d2c-4b27-fe08-deeea565f4ed"
   },
   "outputs": [],
   "source": [
    "import requests\n",
    "\n",
    "google = requests.get(\"https://developers.google.com\")\n",
    "print(\"Google:\", google.status_code)\n",
    "\n",
    "NBA = response = requests.get(\"https://api.sportsdata.io/api/nba/fantasy/json/CurrentSeason\")\n",
    "print(\"NBA:\", NBA.status_code)\n",
    "\n",
    "rotten_tomato = requests.get(\"http://api.rottentomatoes.com/api/public/v1.0/lists/movies/box_office.json\")\n",
    "print(\"Rotten Tomatoes:\", rotten_tomato.status_code)"
   ]
  },
  {
   "cell_type": "markdown",
   "metadata": {
    "id": "OaiYsaKHYD06"
   },
   "source": [
    "Check [here](https://www.restapitutorial.com/httpstatuscodes.html) the meaning of each error code."
   ]
  },
  {
   "cell_type": "markdown",
   "metadata": {
    "id": "A8Ot6WSNgrhe"
   },
   "source": [
    "### json response"
   ]
  },
  {
   "cell_type": "code",
   "execution_count": null,
   "metadata": {
    "ExecuteTime": {
     "end_time": "2022-11-23T08:49:14.630256Z",
     "start_time": "2022-11-23T08:49:14.429262Z"
    },
    "colab": {
     "base_uri": "https://localhost:8080/"
    },
    "executionInfo": {
     "elapsed": 324,
     "status": "ok",
     "timestamp": 1623744798948,
     "user": {
      "displayName": "Ignacio Soteras",
      "photoUrl": "",
      "userId": "02050793736257155229"
     },
     "user_tz": -120
    },
    "id": "S_UMIGb6grhf",
    "outputId": "950ebe6d-01d5-4284-a5ea-3895ed1f353c",
    "scrolled": true
   },
   "outputs": [],
   "source": [
    "# install if needed\n",
    "import json\n",
    "\n",
    "response = requests.get(\"https://jsonplaceholder.typicode.com/todos\")\n",
    "print(response.status_code)\n",
    "results = response.json()\n",
    "results[0][\"title\"]"
   ]
  },
  {
   "cell_type": "code",
   "execution_count": null,
   "metadata": {},
   "outputs": [],
   "source": [
    "results"
   ]
  },
  {
   "cell_type": "code",
   "execution_count": null,
   "metadata": {
    "ExecuteTime": {
     "end_time": "2022-11-23T08:49:16.952368Z",
     "start_time": "2022-11-23T08:49:16.752545Z"
    },
    "executionInfo": {
     "elapsed": 202,
     "status": "ok",
     "timestamp": 1623744874041,
     "user": {
      "displayName": "Ignacio Soteras",
      "photoUrl": "",
      "userId": "02050793736257155229"
     },
     "user_tz": -120
    },
    "id": "aQmu1IEngrhg"
   },
   "outputs": [],
   "source": [
    "import pandas as pd\n",
    "# json to pandas dataframe\n",
    "pd.DataFrame(results)"
   ]
  },
  {
   "cell_type": "markdown",
   "metadata": {
    "id": "AxV2Ov-Ugrhh"
   },
   "source": [
    "### GitHub API\n",
    "\n",
    "Docs here: https://docs.github.com/en/free-pro-team@latest/rest/reference/activity"
   ]
  },
  {
   "cell_type": "code",
   "execution_count": null,
   "metadata": {
    "ExecuteTime": {
     "end_time": "2022-11-23T08:49:20.363478Z",
     "start_time": "2022-11-23T08:49:19.759321Z"
    },
    "executionInfo": {
     "elapsed": 590,
     "status": "ok",
     "timestamp": 1623744888740,
     "user": {
      "displayName": "Ignacio Soteras",
      "photoUrl": "",
      "userId": "02050793736257155229"
     },
     "user_tz": -120
    },
    "id": "cOXq3MRNgrhi"
   },
   "outputs": [],
   "source": [
    "response = requests.get('https://api.github.com/events')"
   ]
  },
  {
   "cell_type": "code",
   "execution_count": null,
   "metadata": {
    "ExecuteTime": {
     "end_time": "2022-11-23T08:49:20.447263Z",
     "start_time": "2022-11-23T08:49:20.380723Z"
    },
    "colab": {
     "base_uri": "https://localhost:8080/"
    },
    "executionInfo": {
     "elapsed": 2504,
     "status": "ok",
     "timestamp": 1623744896236,
     "user": {
      "displayName": "Ignacio Soteras",
      "photoUrl": "",
      "userId": "02050793736257155229"
     },
     "user_tz": -120
    },
    "id": "1R_GygcVgrhj",
    "outputId": "5a2fe0c3-5fe0-456f-f43d-210caca40b2b"
   },
   "outputs": [],
   "source": [
    "response.json()"
   ]
  },
  {
   "cell_type": "code",
   "execution_count": null,
   "metadata": {
    "ExecuteTime": {
     "end_time": "2022-11-23T08:49:22.470424Z",
     "start_time": "2022-11-23T08:49:22.398480Z"
    },
    "colab": {
     "base_uri": "https://localhost:8080/",
     "height": 1000
    },
    "executionInfo": {
     "elapsed": 914,
     "status": "ok",
     "timestamp": 1617693453786,
     "user": {
      "displayName": "Ignacio Soteras",
      "photoUrl": "",
      "userId": "02050793736257155229"
     },
     "user_tz": -120
    },
    "id": "EEDtcmv4grhk",
    "outputId": "22517e69-66f5-4755-aef0-65fe090b46db",
    "scrolled": true
   },
   "outputs": [],
   "source": [
    "pd.DataFrame(response.json())"
   ]
  },
  {
   "cell_type": "code",
   "execution_count": null,
   "metadata": {
    "ExecuteTime": {
     "end_time": "2022-11-23T08:49:22.952910Z",
     "start_time": "2022-11-23T08:49:22.902322Z"
    },
    "colab": {
     "base_uri": "https://localhost:8080/",
     "height": 1000
    },
    "executionInfo": {
     "elapsed": 674,
     "status": "ok",
     "timestamp": 1623745032007,
     "user": {
      "displayName": "Ignacio Soteras",
      "photoUrl": "",
      "userId": "02050793736257155229"
     },
     "user_tz": -120
    },
    "id": "kXMNuTdjgrhl",
    "outputId": "f40d8125-45e1-4128-a3b4-588498ae00a6"
   },
   "outputs": [],
   "source": [
    "# to \"unpack\" all the columns, we can use pd.json_normalize()\n",
    "pd.json_normalize(response.json())"
   ]
  },
  {
   "cell_type": "markdown",
   "metadata": {
    "id": "egrfeG0Tgrhn"
   },
   "source": [
    "### Intenational Space Station\n",
    "\n",
    "Docs here: http://open-notify.org/Open-Notify-API/ISS-Location-Now/"
   ]
  },
  {
   "cell_type": "code",
   "execution_count": null,
   "metadata": {
    "ExecuteTime": {
     "end_time": "2022-11-23T08:50:23.687155Z",
     "start_time": "2022-11-23T08:50:23.307951Z"
    },
    "colab": {
     "base_uri": "https://localhost:8080/"
    },
    "executionInfo": {
     "elapsed": 643,
     "status": "ok",
     "timestamp": 1623745102391,
     "user": {
      "displayName": "Ignacio Soteras",
      "photoUrl": "",
      "userId": "02050793736257155229"
     },
     "user_tz": -120
    },
    "id": "3Ja01NXhgrho",
    "outputId": "ec5415d4-cb60-40fb-a31c-cbbe75fd62c6"
   },
   "outputs": [],
   "source": [
    "# Make a get request to get the latest position of the international space station from the opennotify api.\n",
    "response = requests.get(\"http://api.open-notify.org/iss-now.json\")\n",
    "# Print the status code of the response.\n",
    "response.status_code"
   ]
  },
  {
   "cell_type": "code",
   "execution_count": null,
   "metadata": {
    "ExecuteTime": {
     "end_time": "2022-11-23T08:50:25.051128Z",
     "start_time": "2022-11-23T08:50:25.045954Z"
    }
   },
   "outputs": [],
   "source": [
    "response.url"
   ]
  },
  {
   "cell_type": "code",
   "execution_count": null,
   "metadata": {
    "ExecuteTime": {
     "end_time": "2022-11-23T08:50:25.466283Z",
     "start_time": "2022-11-23T08:50:25.460431Z"
    },
    "colab": {
     "base_uri": "https://localhost:8080/"
    },
    "executionInfo": {
     "elapsed": 200,
     "status": "ok",
     "timestamp": 1623745168193,
     "user": {
      "displayName": "Ignacio Soteras",
      "photoUrl": "",
      "userId": "02050793736257155229"
     },
     "user_tz": -120
    },
    "id": "2NY9IpI2grhp",
    "outputId": "b65bb5d0-08a0-40d8-c760-f19eaa47aced"
   },
   "outputs": [],
   "source": [
    "response.json()"
   ]
  }
 ],
 "metadata": {
  "colab": {
   "name": "Intro_APIs_CodeAlong_Structure.ipynb",
   "provenance": [],
   "toc_visible": true
  },
  "kernelspec": {
   "display_name": "Python 3 (ipykernel)",
   "language": "python",
   "name": "python3"
  },
  "language_info": {
   "codemirror_mode": {
    "name": "ipython",
    "version": 3
   },
   "file_extension": ".py",
   "mimetype": "text/x-python",
   "name": "python",
   "nbconvert_exporter": "python",
   "pygments_lexer": "ipython3",
   "version": "3.9.17"
  },
  "toc": {
   "base_numbering": 1,
   "nav_menu": {},
   "number_sections": true,
   "sideBar": true,
   "skip_h1_title": false,
   "title_cell": "Table of Contents",
   "title_sidebar": "Contents",
   "toc_cell": false,
   "toc_position": {},
   "toc_section_display": true,
   "toc_window_display": false
  },
  "varInspector": {
   "cols": {
    "lenName": 16,
    "lenType": 16,
    "lenVar": 40
   },
   "kernels_config": {
    "python": {
     "delete_cmd_postfix": "",
     "delete_cmd_prefix": "del ",
     "library": "var_list.py",
     "varRefreshCmd": "print(var_dic_list())"
    },
    "r": {
     "delete_cmd_postfix": ") ",
     "delete_cmd_prefix": "rm(",
     "library": "var_list.r",
     "varRefreshCmd": "cat(var_dic_list()) "
    }
   },
   "types_to_exclude": [
    "module",
    "function",
    "builtin_function_or_method",
    "instance",
    "_Feature"
   ],
   "window_display": false
  }
 },
 "nbformat": 4,
 "nbformat_minor": 1
}
