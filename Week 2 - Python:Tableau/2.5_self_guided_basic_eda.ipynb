{
 "cells": [
  {
   "cell_type": "markdown",
   "id": "4a9842e3",
   "metadata": {
    "toc": true
   },
   "source": [
    "<h1>Table of Contents<span class=\"tocSkip\"></span></h1>\n",
    "<div class=\"toc\"><ul class=\"toc-item\"><li><span><a href=\"#Introduction-to-Exploratory-Data-Analysis-(EDA)\" data-toc-modified-id=\"Introduction-to-Exploratory-Data-Analysis-(EDA)-1\"><span class=\"toc-item-num\">1&nbsp;&nbsp;</span>Introduction to Exploratory Data Analysis (EDA)</a></span><ul class=\"toc-item\"><li><span><a href=\"#Data-Types\" data-toc-modified-id=\"Data-Types-1.1\"><span class=\"toc-item-num\">1.1&nbsp;&nbsp;</span>Data Types</a></span><ul class=\"toc-item\"><li><span><a href=\"#Numerical-or-Quantitative-Data\" data-toc-modified-id=\"Numerical-or-Quantitative-Data-1.1.1\"><span class=\"toc-item-num\">1.1.1&nbsp;&nbsp;</span>Numerical or Quantitative Data</a></span></li><li><span><a href=\"#Categorical-or-Qualitative-Data\" data-toc-modified-id=\"Categorical-or-Qualitative-Data-1.1.2\"><span class=\"toc-item-num\">1.1.2&nbsp;&nbsp;</span>Categorical or Qualitative Data</a></span></li></ul></li><li><span><a href=\"#Important-note\" data-toc-modified-id=\"Important-note-1.2\"><span class=\"toc-item-num\">1.2&nbsp;&nbsp;</span>Important note</a></span></li><li><span><a href=\"#Common-EDA-methods\" data-toc-modified-id=\"Common-EDA-methods-1.3\"><span class=\"toc-item-num\">1.3&nbsp;&nbsp;</span>Common EDA methods</a></span><ul class=\"toc-item\"><li><span><a href=\"#Summary-Statistics\" data-toc-modified-id=\"Summary-Statistics-1.3.1\"><span class=\"toc-item-num\">1.3.1&nbsp;&nbsp;</span>Summary Statistics</a></span></li><li><span><a href=\"#Visualizations\" data-toc-modified-id=\"Visualizations-1.3.2\"><span class=\"toc-item-num\">1.3.2&nbsp;&nbsp;</span>Visualizations</a></span><ul class=\"toc-item\"><li><span><a href=\"#For-numerical-continuous-variables\" data-toc-modified-id=\"For-numerical-continuous-variables-1.3.2.1\"><span class=\"toc-item-num\">1.3.2.1&nbsp;&nbsp;</span>For numerical continuous variables</a></span></li><li><span><a href=\"#For-categorical-or-discrete-variables\" data-toc-modified-id=\"For-categorical-or-discrete-variables-1.3.2.2\"><span class=\"toc-item-num\">1.3.2.2&nbsp;&nbsp;</span>For categorical or discrete variables</a></span></li></ul></li><li><span><a href=\"#Relationship-between-variables\" data-toc-modified-id=\"Relationship-between-variables-1.3.3\"><span class=\"toc-item-num\">1.3.3&nbsp;&nbsp;</span>Relationship between variables</a></span></li></ul></li><li><span><a href=\"#Summary\" data-toc-modified-id=\"Summary-1.4\"><span class=\"toc-item-num\">1.4&nbsp;&nbsp;</span>Summary</a></span></li></ul></li></ul></div>"
   ]
  },
  {
   "cell_type": "markdown",
   "id": "353ed4b9-396b-4433-b144-8863c3054c82",
   "metadata": {},
   "source": [
    "# Introduction to Exploratory Data Analysis (EDA)"
   ]
  },
  {
   "cell_type": "markdown",
   "id": "95dae48c-ac37-42e6-a4e0-bbddf33cf6fb",
   "metadata": {},
   "source": [
    "Today, our focus is on introducing the fundamental concepts of EDA to enable you to apply basic exploratory techniques in this quest, as well as in your Data Wrangling project. It will serve as a foundation for deriving insights from your clean data, setting the stage for more advanced analysis as we progress through the bootcamp."
   ]
  },
  {
   "cell_type": "markdown",
   "id": "4f1c73d8-a8e9-478a-902d-1702a54c98c2",
   "metadata": {},
   "source": [
    "Exploratory Data Analysis (EDA) is an essential part of data analysis, allowing you to summarize, visualize, and understand the underlying patterns within the data. It's used to:\n",
    "\n",
    "- Summarize the main aspects of the data\n",
    "- Understand the structure and relationships within the data\n",
    "- Detect outliers and anomalies\n",
    "- Test underlying assumptions\n",
    "- Develop insights that can inform further analysis\n"
   ]
  },
  {
   "cell_type": "markdown",
   "id": "6d7dedca-4f7d-4fc8-91b7-8c7cec41353f",
   "metadata": {},
   "source": [
    "## Data Types"
   ]
  },
  {
   "cell_type": "markdown",
   "id": "c6d1fb24-d719-4d57-bc23-c82a5d309157",
   "metadata": {},
   "source": [
    "**Data Types: Numerical vs. Categorical**\n",
    "\n",
    "Data can be broadly classified into different types, and the techniques we apply for analysis depend on the data type at hand. Let's explore the various data types and their corresponding methods for analysis.\n",
    "\n",
    "<p align=\"center\">\n",
    "  <img src=\"https://github.com/data-bootcamp-v4/prework_img/blob/main/data_types.png?raw=true\"  alt=\"data-types\" width=\"800\">\n",
    "</p>\n",
    "\n",
    "<p align=\"center\">\n",
    "    Source: <a href=\"https://quizlet.com/189358246/types-of-data-diagram/\">Quizlet</a>\n",
    "</p>\n"
   ]
  },
  {
   "cell_type": "markdown",
   "id": "3db5408f-7880-4152-af69-e393a447a658",
   "metadata": {},
   "source": [
    "\n",
    "### Numerical or Quantitative Data\n",
    "\n",
    "Numerical or quantitative data consists of values that **can be measured or counted**. When working with numerical data, **we focus on understanding the central tendency (measures of centrality) and the variability (measures of dispersion)** within the dataset.\n"
   ]
  },
  {
   "cell_type": "markdown",
   "id": "83d44e4a-712f-4d83-a7e9-c026700e4c3b",
   "metadata": {},
   "source": [
    "### Categorical or Qualitative Data\n",
    "\n",
    "Categorical or qualitative data represents variables that are **divided into distinct categories or groups**. When working with categorical data, **we focus on understanding the frequency counts and proportions within each category**.\n"
   ]
  },
  {
   "cell_type": "markdown",
   "id": "a76f4b32-ec04-4042-b221-a6c719082daa",
   "metadata": {},
   "source": [
    "## Important note\n",
    "\n",
    "1. In some cases, a **numerical or quantitative variable may represent a categorical or qualitative variable**. For example, if a dataset includes a column with numerical values representing different categories or labels, such as \"0\" for \"male\" and \"1\" for \"female,\" it should be treated as a categorical variable rather than a true numerical variable. Always consider the context and meaning of the data when determining the appropriate data type. *That's why in the first image there is a balloon where it says \"Categorical - made of words\"- coming out of it saying \"Or numbers (if they represent categories)\".*\n",
    "\n",
    "2. If data is not clean, and it has null values, or incorrect data formatting, this might lead to Python assuming numerical variables are Object, and we might wrongly assume they are categorical. "
   ]
  },
  {
   "cell_type": "markdown",
   "id": "74f4ed17-aedf-49d4-8c96-be7b99a4ecc2",
   "metadata": {},
   "source": [
    "## Common EDA methods \n",
    "\n",
    "- **Summary Statistics:** \n",
    "     - For numerical variables include the mean, median, standard deviation, minimum, and maximum values.\n",
    "     - For categorical variables, this might include the counts or frequencies of each category.\n",
    "- **Visualizations:** Graphs and plots to visually represent the data, such as:\n",
    "    - For numerical variables, histograms are used to show distribution and box plots to visualize spread and skewness.\n",
    "    - For categorical variables, bar charts are used to represent the frequency or count of categories, and pie charts to show the proportion of categories.\n",
    "- **Relationship Between Variables:** Understanding the relationships between different types of variables:\n",
    "    - Between categorical variables: stacked bar charts can be used to represent the frequency or count between categories. Chi-square test and Cramer's V correlation coefficient will be covered later on the course.\n",
    "    - Between numerical variables: Pearson's correlation coefficient can be used to quantify the linear relationship between two numerical variables. Scatter plots to show the relationship, or heatmaps for correlation matrices.\n",
    "    - Between numerical and categorical variables, box plots grouped by categories or violin plots can be used to help visualize the distribution of a numerical variable across different categories of a categorical variable.\n"
   ]
  },
  {
   "cell_type": "markdown",
   "id": "347eb454-f080-450c-a8a8-2fe545c31150",
   "metadata": {},
   "source": [
    "Lets look at an example using the following dataset:"
   ]
  },
  {
   "cell_type": "code",
   "execution_count": 14,
   "id": "ad8c8f2f-7c80-4ca0-bdc2-28be7158991e",
   "metadata": {},
   "outputs": [
    {
     "data": {
      "text/html": [
       "<div>\n",
       "<style scoped>\n",
       "    .dataframe tbody tr th:only-of-type {\n",
       "        vertical-align: middle;\n",
       "    }\n",
       "\n",
       "    .dataframe tbody tr th {\n",
       "        vertical-align: top;\n",
       "    }\n",
       "\n",
       "    .dataframe thead th {\n",
       "        text-align: right;\n",
       "    }\n",
       "</style>\n",
       "<table border=\"1\" class=\"dataframe\">\n",
       "  <thead>\n",
       "    <tr style=\"text-align: right;\">\n",
       "      <th></th>\n",
       "      <th>work_year</th>\n",
       "      <th>experience_level</th>\n",
       "      <th>employment_type</th>\n",
       "      <th>job_title</th>\n",
       "      <th>salary</th>\n",
       "      <th>salary_currency</th>\n",
       "      <th>salary_in_usd</th>\n",
       "      <th>employee_residence</th>\n",
       "      <th>remote_ratio</th>\n",
       "      <th>company_location</th>\n",
       "      <th>company_size</th>\n",
       "    </tr>\n",
       "  </thead>\n",
       "  <tbody>\n",
       "    <tr>\n",
       "      <th>0</th>\n",
       "      <td>2023</td>\n",
       "      <td>Senior</td>\n",
       "      <td>Full Time</td>\n",
       "      <td>Principal Data Scientist</td>\n",
       "      <td>80000</td>\n",
       "      <td>EUR</td>\n",
       "      <td>85847</td>\n",
       "      <td>ES</td>\n",
       "      <td>100</td>\n",
       "      <td>ES</td>\n",
       "      <td>Large</td>\n",
       "    </tr>\n",
       "    <tr>\n",
       "      <th>1</th>\n",
       "      <td>2023</td>\n",
       "      <td>Mid</td>\n",
       "      <td>Contract</td>\n",
       "      <td>ML Engineer</td>\n",
       "      <td>30000</td>\n",
       "      <td>USD</td>\n",
       "      <td>30000</td>\n",
       "      <td>US</td>\n",
       "      <td>100</td>\n",
       "      <td>US</td>\n",
       "      <td>Small</td>\n",
       "    </tr>\n",
       "    <tr>\n",
       "      <th>2</th>\n",
       "      <td>2023</td>\n",
       "      <td>Mid</td>\n",
       "      <td>Contract</td>\n",
       "      <td>ML Engineer</td>\n",
       "      <td>25500</td>\n",
       "      <td>USD</td>\n",
       "      <td>25500</td>\n",
       "      <td>US</td>\n",
       "      <td>100</td>\n",
       "      <td>US</td>\n",
       "      <td>Small</td>\n",
       "    </tr>\n",
       "    <tr>\n",
       "      <th>3</th>\n",
       "      <td>2023</td>\n",
       "      <td>Senior</td>\n",
       "      <td>Full Time</td>\n",
       "      <td>Data Scientist</td>\n",
       "      <td>175000</td>\n",
       "      <td>USD</td>\n",
       "      <td>175000</td>\n",
       "      <td>CA</td>\n",
       "      <td>100</td>\n",
       "      <td>CA</td>\n",
       "      <td>Medium</td>\n",
       "    </tr>\n",
       "    <tr>\n",
       "      <th>4</th>\n",
       "      <td>2023</td>\n",
       "      <td>Senior</td>\n",
       "      <td>Full Time</td>\n",
       "      <td>Data Scientist</td>\n",
       "      <td>120000</td>\n",
       "      <td>USD</td>\n",
       "      <td>120000</td>\n",
       "      <td>CA</td>\n",
       "      <td>100</td>\n",
       "      <td>CA</td>\n",
       "      <td>Medium</td>\n",
       "    </tr>\n",
       "  </tbody>\n",
       "</table>\n",
       "</div>"
      ],
      "text/plain": [
       "   work_year experience_level employment_type                 job_title  \\\n",
       "0       2023           Senior       Full Time  Principal Data Scientist   \n",
       "1       2023              Mid        Contract               ML Engineer   \n",
       "2       2023              Mid        Contract               ML Engineer   \n",
       "3       2023           Senior       Full Time            Data Scientist   \n",
       "4       2023           Senior       Full Time            Data Scientist   \n",
       "\n",
       "   salary salary_currency  salary_in_usd employee_residence  remote_ratio  \\\n",
       "0   80000             EUR          85847                 ES           100   \n",
       "1   30000             USD          30000                 US           100   \n",
       "2   25500             USD          25500                 US           100   \n",
       "3  175000             USD         175000                 CA           100   \n",
       "4  120000             USD         120000                 CA           100   \n",
       "\n",
       "  company_location company_size  \n",
       "0               ES        Large  \n",
       "1               US        Small  \n",
       "2               US        Small  \n",
       "3               CA       Medium  \n",
       "4               CA       Medium  "
      ]
     },
     "execution_count": 14,
     "metadata": {},
     "output_type": "execute_result"
    }
   ],
   "source": [
    "import pandas as pd\n",
    "\n",
    "df = pd.read_csv(\"https://raw.githubusercontent.com/data-bootcamp-v4/data/main/data_science_salaries.csv\")\n",
    "\n",
    "df.head()"
   ]
  },
  {
   "cell_type": "markdown",
   "id": "fb959233-ab8e-42b0-ab3c-b4ca388fa7bd",
   "metadata": {},
   "source": [
    "The dataset `data_science_salaries.csv` contains information about the salaries of various positions related to data science. Here's a summary of the columns:\n",
    "\n",
    "1. **work_year**: The year in which the salary was reported.\n",
    "2. **experience_level**: The experience level of the employee (e.g., Senior, Mid).\n",
    "3. **employment_type**: The type of employment (e.g., Full Time, Contract).\n",
    "4. **job_title**: The specific job title (e.g., Principal Data Scientist, ML Engineer).\n",
    "5. **salary**: The salary amount in the original currency.\n",
    "6. **salary_currency**: The currency in which the salary is paid.\n",
    "7. **salary_in_usd**: The salary amount converted to USD.\n",
    "8. **employee_residence**: The country code of the employee's residence.\n",
    "9. **remote_ratio**: The percentage of remote work.\n",
    "10. **company_location**: The country code of the company's location.\n",
    "11. **company_size**: The size of the company (e.g., Large, Medium, Small).\n",
    "\n",
    "Let's proceed with the EDA by exploring the following:\n",
    "\n",
    "1. Summary statistics of numerical columns.\n",
    "2. Distribution of experience levels, employment types, and company sizes.\n",
    "3. Salary distribution based on experience levels.\n",
    "4. Correlation between numerical features.\n",
    "\n"
   ]
  },
  {
   "cell_type": "markdown",
   "id": "6f3e01da-1551-4c98-a403-8b211d6a44dc",
   "metadata": {},
   "source": [
    "### Summary Statistics"
   ]
  },
  {
   "cell_type": "markdown",
   "id": "5a638fe6-1f19-4e22-a8a4-8e54b78c410c",
   "metadata": {},
   "source": [
    "If needed, you can review prework materials for an explanation on mean, median, mode, std, range, etc."
   ]
  },
  {
   "cell_type": "code",
   "execution_count": 15,
   "id": "3c7b3f4b-a8c8-4b9c-8da6-e32b58477b98",
   "metadata": {},
   "outputs": [
    {
     "data": {
      "text/html": [
       "<div>\n",
       "<style scoped>\n",
       "    .dataframe tbody tr th:only-of-type {\n",
       "        vertical-align: middle;\n",
       "    }\n",
       "\n",
       "    .dataframe tbody tr th {\n",
       "        vertical-align: top;\n",
       "    }\n",
       "\n",
       "    .dataframe thead th {\n",
       "        text-align: right;\n",
       "    }\n",
       "</style>\n",
       "<table border=\"1\" class=\"dataframe\">\n",
       "  <thead>\n",
       "    <tr style=\"text-align: right;\">\n",
       "      <th></th>\n",
       "      <th>work_year</th>\n",
       "      <th>salary</th>\n",
       "      <th>salary_in_usd</th>\n",
       "      <th>remote_ratio</th>\n",
       "    </tr>\n",
       "  </thead>\n",
       "  <tbody>\n",
       "    <tr>\n",
       "      <th>count</th>\n",
       "      <td>3755.000000</td>\n",
       "      <td>3.755000e+03</td>\n",
       "      <td>3755.000000</td>\n",
       "      <td>3755.000000</td>\n",
       "    </tr>\n",
       "    <tr>\n",
       "      <th>mean</th>\n",
       "      <td>2022.373635</td>\n",
       "      <td>1.906956e+05</td>\n",
       "      <td>137570.389880</td>\n",
       "      <td>46.271638</td>\n",
       "    </tr>\n",
       "    <tr>\n",
       "      <th>std</th>\n",
       "      <td>0.691448</td>\n",
       "      <td>6.716765e+05</td>\n",
       "      <td>63055.625278</td>\n",
       "      <td>48.589050</td>\n",
       "    </tr>\n",
       "    <tr>\n",
       "      <th>min</th>\n",
       "      <td>2020.000000</td>\n",
       "      <td>6.000000e+03</td>\n",
       "      <td>5132.000000</td>\n",
       "      <td>0.000000</td>\n",
       "    </tr>\n",
       "    <tr>\n",
       "      <th>25%</th>\n",
       "      <td>2022.000000</td>\n",
       "      <td>1.000000e+05</td>\n",
       "      <td>95000.000000</td>\n",
       "      <td>0.000000</td>\n",
       "    </tr>\n",
       "    <tr>\n",
       "      <th>50%</th>\n",
       "      <td>2022.000000</td>\n",
       "      <td>1.380000e+05</td>\n",
       "      <td>135000.000000</td>\n",
       "      <td>0.000000</td>\n",
       "    </tr>\n",
       "    <tr>\n",
       "      <th>75%</th>\n",
       "      <td>2023.000000</td>\n",
       "      <td>1.800000e+05</td>\n",
       "      <td>175000.000000</td>\n",
       "      <td>100.000000</td>\n",
       "    </tr>\n",
       "    <tr>\n",
       "      <th>max</th>\n",
       "      <td>2023.000000</td>\n",
       "      <td>3.040000e+07</td>\n",
       "      <td>450000.000000</td>\n",
       "      <td>100.000000</td>\n",
       "    </tr>\n",
       "  </tbody>\n",
       "</table>\n",
       "</div>"
      ],
      "text/plain": [
       "         work_year        salary  salary_in_usd  remote_ratio\n",
       "count  3755.000000  3.755000e+03    3755.000000   3755.000000\n",
       "mean   2022.373635  1.906956e+05  137570.389880     46.271638\n",
       "std       0.691448  6.716765e+05   63055.625278     48.589050\n",
       "min    2020.000000  6.000000e+03    5132.000000      0.000000\n",
       "25%    2022.000000  1.000000e+05   95000.000000      0.000000\n",
       "50%    2022.000000  1.380000e+05  135000.000000      0.000000\n",
       "75%    2023.000000  1.800000e+05  175000.000000    100.000000\n",
       "max    2023.000000  3.040000e+07  450000.000000    100.000000"
      ]
     },
     "execution_count": 15,
     "metadata": {},
     "output_type": "execute_result"
    }
   ],
   "source": [
    "# Summary for numerical variables\n",
    "df.describe()"
   ]
  },
  {
   "cell_type": "markdown",
   "id": "0b9e0ae8-2d62-4481-a42b-173a01517693",
   "metadata": {},
   "source": [
    "- **work_year**: The dataset contains data from the years 2020 to 2023.\n",
    "- **salary**: The salary amounts range from a minimum of 6,000 (in original currency) to a maximum of 30,400,000, with a mean of approximately 190,695. The large range and standard deviation may suggest outliers or different currencies being mixed.\n",
    "- **salary_in_usd**: The salaries converted to USD range from 5,132 to 450,000, with a mean of approximately 137,570.\n",
    "- **remote_ratio**: The remote work ratio ranges from 0% to 100%, with a mean of 46.27%. This suggests a mix of entirely on-site, entirely remote, and hybrid working arrangements."
   ]
  },
  {
   "cell_type": "code",
   "execution_count": 16,
   "id": "9ee106ac-8a7c-4b06-a29b-ffb2b3e3dcb3",
   "metadata": {},
   "outputs": [
    {
     "data": {
      "text/html": [
       "<div>\n",
       "<style scoped>\n",
       "    .dataframe tbody tr th:only-of-type {\n",
       "        vertical-align: middle;\n",
       "    }\n",
       "\n",
       "    .dataframe tbody tr th {\n",
       "        vertical-align: top;\n",
       "    }\n",
       "\n",
       "    .dataframe thead th {\n",
       "        text-align: right;\n",
       "    }\n",
       "</style>\n",
       "<table border=\"1\" class=\"dataframe\">\n",
       "  <thead>\n",
       "    <tr style=\"text-align: right;\">\n",
       "      <th></th>\n",
       "      <th>experience_level</th>\n",
       "      <th>employment_type</th>\n",
       "      <th>job_title</th>\n",
       "      <th>salary_currency</th>\n",
       "      <th>employee_residence</th>\n",
       "      <th>company_location</th>\n",
       "      <th>company_size</th>\n",
       "    </tr>\n",
       "  </thead>\n",
       "  <tbody>\n",
       "    <tr>\n",
       "      <th>count</th>\n",
       "      <td>3755</td>\n",
       "      <td>3755</td>\n",
       "      <td>3755</td>\n",
       "      <td>3755</td>\n",
       "      <td>3755</td>\n",
       "      <td>3755</td>\n",
       "      <td>3755</td>\n",
       "    </tr>\n",
       "    <tr>\n",
       "      <th>unique</th>\n",
       "      <td>4</td>\n",
       "      <td>4</td>\n",
       "      <td>93</td>\n",
       "      <td>20</td>\n",
       "      <td>78</td>\n",
       "      <td>72</td>\n",
       "      <td>3</td>\n",
       "    </tr>\n",
       "    <tr>\n",
       "      <th>top</th>\n",
       "      <td>Senior</td>\n",
       "      <td>Full Time</td>\n",
       "      <td>Data Engineer</td>\n",
       "      <td>USD</td>\n",
       "      <td>US</td>\n",
       "      <td>US</td>\n",
       "      <td>Medium</td>\n",
       "    </tr>\n",
       "    <tr>\n",
       "      <th>freq</th>\n",
       "      <td>2516</td>\n",
       "      <td>3718</td>\n",
       "      <td>1040</td>\n",
       "      <td>3224</td>\n",
       "      <td>3004</td>\n",
       "      <td>3040</td>\n",
       "      <td>3153</td>\n",
       "    </tr>\n",
       "  </tbody>\n",
       "</table>\n",
       "</div>"
      ],
      "text/plain": [
       "       experience_level employment_type      job_title salary_currency  \\\n",
       "count              3755            3755           3755            3755   \n",
       "unique                4               4             93              20   \n",
       "top              Senior       Full Time  Data Engineer             USD   \n",
       "freq               2516            3718           1040            3224   \n",
       "\n",
       "       employee_residence company_location company_size  \n",
       "count                3755             3755         3755  \n",
       "unique                 78               72            3  \n",
       "top                    US               US       Medium  \n",
       "freq                 3004             3040         3153  "
      ]
     },
     "execution_count": 16,
     "metadata": {},
     "output_type": "execute_result"
    }
   ],
   "source": [
    "# Summary for categorical (or object to be exact) variables \n",
    "df.describe(include=[\"O\"])"
   ]
  },
  {
   "cell_type": "markdown",
   "id": "cfbfe795-8c6f-4d11-bc9e-d7a0d09541fc",
   "metadata": {},
   "source": [
    "Most employees are classified as \"Senior,\" working \"Full Time,\" and primarily in \"Medium\" sized companies. The \"USD\" currency and the \"US\" location dominate the dataset. The diversity in job titles (93 unique) indicates a wide range of roles within the field."
   ]
  },
  {
   "cell_type": "code",
   "execution_count": 17,
   "id": "9525aaa7-575f-4c28-84a6-1693b100ba27",
   "metadata": {},
   "outputs": [
    {
     "data": {
      "text/plain": [
       "Senior    2516\n",
       "Mid        805\n",
       "Entry      320\n",
       "Expert     114\n",
       "Name: experience_level, dtype: int64"
      ]
     },
     "execution_count": 17,
     "metadata": {},
     "output_type": "execute_result"
    }
   ],
   "source": [
    "# Summary for categorical variable 'category'\n",
    "df['experience_level'].value_counts()"
   ]
  },
  {
   "cell_type": "code",
   "execution_count": null,
   "id": "e903cde2-a455-4f94-92a2-15cabe7fd9ce",
   "metadata": {},
   "outputs": [],
   "source": [
    "# Summary for categorical variables\n",
    "for column in df.describe(include=[\"O\"]).columns:\n",
    "    print(df[column].value_counts())\n",
    "    print()"
   ]
  },
  {
   "cell_type": "markdown",
   "id": "69031fd5-d48e-4619-a332-549d2ba2edca",
   "metadata": {},
   "source": [
    "### Visualizations"
   ]
  },
  {
   "cell_type": "markdown",
   "id": "8129bd3e-8bd4-4b66-8505-a483541a49dd",
   "metadata": {},
   "source": [
    "#### For numerical continuous variables"
   ]
  },
  {
   "cell_type": "markdown",
   "id": "54c71036-174e-4d8e-9d39-5282d7a4d492",
   "metadata": {},
   "source": [
    "The histogram will provide insights into the underlying distribution of the salaries in USD, including aspects like the central tendency, spread, skewness, and the presence of any outliers."
   ]
  },
  {
   "cell_type": "code",
   "execution_count": 21,
   "id": "52625aa9-6240-44ff-a324-116a2dd2bc0e",
   "metadata": {},
   "outputs": [
    {
     "data": {
      "text/plain": [
       "<AxesSubplot: xlabel='salary_in_usd', ylabel='Count'>"
      ]
     },
     "execution_count": 21,
     "metadata": {},
     "output_type": "execute_result"
    },
    {
     "data": {
      "image/png": "[encoded data removed]",
      "text/plain": [
       "<Figure size 640x480 with 1 Axes>"
      ]
     },
     "metadata": {},
     "output_type": "display_data"
    }
   ],
   "source": [
    "# For continuous variables: Histogram\n",
    "\n",
    "import seaborn as sns\n",
    "\n",
    "sns.histplot(df['salary_in_usd'], bins=100) "
   ]
  },
  {
   "cell_type": "markdown",
   "id": "26292fd3-0a79-4a6a-bad8-8a0998984383",
   "metadata": {},
   "source": [
    "\n",
    "The histogram represents the distribution of salaries in USD within the dataset, with the following insights:\n",
    "\n",
    "1. **Central Tendency**: Most of the salaries appear to be concentrated around the lower to middle range, with fewer occurrences in the higher salary range.\n",
    "2. **Spread**: The spread of the data is wide, with salaries ranging from very low to very high values.\n",
    "3. **Skewness**: The distribution appears to be right-skewed, meaning that the tail on the right side is longer or fatter than the left side. This indicates that there are a few individuals with exceptionally high salaries compared to the majority.\n",
    "4. **Outliers**: The long tail on the right side may also suggest the presence of outliers or exceptionally high salary values that are not typical of the general distribution.\n",
    "5. **Binning**: The use of 100 bins provides a detailed view of the data but may also lead to some noise, especially if the dataset has a wide range of values.\n",
    "\n",
    "This distribution could reflect the variations in salaries based on factors such as experience, job role, industry, geography, and other variables. "
   ]
  },
  {
   "cell_type": "markdown",
   "id": "c6999138-e514-406b-a725-813fe59d1a03",
   "metadata": {},
   "source": [
    "#### For categorical or discrete variables"
   ]
  },
  {
   "cell_type": "markdown",
   "id": "2cc10f69-6259-4e6b-ad2b-0625d6f632cf",
   "metadata": {},
   "source": [
    "Next, we'll visualize the distribution of experience levels, employment types, and company sizes to understand the composition of the dataset.\n",
    "\n",
    "We've already looked at it numerically, now we'll do so visually."
   ]
  },
  {
   "cell_type": "code",
   "execution_count": 27,
   "id": "5355c8a7-03c6-4249-9e99-888e0708c5d0",
   "metadata": {},
   "outputs": [
    {
     "data": {
      "text/plain": [
       "<AxesSubplot: xlabel='experience_level', ylabel='count'>"
      ]
     },
     "execution_count": 27,
     "metadata": {},
     "output_type": "execute_result"
    },
    {
     "data": {
      "image/png": "[encoded data removed]",
      "text/plain": [
       "<Figure size 640x480 with 1 Axes>"
      ]
     },
     "metadata": {},
     "output_type": "display_data"
    }
   ],
   "source": [
    "# Bar chart of job_title\n",
    "sns.countplot(x='experience_level', data=df)"
   ]
  },
  {
   "cell_type": "code",
   "execution_count": 42,
   "id": "962e8626-ded8-4e28-9bc8-90d279aa6665",
   "metadata": {},
   "outputs": [
    {
     "data": {
      "text/plain": [
       "<AxesSubplot: xlabel='employment_type', ylabel='count'>"
      ]
     },
     "execution_count": 42,
     "metadata": {},
     "output_type": "execute_result"
    },
    {
     "data": {
      "image/png": "[encoded data removed]",
      "text/plain": [
       "<Figure size 640x480 with 1 Axes>"
      ]
     },
     "metadata": {},
     "output_type": "display_data"
    }
   ],
   "source": [
    "sns.countplot(x='employment_type', data=df)"
   ]
  },
  {
   "cell_type": "code",
   "execution_count": 43,
   "id": "55f9543e-507f-4eda-8746-fb521dbbf6b3",
   "metadata": {},
   "outputs": [
    {
     "data": {
      "text/plain": [
       "<AxesSubplot: xlabel='company_size', ylabel='count'>"
      ]
     },
     "execution_count": 43,
     "metadata": {},
     "output_type": "execute_result"
    },
    {
     "data": {
      "image/png": "[encoded data removed]",
      "text/plain": [
       "<Figure size 640x480 with 1 Axes>"
      ]
     },
     "metadata": {},
     "output_type": "display_data"
    }
   ],
   "source": [
    "sns.countplot(x='company_size', data=df)"
   ]
  },
  {
   "cell_type": "markdown",
   "id": "554fcb79-663a-446b-8a38-35f98bc852fb",
   "metadata": {},
   "source": [
    "- **Experience Levels**: The dataset has a higher number of entries for \"Mid\" and \"Senior\" levels, with fewer entries for \"Junior\" and \"Lead\" levels.\n",
    "- **Employment Types**: Most of the entries are for \"Full Time\" positions, followed by \"Contract\" and a smaller number of \"Part Time\" positions.\n",
    "- **Company Sizes**: The distribution of company sizes shows a higher number of entries for \"Small\" and \"Medium\" companies, with fewer entries for \"Large\" companies."
   ]
  },
  {
   "cell_type": "markdown",
   "id": "37eb95da-547f-471e-87dc-551ac067e1fd",
   "metadata": {},
   "source": [
    "### Relationship between variables"
   ]
  },
  {
   "cell_type": "markdown",
   "id": "7fc3147d-6386-4869-9ddb-9fb7d26cb045",
   "metadata": {},
   "source": [
    "We'll create a scatter plot to visualize the relationship between the original salary and the salary in USD. "
   ]
  },
  {
   "cell_type": "code",
   "execution_count": 32,
   "id": "670b1588-befd-4564-b38e-a8196f8fa9b2",
   "metadata": {},
   "outputs": [
    {
     "data": {
      "text/plain": [
       "<AxesSubplot: xlabel='salary', ylabel='salary_in_usd'>"
      ]
     },
     "execution_count": 32,
     "metadata": {},
     "output_type": "execute_result"
    },
    {
     "data": {
      "image/png": "[encoded data removed]",
      "text/plain": [
       "<Figure size 640x480 with 1 Axes>"
      ]
     },
     "metadata": {},
     "output_type": "display_data"
    }
   ],
   "source": [
    "# Scatterplot for numerical variables\n",
    "sns.scatterplot(x = \"salary\", y = \"salary_in_usd\", data = df)"
   ]
  },
  {
   "cell_type": "markdown",
   "id": "41264880-c951-4afc-8579-941fc67c4389",
   "metadata": {},
   "source": [
    "The scatter plot does not reveal a clear linear relationship between the original salary and the salary in USD. The spread of data points is wide, and there is no discernible pattern."
   ]
  },
  {
   "cell_type": "markdown",
   "id": "5debaa04-2252-4a3f-801d-71b464fa7160",
   "metadata": {},
   "source": [
    "Additionally, we'll calculate the correlation coefficient to quantify this relationship."
   ]
  },
  {
   "cell_type": "markdown",
   "id": "d00e1985-c731-45a9-b212-7c58cabea255",
   "metadata": {},
   "source": [
    "Let's examine the correlation between the numerical features to identify any relationships between them.\n"
   ]
  },
  {
   "cell_type": "code",
   "execution_count": 28,
   "id": "36b5d61b-f40d-4499-a318-c985a65f7b97",
   "metadata": {},
   "outputs": [
    {
     "data": {
      "text/html": [
       "<div>\n",
       "<style scoped>\n",
       "    .dataframe tbody tr th:only-of-type {\n",
       "        vertical-align: middle;\n",
       "    }\n",
       "\n",
       "    .dataframe tbody tr th {\n",
       "        vertical-align: top;\n",
       "    }\n",
       "\n",
       "    .dataframe thead th {\n",
       "        text-align: right;\n",
       "    }\n",
       "</style>\n",
       "<table border=\"1\" class=\"dataframe\">\n",
       "  <thead>\n",
       "    <tr style=\"text-align: right;\">\n",
       "      <th></th>\n",
       "      <th>work_year</th>\n",
       "      <th>salary</th>\n",
       "      <th>salary_in_usd</th>\n",
       "      <th>remote_ratio</th>\n",
       "    </tr>\n",
       "  </thead>\n",
       "  <tbody>\n",
       "    <tr>\n",
       "      <th>work_year</th>\n",
       "      <td>1.000000</td>\n",
       "      <td>-0.094724</td>\n",
       "      <td>0.228290</td>\n",
       "      <td>-0.236430</td>\n",
       "    </tr>\n",
       "    <tr>\n",
       "      <th>salary</th>\n",
       "      <td>-0.094724</td>\n",
       "      <td>1.000000</td>\n",
       "      <td>-0.023676</td>\n",
       "      <td>0.028731</td>\n",
       "    </tr>\n",
       "    <tr>\n",
       "      <th>salary_in_usd</th>\n",
       "      <td>0.228290</td>\n",
       "      <td>-0.023676</td>\n",
       "      <td>1.000000</td>\n",
       "      <td>-0.064171</td>\n",
       "    </tr>\n",
       "    <tr>\n",
       "      <th>remote_ratio</th>\n",
       "      <td>-0.236430</td>\n",
       "      <td>0.028731</td>\n",
       "      <td>-0.064171</td>\n",
       "      <td>1.000000</td>\n",
       "    </tr>\n",
       "  </tbody>\n",
       "</table>\n",
       "</div>"
      ],
      "text/plain": [
       "               work_year    salary  salary_in_usd  remote_ratio\n",
       "work_year       1.000000 -0.094724       0.228290     -0.236430\n",
       "salary         -0.094724  1.000000      -0.023676      0.028731\n",
       "salary_in_usd   0.228290 -0.023676       1.000000     -0.064171\n",
       "remote_ratio   -0.236430  0.028731      -0.064171      1.000000"
      ]
     },
     "execution_count": 28,
     "metadata": {},
     "output_type": "execute_result"
    }
   ],
   "source": [
    "# Calculate the correlation matrix for numerical variables\n",
    "corr_matrix = df.corr()\n",
    "corr_matrix"
   ]
  },
  {
   "cell_type": "code",
   "execution_count": 29,
   "id": "38f556ce-cf6a-4dac-be57-cc8af6a7616e",
   "metadata": {},
   "outputs": [
    {
     "data": {
      "text/plain": [
       "<AxesSubplot: >"
      ]
     },
     "execution_count": 29,
     "metadata": {},
     "output_type": "execute_result"
    },
    {
     "data": {
      "image/png": "[encoded data removed]",
      "text/plain": [
       "<Figure size 640x480 with 2 Axes>"
      ]
     },
     "metadata": {},
     "output_type": "display_data"
    }
   ],
   "source": [
    "# Plot a heatmap for numerical variables\n",
    "sns.heatmap(corr_matrix, annot=True)"
   ]
  },
  {
   "cell_type": "markdown",
   "id": "59f49612-28ca-465f-8407-2e0ec506db14",
   "metadata": {},
   "source": [
    "The heatmap illustrates the correlation between numerical features:\n",
    "\n",
    "- **remote_ratio**: This feature does not show a significant correlation with either salary or salary_in_usd, indicating that the remote work ratio may not have a strong direct impact on salary amounts.\n",
    "- **salary** and **salary_in_usd**: The correlation coefficient is approximately −0.02, indicating a very weak negative correlation between the two variables.  The lack of a strong correlation between the original salary and the salary in USD suggests that the conversion between different currencies and the factors influencing salaries in different regions are complex."
   ]
  },
  {
   "cell_type": "markdown",
   "id": "566a9971-a693-450f-8996-a5050c34731f",
   "metadata": {},
   "source": [
    "```python \n",
    "# If we had many numerical continuous variables, we could do many scatterplots using a for loop\n",
    "\n",
    "df_numerical = df.select_dtypes(include = ['float64', 'int64'])\n",
    "\n",
    "for idx in df_numerical.columns:\n",
    "    df_numerical.plot(kind='scatter',\n",
    "          x=idx,\n",
    "          y='salary')\n",
    "    \n",
    "```"
   ]
  },
  {
   "cell_type": "markdown",
   "id": "18a0faea-8a03-4fcb-bdde-55b590da86cb",
   "metadata": {},
   "source": [
    "Next, let's visualize the salary distribution in USD based on experience levels to see how salaries vary with experience."
   ]
  },
  {
   "cell_type": "code",
   "execution_count": 24,
   "id": "c87a4590-16d2-4bf4-9be3-a310dfffa610",
   "metadata": {},
   "outputs": [
    {
     "data": {
      "text/plain": [
       "<AxesSubplot: xlabel='experience_level', ylabel='salary_in_usd'>"
      ]
     },
     "execution_count": 24,
     "metadata": {},
     "output_type": "execute_result"
    },
    {
     "data": {
      "image/png": "[encoded data removed]",
      "text/plain": [
       "<Figure size 640x480 with 1 Axes>"
      ]
     },
     "metadata": {},
     "output_type": "display_data"
    }
   ],
   "source": [
    "# Box plot for numerical and categorical variable\n",
    "sns.boxplot(x='experience_level', y='salary_in_usd', data=df)"
   ]
  },
  {
   "cell_type": "markdown",
   "id": "3b087261-0626-4b09-8ce5-4947165429cb",
   "metadata": {},
   "source": [
    "The boxplot illustrates the salary distribution in USD based on experience levels:\n",
    "\n",
    "- **Entry**: Salaries for entry positions have the lowest range and median.\n",
    "- **Mid**: Mid-level positions show a higher range and median salary compared to entry positions.\n",
    "- **Senior**: Senior positions have a more extensive range and higher median salary.\n",
    "- **Expert**: Expert positions have the highest range and median salary, reflecting the higher responsibility and expertise required for these roles.\n",
    "\n",
    "Some outliers are present in the data, particularly for the \"Senior\" and \"Mid\" experience levels. These could be due to factors like industry, location, or specific skill sets."
   ]
  },
  {
   "cell_type": "markdown",
   "id": "d7799a00",
   "metadata": {},
   "source": [
    "## Summary"
   ]
  },
  {
   "cell_type": "markdown",
   "id": "079a14db",
   "metadata": {},
   "source": [
    "In this lesson, you have been introduced to the concept of Exploratory Data Analysis (EDA), highlighting its crucial role in understanding the underlying structure of data, identifying outliers, detecting anomalies, testing hypotheses, and checking assumptions. \n",
    "\n",
    "- **Data Types**\n",
    "    - **Numerical or Quantitative Data**: Measurable or countable values, analyzed using measures of centrality and dispersion or visualization techniques.\n",
    "    - **Categorical or Qualitative Data**: Distinct categories or groups, analyzed using frequency counts and proportions or visualization techniques.\n",
    "\n",
    "    - **Important Note**\n",
    "        - Context and meaning of data is vital in determining the data type.\n",
    "        - Clean data is crucial to correct type determination.\n",
    "- **Common EDA Methods**\n",
    "    - **Summary Statistics**: Mean, median, standard deviation for numerical; counts or frequencies for categorical.\n",
    "    - **Visualizations**: Histograms, box plots for numerical; bar charts, pie charts for categorical.\n",
    "    - **Relationship Between Variables**: Scatter plots, correlation coefficients for numerical; stacked bar charts  for categorical.\n"
   ]
  }
 ],
 "metadata": {
  "kernelspec": {
   "display_name": "Python 3 (ipykernel)",
   "language": "python",
   "name": "python3"
  },
  "language_info": {
   "codemirror_mode": {
    "name": "ipython",
    "version": 3
   },
   "file_extension": ".py",
   "mimetype": "text/x-python",
   "name": "python",
   "nbconvert_exporter": "python",
   "pygments_lexer": "ipython3",
   "version": "3.9.13"
  },
  "toc": {
   "base_numbering": 1,
   "nav_menu": {},
   "number_sections": true,
   "sideBar": true,
   "skip_h1_title": false,
   "title_cell": "Table of Contents",
   "title_sidebar": "Contents",
   "toc_cell": true,
   "toc_position": {},
   "toc_section_display": true,
   "toc_window_display": false
  }
 },
 "nbformat": 4,
 "nbformat_minor": 5
}
